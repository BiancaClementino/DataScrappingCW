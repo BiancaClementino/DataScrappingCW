{
  "nbformat": 4,
  "nbformat_minor": 0,
  "metadata": {
    "colab": {
      "name": "coursework.ipynb",
      "provenance": [],
      "include_colab_link": true
    },
    "kernelspec": {
      "name": "python3",
      "display_name": "Python 3"
    }
  },
  "cells": [
    {
      "cell_type": "markdown",
      "metadata": {
        "id": "view-in-github",
        "colab_type": "text"
      },
      "source": [
        "<a href=\"https://colab.research.google.com/github/BiancaClementino/DataScrappingCW/blob/master/coursework.ipynb\" target=\"_parent\"><img src=\"https://colab.research.google.com/assets/colab-badge.svg\" alt=\"Open In Colab\"/></a>"
      ]
    },
    {
      "cell_type": "markdown",
      "metadata": {
        "id": "zuxDZTbdESm5",
        "colab_type": "text"
      },
      "source": [
        "# Data Analytics in Python II Coursework"
      ]
    },
    {
      "cell_type": "markdown",
      "metadata": {
        "id": "AKj1Wuxrletl",
        "colab_type": "text"
      },
      "source": [
        "Deadline: September 18th, 2019.\n",
        "\n",
        "Review Session: 3pm, September 11th, 2019."
      ]
    },
    {
      "cell_type": "markdown",
      "metadata": {
        "id": "IMydy7QokTAq",
        "colab_type": "text"
      },
      "source": [
        "https://en.wikipedia.org/wiki/Glossary_of_tennis_terms"
      ]
    },
    {
      "cell_type": "markdown",
      "metadata": {
        "id": "Hqm_5Nqm-yE1",
        "colab_type": "text"
      },
      "source": [
        "## Data Retrieval\n",
        "*35 Marks*"
      ]
    },
    {
      "cell_type": "markdown",
      "metadata": {
        "id": "uLH37drIEYqw",
        "colab_type": "text"
      },
      "source": [
        "### Information Profile \n",
        "*(15 marks)*\n",
        "\n",
        "You should explain which source you have decided to extract data from. You should explain why you have decided to extract this data, whether there are alternatives to scraping, whether the site has any particular usage restrictions. If possible, you should discuss the provenance (origin) of the data on the site itself, and the site's history (you may find web.archive.org useful to track a website's development). You should also discuss if anyone has extracted data from the website for use in visualisations previously. "
      ]
    },
    {
      "cell_type": "markdown",
      "metadata": {
        "id": "uPKByQVCITQr",
        "colab_type": "text"
      },
      "source": [
        ""
      ]
    },
    {
      "cell_type": "markdown",
      "metadata": {
        "id": "ufz4uaEWwgwe",
        "colab_type": "text"
      },
      "source": [
        "### Web Scraping Tools \n",
        "*(5 marks)*\n",
        "\n",
        "Please provide an introduction to the tools (modules, libraries, frameworks) used to extract information from an external source. Please also suggest resources that you have used to obtain information about the tools (this can include documentation, tutorials, websites, question threads). You should format links using Markdown and sensible titles.\n",
        "\n",
        "Suggestions include *Beautiful Soup*, *Scrapy*."
      ]
    },
    {
      "cell_type": "markdown",
      "metadata": {
        "id": "-8Ft40r89XMv",
        "colab_type": "text"
      },
      "source": [
        "### Web Scraping Code \n",
        "*(15 marks)*\n",
        "\n",
        "The code used to extract information from a website or set of websites. You might also choose to further transform the data extracted from the website in order to make it more useful for analysis."
      ]
    },
    {
      "cell_type": "markdown",
      "metadata": {
        "id": "NLfbMIEQ_HfB",
        "colab_type": "text"
      },
      "source": [
        "**Initial approach**"
      ]
    },
    {
      "cell_type": "code",
      "metadata": {
        "id": "P44Nk7lT-pcx",
        "colab_type": "code",
        "colab": {}
      },
      "source": [
        "#import requests\n",
        "#import json\n",
        "#from bs4 import BeautifulSoup\n",
        "\n",
        "#page = requests.get(\"https://www.wtatennis.com/gs-scores/2019/4\")\n",
        "#soup = BeautifulSoup(json.loads(page.content)[u'html'], 'html.parser')\n"
      ],
      "execution_count": 0,
      "outputs": []
    },
    {
      "cell_type": "code",
      "metadata": {
        "id": "R3BvfELRvQLe",
        "colab_type": "code",
        "colab": {}
      },
      "source": [
        "#print(soup.prettify())"
      ],
      "execution_count": 0,
      "outputs": []
    },
    {
      "cell_type": "code",
      "metadata": {
        "id": "cLuKSu8ivSJj",
        "colab_type": "code",
        "colab": {}
      },
      "source": [
        "#soup.find(\"div\",class_=\"singles-items\" ).get_text()"
      ],
      "execution_count": 0,
      "outputs": []
    },
    {
      "cell_type": "code",
      "metadata": {
        "id": "0wdJNaugvTlx",
        "colab_type": "code",
        "colab": {}
      },
      "source": [
        "#print(soup.find(\"tr\",class_=\"white\" ).get_text())"
      ],
      "execution_count": 0,
      "outputs": []
    },
    {
      "cell_type": "code",
      "metadata": {
        "id": "JdJjBun8vVDV",
        "colab_type": "code",
        "colab": {}
      },
      "source": [
        "#content=soup.find(\"div\",class_=\"singles-items\")\n",
        "#content"
      ],
      "execution_count": 0,
      "outputs": []
    },
    {
      "cell_type": "code",
      "metadata": {
        "id": "iy6cJ9yHvWzN",
        "colab_type": "code",
        "colab": {}
      },
      "source": [
        "#rows=content.find_all(\"tr\")"
      ],
      "execution_count": 0,
      "outputs": []
    },
    {
      "cell_type": "code",
      "metadata": {
        "id": "YHiVJUm-vZzl",
        "colab_type": "code",
        "colab": {}
      },
      "source": [
        "#filtering\n",
        "#\"Serena\" in rows[0].get_text()"
      ],
      "execution_count": 0,
      "outputs": []
    },
    {
      "cell_type": "code",
      "metadata": {
        "id": "o48KR9s9va-L",
        "colab_type": "code",
        "colab": {}
      },
      "source": [
        "#serena = [line for line in rows if \"Serena\" in line.get_text()]\n",
        "#serena"
      ],
      "execution_count": 0,
      "outputs": []
    },
    {
      "cell_type": "code",
      "metadata": {
        "id": "SKaZaX0Zvg6w",
        "colab_type": "code",
        "colab": {}
      },
      "source": [
        "#def filterByName (name):\n",
        "  #return [line for line in rows if name in line.get_text()]"
      ],
      "execution_count": 0,
      "outputs": []
    },
    {
      "cell_type": "code",
      "metadata": {
        "id": "wWgalEDGvhw7",
        "colab_type": "code",
        "colab": {}
      },
      "source": [
        "#Naomi=filterByName(\"Naomi\")"
      ],
      "execution_count": 0,
      "outputs": []
    },
    {
      "cell_type": "code",
      "metadata": {
        "id": "Ldd760o9vjLJ",
        "colab_type": "code",
        "colab": {}
      },
      "source": [
        "#Gauff=filterByName(\"Gauff\")\n",
        "#for i in Gauff:\n",
        " # print(i.get_text())"
      ],
      "execution_count": 0,
      "outputs": []
    },
    {
      "cell_type": "markdown",
      "metadata": {
        "id": "OKZIor7_a8FX",
        "colab_type": "text"
      },
      "source": [
        "**Another take to tackle the issue of players changing sides**"
      ]
    },
    {
      "cell_type": "code",
      "metadata": {
        "id": "t8W3qBLDt4XY",
        "colab_type": "code",
        "outputId": "e3de8861-0e26-4df5-8688-fcd9456ef646",
        "colab": {
          "base_uri": "https://localhost:8080/",
          "height": 235
        }
      },
      "source": [
        "#match1Stat=[]\n",
        "#for i in matchStats.find_all(\"td\"):\n",
        "#td is the main content part of the paage. It holds all the stats for each player \n",
        "  #print(i.get_text())\n",
        " # match1Stat.append(i.get_text())\n",
        "#here I am reusing this line of code from earlier. It extracts the name of the players.\n",
        "#leftPlayer = soup1.find(class_=\"home_t\").get_text()\n",
        "#rightPlayer = soup1.find(class_=\"away_t\").get_text()\n",
        "#Here I am cleaning up the data\n",
        "#match1Stats = [i.get_text() for i in matchStats.find_all(\"td\") if u\"\\xa0\" not in i.get_text()]\n",
        "#match1Stats"
      ],
      "execution_count": 0,
      "outputs": [
        {
          "output_type": "error",
          "ename": "NameError",
          "evalue": "ignored",
          "traceback": [
            "\u001b[0;31m---------------------------------------------------------------------------\u001b[0m",
            "\u001b[0;31mNameError\u001b[0m                                 Traceback (most recent call last)",
            "\u001b[0;32m<ipython-input-13-cc47ad5045e3>\u001b[0m in \u001b[0;36m<module>\u001b[0;34m()\u001b[0m\n\u001b[1;32m      1\u001b[0m \u001b[0mmatch1Stat\u001b[0m\u001b[0;34m=\u001b[0m\u001b[0;34m[\u001b[0m\u001b[0;34m]\u001b[0m\u001b[0;34m\u001b[0m\u001b[0;34m\u001b[0m\u001b[0m\n\u001b[0;32m----> 2\u001b[0;31m \u001b[0;32mfor\u001b[0m \u001b[0mi\u001b[0m \u001b[0;32min\u001b[0m \u001b[0mmatchStats\u001b[0m\u001b[0;34m.\u001b[0m\u001b[0mfind_all\u001b[0m\u001b[0;34m(\u001b[0m\u001b[0;34m\"td\"\u001b[0m\u001b[0;34m)\u001b[0m\u001b[0;34m:\u001b[0m\u001b[0;34m\u001b[0m\u001b[0;34m\u001b[0m\u001b[0m\n\u001b[0m\u001b[1;32m      3\u001b[0m \u001b[0;31m#td is the main content part of the paage. It holds all the stats for each player\u001b[0m\u001b[0;34m\u001b[0m\u001b[0;34m\u001b[0m\u001b[0;34m\u001b[0m\u001b[0m\n\u001b[1;32m      4\u001b[0m   \u001b[0mprint\u001b[0m\u001b[0;34m(\u001b[0m\u001b[0mi\u001b[0m\u001b[0;34m.\u001b[0m\u001b[0mget_text\u001b[0m\u001b[0;34m(\u001b[0m\u001b[0;34m)\u001b[0m\u001b[0;34m)\u001b[0m\u001b[0;34m\u001b[0m\u001b[0;34m\u001b[0m\u001b[0m\n\u001b[1;32m      5\u001b[0m   \u001b[0mmatch1Stat\u001b[0m\u001b[0;34m.\u001b[0m\u001b[0mappend\u001b[0m\u001b[0;34m(\u001b[0m\u001b[0mi\u001b[0m\u001b[0;34m.\u001b[0m\u001b[0mget_text\u001b[0m\u001b[0;34m(\u001b[0m\u001b[0;34m)\u001b[0m\u001b[0;34m)\u001b[0m\u001b[0;34m\u001b[0m\u001b[0;34m\u001b[0m\u001b[0m\n",
            "\u001b[0;31mNameError\u001b[0m: name 'matchStats' is not defined"
          ]
        }
      ]
    },
    {
      "cell_type": "code",
      "metadata": {
        "id": "BrrNUHvi2bD2",
        "colab_type": "code",
        "colab": {}
      },
      "source": [
        "#Creating a dictionary which will store the data that I will extract from the HTML\n",
        "#This will facilitate the process of moving the data into a panda's dataframe\n",
        "#data1 = {'left':[],'right':[],'name':[]}\n",
        "#for i, stat in enumerate(match1Stats[1:]):\n",
        " \n",
        "  #if (i-1) % 3 == 0:\n",
        "   # data1['name'].append(stat)\n",
        "  #elif (i) % 3==0 :\n",
        "   # data1['left'].append(stat)\n",
        "  #elif (i+1) % 3 ==0:\n",
        " #   data1['right'].append(stat)\n",
        "#data1\n",
        "\n",
        "# listMatchObject= []\n",
        "\n",
        "# for i in range(len(object['name'])):\n",
        "#   matchObject = {'name':object['name'][i],leftPlayer:object['left'][i],rightPlayer:object['right'][i]}\n",
        "#   listMatchObject.append(matchObject)\n",
        "  \n",
        "  \n",
        "# for j in listMatchObject:\n",
        "#   print(j)"
      ],
      "execution_count": 0,
      "outputs": []
    },
    {
      "cell_type": "code",
      "metadata": {
        "id": "aiFLyzczuAI7",
        "colab_type": "code",
        "colab": {}
      },
      "source": [
        "#import pandas as pd\n",
        "#using the data dictionary previously created to populate the columns of the new dataframe\n",
        "#stat = data1[\"name\"]\n",
        "#left = data1[\"left\"]\n",
        "#right = data1[\"right\"]\n",
        "# print(len(left),len(right),len(stat))\n",
        "\n",
        "\n",
        "#creating another dictionary which will be used to name the headers of the dataframe.\n",
        "#d = {\"Match Statistics\":stat}\n",
        "#here I am creating the left and right key which represent the players and the values will be based on the values held by the \"leftPlayer\" and \"rightPlayer\"\n",
        "#d[leftPlayer] = left\n",
        "#d[rightPlayer] = right\n",
        "\n",
        "\n",
        "#match1table = pd.DataFrame(d)\n",
        "#print(d.keys())"
      ],
      "execution_count": 0,
      "outputs": []
    },
    {
      "cell_type": "markdown",
      "metadata": {
        "id": "Vaj_fUhSKe0R",
        "colab_type": "text"
      },
      "source": [
        "This method of naming the headers and populating the dataframe is more efficient and it should work for any type of data that we gather from this page.\n",
        "\n",
        "This also means that this code can be used for any other wimbledon matches if not other Grand Slams (depending if the other Grand Slam's HTML behave the same way)"
      ]
    },
    {
      "cell_type": "code",
      "metadata": {
        "id": "anWXJGIWuCFj",
        "colab_type": "code",
        "colab": {}
      },
      "source": [
        "#match1table=match1table.set_index(\"Match Statistics\")"
      ],
      "execution_count": 0,
      "outputs": []
    },
    {
      "cell_type": "code",
      "metadata": {
        "id": "pVlLiSp7oyl4",
        "colab_type": "code",
        "colab": {}
      },
      "source": [
        "match1table"
      ],
      "execution_count": 0,
      "outputs": []
    },
    {
      "cell_type": "markdown",
      "metadata": {
        "id": "S1ElzCmDo0eU",
        "colab_type": "text"
      },
      "source": [
        "### **FINAL: Building the URL for the Stats Page of each of Serena's Match**"
      ]
    },
    {
      "cell_type": "markdown",
      "metadata": {
        "id": "7FOa9vh9MZpG",
        "colab_type": "text"
      },
      "source": [
        "In this section I am building the code that will automate the scraping from different URLs. This mean that I had to automate the building of each new link"
      ]
    },
    {
      "cell_type": "code",
      "metadata": {
        "id": "kHp3clLZpCsY",
        "colab_type": "code",
        "colab": {}
      },
      "source": [
        "import requests\n",
        "import json\n",
        "from bs4 import BeautifulSoup\n",
        "page = requests.get(\"https://www.scorespro.com/tennis/wta-singles/wimbledon-england/results\")\n",
        "soup = BeautifulSoup(open(\"a.html\",\"r\").read(), 'html.parser')\n"
      ],
      "execution_count": 0,
      "outputs": []
    },
    {
      "cell_type": "code",
      "metadata": {
        "id": "brjs_VjopEmZ",
        "colab_type": "code",
        "colab": {}
      },
      "source": [
        "#this section of the HTML is where you can find each match row in the UI. \n",
        "tbody = soup.find_all(\"tbody\")\n"
      ],
      "execution_count": 0,
      "outputs": []
    },
    {
      "cell_type": "code",
      "metadata": {
        "id": "p1KPI0CXpGRr",
        "colab_type": "code",
        "outputId": "fbc5d9cb-dad6-48a0-9794-bdd91e3afa87",
        "colab": {
          "base_uri": "https://localhost:8080/",
          "height": 139
        }
      },
      "source": [
        "#Here I am filtering the search so it only looks for the matches that Serena played\n",
        "serenaDate=[]\n",
        "\n",
        "#looping through the 128 tbody's and checking which ones have William S. in it\n",
        "for i in tbody:\n",
        "  data = i.get_text()\n",
        "  if \"Williams S.\" in data:\n",
        "    print(i.get_text())\n",
        "#appending the results to a list which holds the filtered data\n",
        "    serenaDate.append(i)"
      ],
      "execution_count": 0,
      "outputs": [
        {
          "output_type": "stream",
          "text": [
            "13.07.19  16:10FT   Williams S.USA 0 2 2 - - -16     Halep S.ROU 2 6 6 - - - \n",
            "11.07.19  17:00FT   Williams S. (11)USA 2 6 6 - - -15     Strycova B.CZE 0 1 2 - - - \n",
            "09.07.19  15:10FT   Riske A.USA 1 4 6 3 - -29     Williams S. (11)USA 2 6 4 6 - - \n",
            "08.07.19  15:10FT   Williams S. (11)USA 2 6 6 - - -16     Suarez N. C. (30)ESP 0 2 2 - - - \n",
            "06.07.19  15:10FT   Williams S. (11)USA 2 6 6 - - -19     Goerges J. (18)GER 0 3 4 - - - \n",
            "04.07.19  18:50FT   Williams S. (11)USA 2 2 6 6 - -26     Kaja Juvan (q)SLO 1 6 2 4 - - \n",
            "02.07.19  18:55FT   Williams S. (11)USA 2 6 7 - - -20     Giulia Gatto-Monticone (q)ITA 0 2 5 - - - \n"
          ],
          "name": "stdout"
        }
      ]
    },
    {
      "cell_type": "code",
      "metadata": {
        "id": "L_UMiBK1o6U3",
        "colab_type": "code",
        "colab": {}
      },
      "source": [
        "URLbuild=[]\n",
        "for serenaMatch in serenaDate:\n",
        "  matchDictionary = {\n",
        "      \"date\":serenaMatch.find(class_=\"kick_t_dt\").get_text(),\n",
        "  \"homeTeam\":serenaMatch.find(\"td\", class_=[\"hometeam \",\"hometeam winteam\"]).a.get_text().strip(),\n",
        "  \"awayTeam\":serenaMatch.find(\"td\", class_=[\"awayteam \",\"awayteam winteam\"]).a.get_text().strip(),   \n",
        "  }\n",
        "  matchDictionary['link']=(matchDictionary['homeTeam']+\"-vs-\"+matchDictionary['awayTeam']).replace(' ', '-').replace('.','').lower()+\"/\"+matchDictionary[\"date\"].strip().replace(\".\",\"-\")[:-2]+\"2019\"\n",
        "  URLbuild.append(matchDictionary)"
      ],
      "execution_count": 0,
      "outputs": []
    },
    {
      "cell_type": "markdown",
      "metadata": {
        "id": "Y7MxVnp5x9Kv",
        "colab_type": "text"
      },
      "source": [
        "the code is not working for the last link because this link is written incorrectly. The game was played on the 2nd however the link is saying that it was played on the 1st. This means that the UI is not matching the link which goes against what I built."
      ]
    },
    {
      "cell_type": "markdown",
      "metadata": {
        "id": "uF2UgoS7yaWd",
        "colab_type": "text"
      },
      "source": [
        "I will manually change this link."
      ]
    },
    {
      "cell_type": "code",
      "metadata": {
        "id": "-QSHDNlEyvIS",
        "colab_type": "code",
        "colab": {}
      },
      "source": [
        "URLbuild[-1][\"link\"]=URLbuild[-1][\"link\"].replace(\"02\",\"01\")"
      ],
      "execution_count": 0,
      "outputs": []
    },
    {
      "cell_type": "code",
      "metadata": {
        "id": "td5A9SSUpdDm",
        "colab_type": "code",
        "outputId": "b4a018ab-8d6c-45e3-aa03-8497a45a0b6e",
        "colab": {
          "base_uri": "https://localhost:8080/",
          "height": 55
        }
      },
      "source": [
        "urls=[]\n",
        "\n",
        "for i in URLbuild:\n",
        "  url = 'https://www.scorespro.com/tennis/livescore/{0}/'.format(i[\"link\"])\n",
        "  urls.append(url)\n",
        "print(urls)"
      ],
      "execution_count": 0,
      "outputs": [
        {
          "output_type": "stream",
          "text": [
            "['https://www.scorespro.com/tennis/livescore/williams-s-vs-halep-s/13-07-2019/', 'https://www.scorespro.com/tennis/livescore/williams-s-vs-strycova-b/11-07-2019/', 'https://www.scorespro.com/tennis/livescore/riske-a-vs-williams-s/09-07-2019/', 'https://www.scorespro.com/tennis/livescore/williams-s-vs-suarez-n-c/08-07-2019/', 'https://www.scorespro.com/tennis/livescore/williams-s-vs-goerges-j/06-07-2019/', 'https://www.scorespro.com/tennis/livescore/williams-s-vs-kaja-juvan/04-07-2019/', 'https://www.scorespro.com/tennis/livescore/williams-s-vs-giulia-gatto-monticone/01-07-2019/']\n"
          ],
          "name": "stdout"
        }
      ]
    },
    {
      "cell_type": "markdown",
      "metadata": {
        "id": "2p5uS4ZdqT68",
        "colab_type": "text"
      },
      "source": [
        "### **Creating my function to scrape Serena's matches**"
      ]
    },
    {
      "cell_type": "code",
      "metadata": {
        "id": "nNz-vJZaBhB7",
        "colab_type": "code",
        "colab": {}
      },
      "source": [
        "import requests\n",
        "import json\n",
        "from bs4 import BeautifulSoup\n",
        "page = requests.get(\"https://www.scorespro.com/tennis/livescore/williams-s-vs-halep-s/13-07-2019/\")\n",
        "soup = BeautifulSoup(page.content,'html.parser')\n",
        "#soup"
      ],
      "execution_count": 0,
      "outputs": []
    },
    {
      "cell_type": "code",
      "metadata": {
        "id": "Q2Nv3yhiB3Jn",
        "colab_type": "code",
        "colab": {}
      },
      "source": [
        "# soup.find_all(\"table\",class_=\"goalpop_rd\")[-2].find_all(\"tr\")\n",
        "# for i in soup.find_all(\"table\",class_=\"goalpop_rd\")[-2].find_all(\"tr\")[3:]:\n",
        "#   for j in i.find_all(class_=\"bcen\")[1]:\n",
        "#     print(j)"
      ],
      "execution_count": 0,
      "outputs": []
    },
    {
      "cell_type": "code",
      "metadata": {
        "id": "r6ZpIIFiqZbB",
        "colab_type": "code",
        "outputId": "59fc34fd-6cf5-4ea6-e76c-06298d9d9677",
        "colab": {
          "base_uri": "https://localhost:8080/",
          "height": 644
        }
      },
      "source": [
        "import pandas as pd\n",
        "from random import randint\n",
        "import time \n",
        "matchtables=[]\n",
        "\n",
        "def getHTML(): \n",
        "  '''def Scrape is looping through the URL list which contains all the links that I have constructure and it is storing the HTML into a list called matchStats'''\n",
        "  for link in urls:\n",
        "    response= requests.get(link)\n",
        "    html = BeautifulSoup(response.content, 'html.parser')\n",
        "    print(html.head.title)\n",
        "    sleepTime=randint(3,7)\n",
        "    print('waiting',sleepTime,'seconds')\n",
        "    time.sleep(sleepTime)\n",
        "    grabSortData(html)\n",
        "\n",
        "def grabSortData(html):\n",
        "  \n",
        "  data= {'left':[],'right':[],'name':[]}\n",
        "  tablerows=[i.get_text() for i in html.find_all(\"table\",class_=\"goalpop_rd\")[-1].find_all(\"td\") if u\"\\xa0\" not in i.get_text()]\n",
        "  for e, stat in enumerate(tablerows[1:]):\n",
        "    if (e-1) % 3 == 0:\n",
        "      data['name'].append(stat)\n",
        "    elif (e) % 3==0 :\n",
        "      data['left'].append(stat)\n",
        "    elif (e+1) % 3 ==0:\n",
        "      data['right'].append(stat)\n",
        "  print(data)\n",
        "  getPlayerName(html,data)\n",
        "\n",
        "#def scrapeName is appending the names of the players into match1Stat. \n",
        "def getPlayerName(html,data):   \n",
        "\n",
        "  leftPlayer = html.find(\"td\",class_=\"home_t\").get_text()\n",
        "  rightPlayer = html.find(\"td\", class_=\"away_t\").get_text()  \n",
        "  data['name'].insert(0,\"Match Statistics\")\n",
        "  data['left'].insert(0,leftPlayer)\n",
        "  data['right'].insert(0,rightPlayer)\n",
        "#   header = {\"Match Statistics\":stat}\n",
        "#   header[leftPlayer] = left\n",
        "#   header[rightPlayer] = right \n",
        "  print(data)\n",
        "  buildDF(data)\n",
        "#     return data\n",
        "\n",
        "def buildDF(data):\n",
        "#   stat = data[\"name\"]\n",
        "#   left = data[\"left\"]\n",
        "#   right = data[\"right\"]\n",
        "  \n",
        "  matchtable = pd.DataFrame(data)\n",
        "  matchtable.columns=matchtable.iloc[0]\n",
        "  matchtable=matchtable.drop(matchtable.index[0])\n",
        "  matchtable=matchtable.set_index(\"Match Statistics\")\n",
        "  #match1table=match1table.set_index(\"Match Statistics\")\n",
        "  matchtables.append(matchtable)\n",
        "  print(len(matchtables))\n",
        "\n",
        "getHTML()\n",
        "\n",
        "\n",
        "  \n",
        "    \n",
        "  \n",
        "  \n"
      ],
      "execution_count": 0,
      "outputs": [
        {
          "output_type": "stream",
          "text": [
            "<title>Williams S. vs Halep S. Tennis Results | 13 Jul 2019</title>\n",
            "waiting 3 seconds\n",
            "{'left': ['6', '68', '19', '6', '5', '2', '1', '0', '1', '26', '8', '55', '32', '15', '42', '24', '17'], 'right': ['13', '74', '26', '7', '4', '1', '1', '4', '0', '45', '7', '72', '32', '11', '58', '1', '13'], 'name': ['1st Return Points Won', '1st Serve Percentage', '1st Serve Points Won', '2nd Return Points Won', '2nd Serve Points Won', 'Aces', 'Break Points Saved', 'Break Points Won', 'Double Faults', 'Return Points Won Percentage', 'Service Games', 'Service Points Won Percentage', 'Total 1st Serve Points', 'Total 2nd Serve Points', 'Total Points Won Percentage', 'Unforced Errors', 'Winners']}\n",
            "{'left': ['Williams S.', '6', '68', '19', '6', '5', '2', '1', '0', '1', '26', '8', '55', '32', '15', '42', '24', '17'], 'right': ['Halep S.', '13', '74', '26', '7', '4', '1', '1', '4', '0', '45', '7', '72', '32', '11', '58', '1', '13'], 'name': ['Match Statistics', '1st Return Points Won', '1st Serve Percentage', '1st Serve Points Won', '2nd Return Points Won', '2nd Serve Points Won', 'Aces', 'Break Points Saved', 'Break Points Won', 'Double Faults', 'Return Points Won Percentage', 'Service Games', 'Service Points Won Percentage', 'Total 1st Serve Points', 'Total 2nd Serve Points', 'Total Points Won Percentage', 'Unforced Errors', 'Winners']}\n",
            "1\n",
            "<title>Williams S. vs Strycova B. Tennis Results | 11 Jul 2019</title>\n",
            "waiting 3 seconds\n",
            "{'left': ['12', '61', '24', '8', '9', '4', '3', '4', '1', '51', '8', '75', '27', '17', '64', '10', '28'], 'right': ['3', '61', '13', '8', '7', '1', '1', '0', '1', '25', '7', '49', '25', '16', '36', '10', '8'], 'name': ['1st Return Points Won', '1st Serve Percentage', '1st Serve Points Won', '2nd Return Points Won', '2nd Serve Points Won', 'Aces', 'Break Points Saved', 'Break Points Won', 'Double Faults', 'Return Points Won Percentage', 'Service Games', 'Service Points Won Percentage', 'Total 1st Serve Points', 'Total 2nd Serve Points', 'Total Points Won Percentage', 'Unforced Errors', 'Winners']}\n",
            "{'left': ['Williams S.', '12', '61', '24', '8', '9', '4', '3', '4', '1', '51', '8', '75', '27', '17', '64', '10', '28'], 'right': ['Strycova B.', '3', '61', '13', '8', '7', '1', '1', '0', '1', '25', '7', '49', '25', '16', '36', '10', '8'], 'name': ['Match Statistics', '1st Return Points Won', '1st Serve Percentage', '1st Serve Points Won', '2nd Return Points Won', '2nd Serve Points Won', 'Aces', 'Break Points Saved', 'Break Points Won', 'Double Faults', 'Return Points Won Percentage', 'Service Games', 'Service Points Won Percentage', 'Total 1st Serve Points', 'Total 2nd Serve Points', 'Total Points Won Percentage', 'Unforced Errors', 'Winners']}\n",
            "2\n",
            "<title>Riske A. vs Williams S. Tennis Results | 09 Jul 2019</title>\n",
            "waiting 3 seconds\n",
            "{'left': ['19', '62', '34', '17', '17', '1', '10', '5', '6', '41', '14', '55', '58', '35', '48', '18', '25'], 'right': ['24', '58', '34', '12', '20', '19', '0', '6', '2', '45', '15', '59', '53', '39', '52', '27', '48'], 'name': ['1st Return Points Won', '1st Serve Percentage', '1st Serve Points Won', '2nd Return Points Won', '2nd Serve Points Won', 'Aces', 'Break Points Saved', 'Break Points Won', 'Double Faults', 'Return Points Won Percentage', 'Service Games', 'Service Points Won Percentage', 'Total 1st Serve Points', 'Total 2nd Serve Points', 'Total Points Won Percentage', 'Unforced Errors', 'Winners']}\n",
            "{'left': ['Riske A.', '19', '62', '34', '17', '17', '1', '10', '5', '6', '41', '14', '55', '58', '35', '48', '18', '25'], 'right': ['Williams S.', '24', '58', '34', '12', '20', '19', '0', '6', '2', '45', '15', '59', '53', '39', '52', '27', '48'], 'name': ['Match Statistics', '1st Return Points Won', '1st Serve Percentage', '1st Serve Points Won', '2nd Return Points Won', '2nd Serve Points Won', 'Aces', 'Break Points Saved', 'Break Points Won', 'Double Faults', 'Return Points Won Percentage', 'Service Games', 'Service Points Won Percentage', 'Total 1st Serve Points', 'Total 2nd Serve Points', 'Total Points Won Percentage', 'Unforced Errors', 'Winners']}\n",
            "3\n",
            "<title>Williams S. vs Suarez N. C. Tennis Results | 08 Jul 2019</title>\n",
            "waiting 6 seconds\n",
            "{'left': ['16', '61', '21', '13', '8', '2', '2', '5', '0', '53', '8', '66', '27', '17', '58', '19', '21'], 'right': ['6', '61', '20', '8', '8', '1', '6', '1', '2', '34', '8', '47', '36', '23', '42', '13', '9'], 'name': ['1st Return Points Won', '1st Serve Percentage', '1st Serve Points Won', '2nd Return Points Won', '2nd Serve Points Won', 'Aces', 'Break Points Saved', 'Break Points Won', 'Double Faults', 'Return Points Won Percentage', 'Service Games', 'Service Points Won Percentage', 'Total 1st Serve Points', 'Total 2nd Serve Points', 'Total Points Won Percentage', 'Unforced Errors', 'Winners']}\n",
            "{'left': ['Williams S.', '16', '61', '21', '13', '8', '2', '2', '5', '0', '53', '8', '66', '27', '17', '58', '19', '21'], 'right': ['Suarez N. C.', '6', '61', '20', '8', '8', '1', '6', '1', '2', '34', '8', '47', '36', '23', '42', '13', '9'], 'name': ['Match Statistics', '1st Return Points Won', '1st Serve Percentage', '1st Serve Points Won', '2nd Return Points Won', '2nd Serve Points Won', 'Aces', 'Break Points Saved', 'Break Points Won', 'Double Faults', 'Return Points Won Percentage', 'Service Games', 'Service Points Won Percentage', 'Total 1st Serve Points', 'Total 2nd Serve Points', 'Total Points Won Percentage', 'Unforced Errors', 'Winners']}\n",
            "4\n",
            "<title>Williams S. vs Goerges J. Tennis Results | 06 Jul 2019</title>\n",
            "waiting 3 seconds\n",
            "{'left': ['5', '71', '31', '15', '12', '7', '0', '1', '0', '37', '10', '74', '41', '17', '56', '15', '19'], 'right': ['10', '51', '24', '4', '12', '5', '5', '0', '1', '26', '9', '63', '29', '28', '44', '13', '17'], 'name': ['1st Return Points Won', '1st Serve Percentage', '1st Serve Points Won', '2nd Return Points Won', '2nd Serve Points Won', 'Aces', 'Break Points Saved', 'Break Points Won', 'Double Faults', 'Return Points Won Percentage', 'Service Games', 'Service Points Won Percentage', 'Total 1st Serve Points', 'Total 2nd Serve Points', 'Total Points Won Percentage', 'Unforced Errors', 'Winners']}\n",
            "{'left': ['Williams S.', '5', '71', '31', '15', '12', '7', '0', '1', '0', '37', '10', '74', '41', '17', '56', '15', '19'], 'right': ['Goerges J.', '10', '51', '24', '4', '12', '5', '5', '0', '1', '26', '9', '63', '29', '28', '44', '13', '17'], 'name': ['Match Statistics', '1st Return Points Won', '1st Serve Percentage', '1st Serve Points Won', '2nd Return Points Won', '2nd Serve Points Won', 'Aces', 'Break Points Saved', 'Break Points Won', 'Double Faults', 'Return Points Won Percentage', 'Service Games', 'Service Points Won Percentage', 'Total 1st Serve Points', 'Total 2nd Serve Points', 'Total Points Won Percentage', 'Unforced Errors', 'Winners']}\n",
            "5\n",
            "<title>Williams S. vs Kaja Juvan Tennis Results | 04 Jul 2019</title>\n",
            "waiting 6 seconds\n",
            "{'left': ['21', '54', '30', '10', '17', '6', '0', '4', '5', '41', '13', '65', '39', '33', '53', '26', '25'], 'right': ['10', '65', '32', '11', '16', '4', '6', '3', '3', '35', '13', '59', '53', '29', '47', '23', '12'], 'name': ['1st Return Points Won', '1st Serve Percentage', '1st Serve Points Won', '2nd Return Points Won', '2nd Serve Points Won', 'Aces', 'Break Points Saved', 'Break Points Won', 'Double Faults', 'Return Points Won Percentage', 'Service Games', 'Service Points Won Percentage', 'Total 1st Serve Points', 'Total 2nd Serve Points', 'Total Points Won Percentage', 'Unforced Errors', 'Winners']}\n",
            "{'left': ['Williams S.', '21', '54', '30', '10', '17', '6', '0', '4', '5', '41', '13', '65', '39', '33', '53', '26', '25'], 'right': ['Kaja Juvan', '10', '65', '32', '11', '16', '4', '6', '3', '3', '35', '13', '59', '53', '29', '47', '23', '12'], 'name': ['Match Statistics', '1st Return Points Won', '1st Serve Percentage', '1st Serve Points Won', '2nd Return Points Won', '2nd Serve Points Won', 'Aces', 'Break Points Saved', 'Break Points Won', 'Double Faults', 'Return Points Won Percentage', 'Service Games', 'Service Points Won Percentage', 'Total 1st Serve Points', 'Total 2nd Serve Points', 'Total Points Won Percentage', 'Unforced Errors', 'Winners']}\n",
            "6\n",
            "<title>Williams S. vs Giulia Gatto-Monticone Tennis Results | 02 Jul 2019</title>\n",
            "waiting 4 seconds\n",
            "{'left': ['19', '65', '25', '13', '11', '7', '2', '5', '2', '52', '10', '65', '36', '19', '58', '23', '26'], 'right': ['11', '58', '21', '6', '12', '2', '5', '2', '4', '35', '10', '48', '40', '29', '42', '17', '11'], 'name': ['1st Return Points Won', '1st Serve Percentage', '1st Serve Points Won', '2nd Return Points Won', '2nd Serve Points Won', 'Aces', 'Break Points Saved', 'Break Points Won', 'Double Faults', 'Return Points Won Percentage', 'Service Games', 'Service Points Won Percentage', 'Total 1st Serve Points', 'Total 2nd Serve Points', 'Total Points Won Percentage', 'Unforced Errors', 'Winners']}\n",
            "{'left': ['Williams S.', '19', '65', '25', '13', '11', '7', '2', '5', '2', '52', '10', '65', '36', '19', '58', '23', '26'], 'right': ['Giulia Gatto-Monticone', '11', '58', '21', '6', '12', '2', '5', '2', '4', '35', '10', '48', '40', '29', '42', '17', '11'], 'name': ['Match Statistics', '1st Return Points Won', '1st Serve Percentage', '1st Serve Points Won', '2nd Return Points Won', '2nd Serve Points Won', 'Aces', 'Break Points Saved', 'Break Points Won', 'Double Faults', 'Return Points Won Percentage', 'Service Games', 'Service Points Won Percentage', 'Total 1st Serve Points', 'Total 2nd Serve Points', 'Total Points Won Percentage', 'Unforced Errors', 'Winners']}\n",
            "7\n"
          ],
          "name": "stdout"
        }
      ]
    },
    {
      "cell_type": "code",
      "metadata": {
        "id": "1J3up4MvQQjK",
        "colab_type": "code",
        "colab": {}
      },
      "source": [
        "williamsHalep=matchtables[0]\n",
        "williamsStrycova=matchtables[1]\n",
        "williamsRiske=matchtables[2]\n",
        "williamsSuarez=matchtables[3]\n",
        "williamsGeorges=matchtables[4]\n",
        "williamsKaja=matchtables[5]\n",
        "williamsGiulia=matchtables[6]"
      ],
      "execution_count": 0,
      "outputs": []
    },
    {
      "cell_type": "code",
      "metadata": {
        "id": "ectNdhpVRlMs",
        "colab_type": "code",
        "colab": {}
      },
      "source": [
        "williamsHalep.to_excel(\"williamsHalep.xlsx\")\n",
        "williamsStrycova.to_excel(\"williamsStrycova.xlsx\")\n",
        "williamsRiske.to_excel(\"williamsRiske.xlsx\")\n",
        "williamsSuarez.to_excel(\"williamsSuarez.xlsx\")\n",
        "williamsGeorges.to_excel(\"williamsGeorges.xlsx\")\n",
        "williamsKaja.to_excel(\"williamsKaja.xlsx\")\n",
        "williamsGiulia.to_excel(\"williamsGiulia.xlsx\")\n"
      ],
      "execution_count": 0,
      "outputs": []
    },
    {
      "cell_type": "code",
      "metadata": {
        "id": "yZc5iY4Aj7ho",
        "colab_type": "code",
        "outputId": "f6392254-2a5b-457a-d237-2b53560fd20c",
        "colab": {
          "base_uri": "https://localhost:8080/",
          "height": 233
        }
      },
      "source": [
        "williamsHalep.head()"
      ],
      "execution_count": 0,
      "outputs": [
        {
          "output_type": "execute_result",
          "data": {
            "text/html": [
              "<div>\n",
              "<style scoped>\n",
              "    .dataframe tbody tr th:only-of-type {\n",
              "        vertical-align: middle;\n",
              "    }\n",
              "\n",
              "    .dataframe tbody tr th {\n",
              "        vertical-align: top;\n",
              "    }\n",
              "\n",
              "    .dataframe thead th {\n",
              "        text-align: right;\n",
              "    }\n",
              "</style>\n",
              "<table border=\"1\" class=\"dataframe\">\n",
              "  <thead>\n",
              "    <tr style=\"text-align: right;\">\n",
              "      <th></th>\n",
              "      <th>Williams S.</th>\n",
              "      <th>Halep S.</th>\n",
              "    </tr>\n",
              "    <tr>\n",
              "      <th>Match Statistics</th>\n",
              "      <th></th>\n",
              "      <th></th>\n",
              "    </tr>\n",
              "  </thead>\n",
              "  <tbody>\n",
              "    <tr>\n",
              "      <th>1st Return Points Won</th>\n",
              "      <td>6</td>\n",
              "      <td>13</td>\n",
              "    </tr>\n",
              "    <tr>\n",
              "      <th>1st Serve Percentage</th>\n",
              "      <td>68</td>\n",
              "      <td>74</td>\n",
              "    </tr>\n",
              "    <tr>\n",
              "      <th>1st Serve Points Won</th>\n",
              "      <td>19</td>\n",
              "      <td>26</td>\n",
              "    </tr>\n",
              "    <tr>\n",
              "      <th>2nd Return Points Won</th>\n",
              "      <td>6</td>\n",
              "      <td>7</td>\n",
              "    </tr>\n",
              "    <tr>\n",
              "      <th>2nd Serve Points Won</th>\n",
              "      <td>5</td>\n",
              "      <td>4</td>\n",
              "    </tr>\n",
              "  </tbody>\n",
              "</table>\n",
              "</div>"
            ],
            "text/plain": [
              "0                     Williams S. Halep S.\n",
              "Match Statistics                          \n",
              "1st Return Points Won           6       13\n",
              "1st Serve Percentage           68       74\n",
              "1st Serve Points Won           19       26\n",
              "2nd Return Points Won           6        7\n",
              "2nd Serve Points Won            5        4"
            ]
          },
          "metadata": {
            "tags": []
          },
          "execution_count": 12
        }
      ]
    },
    {
      "cell_type": "markdown",
      "metadata": {
        "colab_type": "text",
        "id": "9iEAagzhnmRx"
      },
      "source": [
        "### **Building the URL for the Stats Page of each of Coco's Match**"
      ]
    },
    {
      "cell_type": "markdown",
      "metadata": {
        "colab_type": "text",
        "id": "NAIYeHw3nmR6"
      },
      "source": [
        "In this section I am building the code that will automate the scraping from different URLs. This mean that I had to automate the building of each new link"
      ]
    },
    {
      "cell_type": "code",
      "metadata": {
        "colab_type": "code",
        "id": "IenT0DUXnmR7",
        "colab": {}
      },
      "source": [
        "import requests\n",
        "import json\n",
        "from bs4 import BeautifulSoup\n",
        "page3 = requests.get(\"https://www.scorespro.com/tennis/wta-singles/wimbledon-england/results\")\n",
        "soup3 = BeautifulSoup(open(\"a.html\",\"r\").read(), 'html.parser')\n",
        "#soup3"
      ],
      "execution_count": 0,
      "outputs": []
    },
    {
      "cell_type": "code",
      "metadata": {
        "colab_type": "code",
        "id": "N2oiycsbnmR_",
        "colab": {}
      },
      "source": [
        "#this section of the HTML is where you can find each match row in the UI. \n",
        "tbody = soup3.find_all(\"tbody\")\n",
        "#tbody"
      ],
      "execution_count": 0,
      "outputs": []
    },
    {
      "cell_type": "code",
      "metadata": {
        "colab_type": "code",
        "id": "HSnDkbgvnmSB",
        "outputId": "a9aff31f-455c-4d4b-97ef-23ffc3d2aea9",
        "colab": {
          "base_uri": "https://localhost:8080/",
          "height": 87
        }
      },
      "source": [
        "#Here I am filtering the search so it only looks for the matches that Coco played\n",
        "cocoDate=[]\n",
        "\n",
        "#looping through the 128 tbody's and checking which ones have William S. in it\n",
        "for i in tbody:\n",
        "  cocodata = i.get_text()\n",
        "  if \"Gauff C.\" in cocodata:\n",
        "    print(i.get_text())\n",
        "#appending the results to a list which holds the filtered data\n",
        "    cocoDate.append(i)"
      ],
      "execution_count": 0,
      "outputs": [
        {
          "output_type": "stream",
          "text": [
            "08.07.19  16:30FT   Halep S. (7)ROU 2 6 6 - - -18     Gauff C. (q)USA 0 3 3 - - - \n",
            "05.07.19  19:25FT   Hercog P.SLO 1 6 67 5 - -34     Gauff C. (q)USA 2 3 79 7 - - \n",
            "03.07.19  22:10FT   Gauff C. (q)USA 2 6 6 - - -18     Rybarikova M (alt)SVK 0 3 3 - - - \n",
            "01.07.19  20:05FT   Williams V.USA 0 4 4 - - -20     Gauff C. (q)USA 2 6 6 - - - \n"
          ],
          "name": "stdout"
        }
      ]
    },
    {
      "cell_type": "code",
      "metadata": {
        "colab_type": "code",
        "id": "4mU37hkZnmSE",
        "colab": {}
      },
      "source": [
        "cocoURLbuild=[]\n",
        "for cocoMatch in cocoDate:\n",
        "  CocomatchDictionary = {\n",
        "      \"date\":cocoMatch.find(class_=\"kick_t_dt\").get_text(),\n",
        "  \"homeTeam\":cocoMatch.find(\"td\", class_=[\"hometeam \",\"hometeam winteam\"]).a.get_text().strip(),\n",
        "  \"awayTeam\":cocoMatch.find(\"td\", class_=[\"awayteam \",\"awayteam winteam\"]).a.get_text().strip(),   \n",
        "  }\n",
        "  CocomatchDictionary['link']=(CocomatchDictionary['homeTeam']+\"-vs-\"+CocomatchDictionary['awayTeam']).replace(' ', '-').replace('.','').lower()+\"/\"+CocomatchDictionary[\"date\"].strip().replace(\".\",\"-\")[:-2]+\"2019\"\n",
        "  cocoURLbuild.append(CocomatchDictionary)"
      ],
      "execution_count": 0,
      "outputs": []
    },
    {
      "cell_type": "code",
      "metadata": {
        "id": "XB-gFdWu6d5H",
        "colab_type": "code",
        "colab": {}
      },
      "source": [
        "cocoURLbuild[0][\"link\"]=cocoURLbuild[0][\"link\"].replace(\"08\",\"06\")"
      ],
      "execution_count": 0,
      "outputs": []
    },
    {
      "cell_type": "code",
      "metadata": {
        "id": "eWYH8zbl5Q_p",
        "colab_type": "code",
        "outputId": "febfb9b1-4d53-4615-d81a-cca1e168062c",
        "colab": {
          "base_uri": "https://localhost:8080/",
          "height": 55
        }
      },
      "source": [
        "cocourls=[]\n",
        "\n",
        "for i in cocoURLbuild:\n",
        "  cocourl = 'https://www.scorespro.com/tennis/livescore/{0}/'.format(i[\"link\"])\n",
        "  cocourls.append(cocourl)\n",
        "print(cocourls)"
      ],
      "execution_count": 0,
      "outputs": [
        {
          "output_type": "stream",
          "text": [
            "['https://www.scorespro.com/tennis/livescore/halep-s-vs-gauff-c/06-07-2019/', 'https://www.scorespro.com/tennis/livescore/hercog-p-vs-gauff-c/05-07-2019/', 'https://www.scorespro.com/tennis/livescore/gauff-c-vs-rybarikova-m/03-07-2019/', 'https://www.scorespro.com/tennis/livescore/williams-v-vs-gauff-c/01-07-2019/']\n"
          ],
          "name": "stdout"
        }
      ]
    },
    {
      "cell_type": "markdown",
      "metadata": {
        "colab_type": "text",
        "id": "DdSTd0qa5DBd"
      },
      "source": [
        "### **Creating my function to scrape Coco's matches**"
      ]
    },
    {
      "cell_type": "code",
      "metadata": {
        "colab_type": "code",
        "id": "bK5q24Or5DBf",
        "outputId": "19fae5e3-abe6-4da5-c5e9-8e58db67ea04",
        "colab": {
          "base_uri": "https://localhost:8080/",
          "height": 384
        }
      },
      "source": [
        "import pandas as pd\n",
        "from random import randint\n",
        "import time \n",
        "Cocomatchtables=[]\n",
        "\n",
        "def getHTML(): \n",
        "  '''def Scrape is looping through the URL list which contains all the links that I have constructure and it is storing the HTML into a list called matchStats'''\n",
        "  for link in cocourls:\n",
        "    response= requests.get(link)\n",
        "    html = BeautifulSoup(response.content, 'html.parser')\n",
        "    print(html.head.title)\n",
        "    sleepTime=randint(3,7)\n",
        "    print('waiting',sleepTime,'seconds')\n",
        "    time.sleep(sleepTime)\n",
        "    grabSortData(html)\n",
        "\n",
        "def grabSortData(html):\n",
        "  \n",
        "  data= {'left':[],'right':[],'name':[]}\n",
        "  tablerows=[i.get_text() for i in html.find_all(\"table\",class_=\"goalpop_rd\")[-1].find_all(\"td\") if u\"\\xa0\" not in i.get_text()]\n",
        "  for e, stat in enumerate(tablerows[1:]):\n",
        "    if (e-1) % 3 == 0:\n",
        "      data['name'].append(stat)\n",
        "    elif (e) % 3==0 :\n",
        "      data['left'].append(stat)\n",
        "    elif (e+1) % 3 ==0:\n",
        "      data['right'].append(stat)\n",
        "  print(data)\n",
        "  getPlayerName(html,data)\n",
        "\n",
        "#def scrapeName is appending the names of the players into match1Stat. \n",
        "def getPlayerName(html,data):   \n",
        "\n",
        "  leftPlayer = html.find(\"td\",class_=\"home_t\").get_text()\n",
        "  rightPlayer = html.find(\"td\", class_=\"away_t\").get_text()  \n",
        "  data['name'].insert(0,\"Match Statistics\")\n",
        "  data['left'].insert(0,leftPlayer)\n",
        "  data['right'].insert(0,rightPlayer)\n",
        "#   header = {\"Match Statistics\":stat}\n",
        "#   header[leftPlayer] = left\n",
        "#   header[rightPlayer] = right \n",
        "  print(data)\n",
        "  buildDF(data)\n",
        "#     return data\n",
        "\n",
        "def buildDF(data):\n",
        "#   stat = data[\"name\"]\n",
        "#   left = data[\"left\"]\n",
        "#   right = data[\"right\"]\n",
        "  \n",
        "  Cocomatchtable = pd.DataFrame(data)\n",
        "  Cocomatchtable.columns=Cocomatchtable.iloc[0]\n",
        "  Cocomatchtable=Cocomatchtable.drop(Cocomatchtable.index[0])\n",
        "  Cocomatchtable=Cocomatchtable.set_index(\"Match Statistics\")\n",
        "  #match1table=match1table.set_index(\"Match Statistics\")\n",
        "  Cocomatchtables.append(Cocomatchtable)\n",
        "  print(len(Cocomatchtables))\n",
        "\n",
        "getHTML()\n",
        "\n",
        "\n",
        "  \n",
        "    \n",
        "  \n",
        "  \n"
      ],
      "execution_count": 0,
      "outputs": [
        {
          "output_type": "stream",
          "text": [
            "<title>Halep S. vs Gauff C. Tennis Results | 08 Jul 2019</title>\n",
            "waiting 6 seconds\n",
            "{'left': ['19', '57', '25', '12', '11', '2', '4', '5', '5', '52', '9', '62', '33', '25', '57', '14', '17'], 'right': ['8', '66', '21', '9', '8', '0', '7', '2', '1', '38', '9', '48', '40', '21', '43', '29', '15'], 'name': ['1st Return Points Won', '1st Serve Percentage', '1st Serve Points Won', '2nd Return Points Won', '2nd Serve Points Won', 'Aces', 'Break Points Saved', 'Break Points Won', 'Double Faults', 'Return Points Won Percentage', 'Service Games', 'Service Points Won Percentage', 'Total 1st Serve Points', 'Total 2nd Serve Points', 'Total Points Won Percentage', 'Unforced Errors', 'Winners']}\n",
            "{'left': ['Halep S.', '19', '57', '25', '12', '11', '2', '4', '5', '5', '52', '9', '62', '33', '25', '57', '14', '17'], 'right': ['Gauff C.', '8', '66', '21', '9', '8', '0', '7', '2', '1', '38', '9', '48', '40', '21', '43', '29', '15'], 'name': ['Match Statistics', '1st Return Points Won', '1st Serve Percentage', '1st Serve Points Won', '2nd Return Points Won', '2nd Serve Points Won', 'Aces', 'Break Points Saved', 'Break Points Won', 'Double Faults', 'Return Points Won Percentage', 'Service Games', 'Service Points Won Percentage', 'Total 1st Serve Points', 'Total 2nd Serve Points', 'Total Points Won Percentage', 'Unforced Errors', 'Winners']}\n",
            "1\n",
            "<title>Hercog P. vs Gauff C. Tennis Results | 05 Jul 2019</title>\n",
            "waiting 5 seconds\n",
            "{'left': ['25', '47', '35', '9', '33', '4', '0', '4', '4', '38', '16', '65', '49', '55', '51', '45', '34'], 'right': ['14', '72', '50', '18', '16', '3', '4', '3', '6', '35', '17', '60', '75', '31', '49', '43', '24'], 'name': ['1st Return Points Won', '1st Serve Percentage', '1st Serve Points Won', '2nd Return Points Won', '2nd Serve Points Won', 'Aces', 'Break Points Saved', 'Break Points Won', 'Double Faults', 'Return Points Won Percentage', 'Service Games', 'Service Points Won Percentage', 'Total 1st Serve Points', 'Total 2nd Serve Points', 'Total Points Won Percentage', 'Unforced Errors', 'Winners']}\n",
            "{'left': ['Hercog P.', '25', '47', '35', '9', '33', '4', '0', '4', '4', '38', '16', '65', '49', '55', '51', '45', '34'], 'right': ['Gauff C.', '14', '72', '50', '18', '16', '3', '4', '3', '6', '35', '17', '60', '75', '31', '49', '43', '24'], 'name': ['Match Statistics', '1st Return Points Won', '1st Serve Percentage', '1st Serve Points Won', '2nd Return Points Won', '2nd Serve Points Won', 'Aces', 'Break Points Saved', 'Break Points Won', 'Double Faults', 'Return Points Won Percentage', 'Service Games', 'Service Points Won Percentage', 'Total 1st Serve Points', 'Total 2nd Serve Points', 'Total Points Won Percentage', 'Unforced Errors', 'Winners']}\n",
            "2\n",
            "<title>Gauff C. vs Rybarikova M Tennis Results | 03 Jul 2019</title>\n",
            "waiting 3 seconds\n",
            "{'left': ['9', '66', '28', '12', '10', '1', '0', '3', '3', '44', '9', '76', '33', '17', '60', '10', '18'], 'right': ['5', '58', '22', '4', '8', '4', '2', '0', '2', '24', '9', '56', '31', '22', '40', '23', '15'], 'name': ['1st Return Points Won', '1st Serve Percentage', '1st Serve Points Won', '2nd Return Points Won', '2nd Serve Points Won', 'Aces', 'Break Points Saved', 'Break Points Won', 'Double Faults', 'Return Points Won Percentage', 'Service Games', 'Service Points Won Percentage', 'Total 1st Serve Points', 'Total 2nd Serve Points', 'Total Points Won Percentage', 'Unforced Errors', 'Winners']}\n",
            "{'left': ['Gauff C.', '9', '66', '28', '12', '10', '1', '0', '3', '3', '44', '9', '76', '33', '17', '60', '10', '18'], 'right': ['Rybarikova M', '5', '58', '22', '4', '8', '4', '2', '0', '2', '24', '9', '56', '31', '22', '40', '23', '15'], 'name': ['Match Statistics', '1st Return Points Won', '1st Serve Percentage', '1st Serve Points Won', '2nd Return Points Won', '2nd Serve Points Won', 'Aces', 'Break Points Saved', 'Break Points Won', 'Double Faults', 'Return Points Won Percentage', 'Service Games', 'Service Points Won Percentage', 'Total 1st Serve Points', 'Total 2nd Serve Points', 'Total Points Won Percentage', 'Unforced Errors', 'Winners']}\n",
            "3\n",
            "<title>Williams V. vs Gauff C. Tennis Results | 01 Jul 2019</title>\n",
            "waiting 5 seconds\n",
            "{'left': ['9', '65', '24', '4', '9', '2', '0', '1', '4', '30', '10', '62', '36', '19', '45', '24', '16'], 'right': ['11', '68', '32', '6', '10', '4', '2', '3', '5', '38', '10', '70', '41', '19', '55', '8', '18'], 'name': ['1st Return Points Won', '1st Serve Percentage', '1st Serve Points Won', '2nd Return Points Won', '2nd Serve Points Won', 'Aces', 'Break Points Saved', 'Break Points Won', 'Double Faults', 'Return Points Won Percentage', 'Service Games', 'Service Points Won Percentage', 'Total 1st Serve Points', 'Total 2nd Serve Points', 'Total Points Won Percentage', 'Unforced Errors', 'Winners']}\n",
            "{'left': ['Williams V.', '9', '65', '24', '4', '9', '2', '0', '1', '4', '30', '10', '62', '36', '19', '45', '24', '16'], 'right': ['Gauff C.', '11', '68', '32', '6', '10', '4', '2', '3', '5', '38', '10', '70', '41', '19', '55', '8', '18'], 'name': ['Match Statistics', '1st Return Points Won', '1st Serve Percentage', '1st Serve Points Won', '2nd Return Points Won', '2nd Serve Points Won', 'Aces', 'Break Points Saved', 'Break Points Won', 'Double Faults', 'Return Points Won Percentage', 'Service Games', 'Service Points Won Percentage', 'Total 1st Serve Points', 'Total 2nd Serve Points', 'Total Points Won Percentage', 'Unforced Errors', 'Winners']}\n",
            "4\n"
          ],
          "name": "stdout"
        }
      ]
    },
    {
      "cell_type": "code",
      "metadata": {
        "colab_type": "code",
        "id": "JG75iF9X5DBi",
        "colab": {}
      },
      "source": [
        "gauffHalep=Cocomatchtables[0]\n",
        "gauffHercog=Cocomatchtables[1]\n",
        "gauffRybarikova=Cocomatchtables[2]\n",
        "gauffWilliams=Cocomatchtables[3]"
      ],
      "execution_count": 0,
      "outputs": []
    },
    {
      "cell_type": "code",
      "metadata": {
        "id": "3VxESUfUkc29",
        "colab_type": "code",
        "outputId": "875c811a-00c3-4769-cbb0-b4e21d0e73ac",
        "colab": {
          "base_uri": "https://localhost:8080/",
          "height": 601
        }
      },
      "source": [
        "gauffHalep.head(100)"
      ],
      "execution_count": 0,
      "outputs": [
        {
          "output_type": "execute_result",
          "data": {
            "text/html": [
              "<div>\n",
              "<style scoped>\n",
              "    .dataframe tbody tr th:only-of-type {\n",
              "        vertical-align: middle;\n",
              "    }\n",
              "\n",
              "    .dataframe tbody tr th {\n",
              "        vertical-align: top;\n",
              "    }\n",
              "\n",
              "    .dataframe thead th {\n",
              "        text-align: right;\n",
              "    }\n",
              "</style>\n",
              "<table border=\"1\" class=\"dataframe\">\n",
              "  <thead>\n",
              "    <tr style=\"text-align: right;\">\n",
              "      <th></th>\n",
              "      <th>Halep S.</th>\n",
              "      <th>Gauff C.</th>\n",
              "    </tr>\n",
              "    <tr>\n",
              "      <th>Match Statistics</th>\n",
              "      <th></th>\n",
              "      <th></th>\n",
              "    </tr>\n",
              "  </thead>\n",
              "  <tbody>\n",
              "    <tr>\n",
              "      <th>1st Return Points Won</th>\n",
              "      <td>19</td>\n",
              "      <td>8</td>\n",
              "    </tr>\n",
              "    <tr>\n",
              "      <th>1st Serve Percentage</th>\n",
              "      <td>57</td>\n",
              "      <td>66</td>\n",
              "    </tr>\n",
              "    <tr>\n",
              "      <th>1st Serve Points Won</th>\n",
              "      <td>25</td>\n",
              "      <td>21</td>\n",
              "    </tr>\n",
              "    <tr>\n",
              "      <th>2nd Return Points Won</th>\n",
              "      <td>12</td>\n",
              "      <td>9</td>\n",
              "    </tr>\n",
              "    <tr>\n",
              "      <th>2nd Serve Points Won</th>\n",
              "      <td>11</td>\n",
              "      <td>8</td>\n",
              "    </tr>\n",
              "    <tr>\n",
              "      <th>Aces</th>\n",
              "      <td>2</td>\n",
              "      <td>0</td>\n",
              "    </tr>\n",
              "    <tr>\n",
              "      <th>Break Points Saved</th>\n",
              "      <td>4</td>\n",
              "      <td>7</td>\n",
              "    </tr>\n",
              "    <tr>\n",
              "      <th>Break Points Won</th>\n",
              "      <td>5</td>\n",
              "      <td>2</td>\n",
              "    </tr>\n",
              "    <tr>\n",
              "      <th>Double Faults</th>\n",
              "      <td>5</td>\n",
              "      <td>1</td>\n",
              "    </tr>\n",
              "    <tr>\n",
              "      <th>Return Points Won Percentage</th>\n",
              "      <td>52</td>\n",
              "      <td>38</td>\n",
              "    </tr>\n",
              "    <tr>\n",
              "      <th>Service Games</th>\n",
              "      <td>9</td>\n",
              "      <td>9</td>\n",
              "    </tr>\n",
              "    <tr>\n",
              "      <th>Service Points Won Percentage</th>\n",
              "      <td>62</td>\n",
              "      <td>48</td>\n",
              "    </tr>\n",
              "    <tr>\n",
              "      <th>Total 1st Serve Points</th>\n",
              "      <td>33</td>\n",
              "      <td>40</td>\n",
              "    </tr>\n",
              "    <tr>\n",
              "      <th>Total 2nd Serve Points</th>\n",
              "      <td>25</td>\n",
              "      <td>21</td>\n",
              "    </tr>\n",
              "    <tr>\n",
              "      <th>Total Points Won Percentage</th>\n",
              "      <td>57</td>\n",
              "      <td>43</td>\n",
              "    </tr>\n",
              "    <tr>\n",
              "      <th>Unforced Errors</th>\n",
              "      <td>14</td>\n",
              "      <td>29</td>\n",
              "    </tr>\n",
              "    <tr>\n",
              "      <th>Winners</th>\n",
              "      <td>17</td>\n",
              "      <td>15</td>\n",
              "    </tr>\n",
              "  </tbody>\n",
              "</table>\n",
              "</div>"
            ],
            "text/plain": [
              "0                             Halep S. Gauff C.\n",
              "Match Statistics                               \n",
              "1st Return Points Won               19        8\n",
              "1st Serve Percentage                57       66\n",
              "1st Serve Points Won                25       21\n",
              "2nd Return Points Won               12        9\n",
              "2nd Serve Points Won                11        8\n",
              "Aces                                 2        0\n",
              "Break Points Saved                   4        7\n",
              "Break Points Won                     5        2\n",
              "Double Faults                        5        1\n",
              "Return Points Won Percentage        52       38\n",
              "Service Games                        9        9\n",
              "Service Points Won Percentage       62       48\n",
              "Total 1st Serve Points              33       40\n",
              "Total 2nd Serve Points              25       21\n",
              "Total Points Won Percentage         57       43\n",
              "Unforced Errors                     14       29\n",
              "Winners                             17       15"
            ]
          },
          "metadata": {
            "tags": []
          },
          "execution_count": 21
        }
      ]
    },
    {
      "cell_type": "code",
      "metadata": {
        "colab_type": "code",
        "id": "PqYEMM7x5DBk",
        "colab": {}
      },
      "source": [
        "gauffHalep.to_excel(\"gauffHalep.xlsx\")\n",
        "gauffHercog.to_excel(\"gauffHercog.xlsx\")\n",
        "gauffRybarikova.to_excel(\"gauffRybarikova.xlsx\")\n",
        "gauffWilliams.to_excel(\"gauffWilliams.xlsx\")\n",
        "\n"
      ],
      "execution_count": 0,
      "outputs": []
    },
    {
      "cell_type": "markdown",
      "metadata": {
        "id": "Db3nS5T2-r-2",
        "colab_type": "text"
      },
      "source": [
        "# Data Analysis and Adjustment\n",
        "*30 Marks*"
      ]
    },
    {
      "cell_type": "markdown",
      "metadata": {
        "id": "u9uzjdt68z2X",
        "colab_type": "text"
      },
      "source": [
        "### Data Analysis and Adjustment Tools *(5 marks)*\n",
        "\n",
        "​\n",
        "Please provide an introduction to the tools (modules, libraries, frameworks) used to understand data, analyse it and/or prepare it for further analysis. Please also suggest resources that you have used to obtain information about the tools (this can include documentation, tutorials, websites, question threads). You should format links using Markdown and sensible titles.\n",
        "​\n",
        "Suggestions include *NumPy*, *SciPy*, *Scikit Learn*, *Pandas*\n",
        "\n"
      ]
    },
    {
      "cell_type": "markdown",
      "metadata": {
        "id": "W_VRs55Ok1Tl",
        "colab_type": "text"
      },
      "source": [
        "For this section of the coursework I have used Numpy which is a mathematiccal ppython liubrary which allows me to perform many basic but also complex statistical analysis such as the mean, standard deviation and much more. https://numpy.org/devdocs/\n",
        "\n",
        "Throughout the whole coursework I have also been using pandas which has allowed me to manipulate my data for easier analysis. https://pandas.pydata.org/pandas-docs/stable/\n",
        "\n",
        "To perform analysis on sports we have to be able to understand the importance of each matrix on the athelet's performance and how a decrease or increase in a matrix will affect the score, hence, I had also to read around the sport and look at past basic analysis which would help guide my own analysis. \n",
        "These articles have helped me choose which matrix I should be analysing with the data that I have available. Looking at the official stats carried out by Wimbledon is also a great way to see how expert study the game.\n",
        "\n",
        "1. https://www.wimbledon.com/en_GB/scores/stats/2701.html\n",
        "\n",
        "2. https://bleacherreport.com/articles/1733332-the-five-most-important-statistics-in-womens-tennis\n",
        "\n",
        "3. http://baseline.tennis.com/article/76923/return-biggest-part-game-serena-williams\n",
        "\n",
        "4. http://www.tennisviewmag.com/tennis-view-magazine/article/tennis-statistics-objective-analysis\n",
        "\n",
        "5. https://www.braingametennis.com/saving-break-points-1st-serve-v-2nd-serve/\n",
        "\n",
        "6. https://www.collinsdictionary.com/word-lists/tennis-tennis-terms"
      ]
    },
    {
      "cell_type": "markdown",
      "metadata": {
        "id": "q_kcNMTA-4XP",
        "colab_type": "text"
      },
      "source": [
        "### Data Analysis and Adjustment Code *(15 marks)*\n",
        "Please use one or two of the aforementioned tools to prepare, adjust or numerically analyse the information obtained in the first stage. You may choose to practice on a pre-existing dataset; in exceptional circumstances if the first or second stage does not produce satisfactory results, you may choose to adjust or analyse an alternative, preprepared dataset."
      ]
    },
    {
      "cell_type": "code",
      "metadata": {
        "id": "EwB1beKmUCB3",
        "colab_type": "code",
        "colab": {}
      },
      "source": [
        "import numpy as np"
      ],
      "execution_count": 0,
      "outputs": []
    },
    {
      "cell_type": "markdown",
      "metadata": {
        "id": "H6dRiGNZ3XS3",
        "colab_type": "text"
      },
      "source": [
        "# Serena Analysis"
      ]
    },
    {
      "cell_type": "markdown",
      "metadata": {
        "id": "UCZGvfAp9qxH",
        "colab_type": "text"
      },
      "source": [
        "### Data cleaning and formating"
      ]
    },
    {
      "cell_type": "markdown",
      "metadata": {
        "id": "VasrxLsdmgco",
        "colab_type": "text"
      },
      "source": [
        " Creating a dataset with all the matches so it is easier to analyse\n",
        "\n",
        "---\n",
        "\n",
        "I then created filtered tables to allow me to look at only Serena's and Coco's stats without having the opponents columns."
      ]
    },
    {
      "cell_type": "code",
      "metadata": {
        "id": "1yr9GEbYnjJE",
        "colab_type": "code",
        "outputId": "084334a2-6c85-4a8e-f556-cc8b11785892",
        "colab": {
          "base_uri": "https://localhost:8080/",
          "height": 601
        }
      },
      "source": [
        "SerenaWilliams= pd.concat([williamsHalep, williamsStrycova, williamsRiske,williamsSuarez,williamsGeorges,williamsKaja, williamsGiulia], axis=1)\n",
        "SerenaWilliamsStats=SerenaWilliams['Williams S.']\n",
        "SerenaWilliamsStats"
      ],
      "execution_count": 0,
      "outputs": [
        {
          "output_type": "execute_result",
          "data": {
            "text/html": [
              "<div>\n",
              "<style scoped>\n",
              "    .dataframe tbody tr th:only-of-type {\n",
              "        vertical-align: middle;\n",
              "    }\n",
              "\n",
              "    .dataframe tbody tr th {\n",
              "        vertical-align: top;\n",
              "    }\n",
              "\n",
              "    .dataframe thead th {\n",
              "        text-align: right;\n",
              "    }\n",
              "</style>\n",
              "<table border=\"1\" class=\"dataframe\">\n",
              "  <thead>\n",
              "    <tr style=\"text-align: right;\">\n",
              "      <th></th>\n",
              "      <th>Williams S.</th>\n",
              "      <th>Williams S.</th>\n",
              "      <th>Williams S.</th>\n",
              "      <th>Williams S.</th>\n",
              "      <th>Williams S.</th>\n",
              "      <th>Williams S.</th>\n",
              "      <th>Williams S.</th>\n",
              "    </tr>\n",
              "    <tr>\n",
              "      <th>Match Statistics</th>\n",
              "      <th></th>\n",
              "      <th></th>\n",
              "      <th></th>\n",
              "      <th></th>\n",
              "      <th></th>\n",
              "      <th></th>\n",
              "      <th></th>\n",
              "    </tr>\n",
              "  </thead>\n",
              "  <tbody>\n",
              "    <tr>\n",
              "      <th>1st Return Points Won</th>\n",
              "      <td>6</td>\n",
              "      <td>12</td>\n",
              "      <td>24</td>\n",
              "      <td>16</td>\n",
              "      <td>5</td>\n",
              "      <td>21</td>\n",
              "      <td>19</td>\n",
              "    </tr>\n",
              "    <tr>\n",
              "      <th>1st Serve Percentage</th>\n",
              "      <td>68</td>\n",
              "      <td>61</td>\n",
              "      <td>58</td>\n",
              "      <td>61</td>\n",
              "      <td>71</td>\n",
              "      <td>54</td>\n",
              "      <td>65</td>\n",
              "    </tr>\n",
              "    <tr>\n",
              "      <th>1st Serve Points Won</th>\n",
              "      <td>19</td>\n",
              "      <td>24</td>\n",
              "      <td>34</td>\n",
              "      <td>21</td>\n",
              "      <td>31</td>\n",
              "      <td>30</td>\n",
              "      <td>25</td>\n",
              "    </tr>\n",
              "    <tr>\n",
              "      <th>2nd Return Points Won</th>\n",
              "      <td>6</td>\n",
              "      <td>8</td>\n",
              "      <td>12</td>\n",
              "      <td>13</td>\n",
              "      <td>15</td>\n",
              "      <td>10</td>\n",
              "      <td>13</td>\n",
              "    </tr>\n",
              "    <tr>\n",
              "      <th>2nd Serve Points Won</th>\n",
              "      <td>5</td>\n",
              "      <td>9</td>\n",
              "      <td>20</td>\n",
              "      <td>8</td>\n",
              "      <td>12</td>\n",
              "      <td>17</td>\n",
              "      <td>11</td>\n",
              "    </tr>\n",
              "    <tr>\n",
              "      <th>Aces</th>\n",
              "      <td>2</td>\n",
              "      <td>4</td>\n",
              "      <td>19</td>\n",
              "      <td>2</td>\n",
              "      <td>7</td>\n",
              "      <td>6</td>\n",
              "      <td>7</td>\n",
              "    </tr>\n",
              "    <tr>\n",
              "      <th>Break Points Saved</th>\n",
              "      <td>1</td>\n",
              "      <td>3</td>\n",
              "      <td>0</td>\n",
              "      <td>2</td>\n",
              "      <td>0</td>\n",
              "      <td>0</td>\n",
              "      <td>2</td>\n",
              "    </tr>\n",
              "    <tr>\n",
              "      <th>Break Points Won</th>\n",
              "      <td>0</td>\n",
              "      <td>4</td>\n",
              "      <td>6</td>\n",
              "      <td>5</td>\n",
              "      <td>1</td>\n",
              "      <td>4</td>\n",
              "      <td>5</td>\n",
              "    </tr>\n",
              "    <tr>\n",
              "      <th>Double Faults</th>\n",
              "      <td>1</td>\n",
              "      <td>1</td>\n",
              "      <td>2</td>\n",
              "      <td>0</td>\n",
              "      <td>0</td>\n",
              "      <td>5</td>\n",
              "      <td>2</td>\n",
              "    </tr>\n",
              "    <tr>\n",
              "      <th>Return Points Won Percentage</th>\n",
              "      <td>26</td>\n",
              "      <td>51</td>\n",
              "      <td>45</td>\n",
              "      <td>53</td>\n",
              "      <td>37</td>\n",
              "      <td>41</td>\n",
              "      <td>52</td>\n",
              "    </tr>\n",
              "    <tr>\n",
              "      <th>Service Games</th>\n",
              "      <td>8</td>\n",
              "      <td>8</td>\n",
              "      <td>15</td>\n",
              "      <td>8</td>\n",
              "      <td>10</td>\n",
              "      <td>13</td>\n",
              "      <td>10</td>\n",
              "    </tr>\n",
              "    <tr>\n",
              "      <th>Service Points Won Percentage</th>\n",
              "      <td>55</td>\n",
              "      <td>75</td>\n",
              "      <td>59</td>\n",
              "      <td>66</td>\n",
              "      <td>74</td>\n",
              "      <td>65</td>\n",
              "      <td>65</td>\n",
              "    </tr>\n",
              "    <tr>\n",
              "      <th>Total 1st Serve Points</th>\n",
              "      <td>32</td>\n",
              "      <td>27</td>\n",
              "      <td>53</td>\n",
              "      <td>27</td>\n",
              "      <td>41</td>\n",
              "      <td>39</td>\n",
              "      <td>36</td>\n",
              "    </tr>\n",
              "    <tr>\n",
              "      <th>Total 2nd Serve Points</th>\n",
              "      <td>15</td>\n",
              "      <td>17</td>\n",
              "      <td>39</td>\n",
              "      <td>17</td>\n",
              "      <td>17</td>\n",
              "      <td>33</td>\n",
              "      <td>19</td>\n",
              "    </tr>\n",
              "    <tr>\n",
              "      <th>Total Points Won Percentage</th>\n",
              "      <td>42</td>\n",
              "      <td>64</td>\n",
              "      <td>52</td>\n",
              "      <td>58</td>\n",
              "      <td>56</td>\n",
              "      <td>53</td>\n",
              "      <td>58</td>\n",
              "    </tr>\n",
              "    <tr>\n",
              "      <th>Unforced Errors</th>\n",
              "      <td>24</td>\n",
              "      <td>10</td>\n",
              "      <td>27</td>\n",
              "      <td>19</td>\n",
              "      <td>15</td>\n",
              "      <td>26</td>\n",
              "      <td>23</td>\n",
              "    </tr>\n",
              "    <tr>\n",
              "      <th>Winners</th>\n",
              "      <td>17</td>\n",
              "      <td>28</td>\n",
              "      <td>48</td>\n",
              "      <td>21</td>\n",
              "      <td>19</td>\n",
              "      <td>25</td>\n",
              "      <td>26</td>\n",
              "    </tr>\n",
              "  </tbody>\n",
              "</table>\n",
              "</div>"
            ],
            "text/plain": [
              "0                             Williams S. Williams S.  ... Williams S. Williams S.\n",
              "Match Statistics                                       ...                        \n",
              "1st Return Points Won                   6          12  ...          21          19\n",
              "1st Serve Percentage                   68          61  ...          54          65\n",
              "1st Serve Points Won                   19          24  ...          30          25\n",
              "2nd Return Points Won                   6           8  ...          10          13\n",
              "2nd Serve Points Won                    5           9  ...          17          11\n",
              "Aces                                    2           4  ...           6           7\n",
              "Break Points Saved                      1           3  ...           0           2\n",
              "Break Points Won                        0           4  ...           4           5\n",
              "Double Faults                           1           1  ...           5           2\n",
              "Return Points Won Percentage           26          51  ...          41          52\n",
              "Service Games                           8           8  ...          13          10\n",
              "Service Points Won Percentage          55          75  ...          65          65\n",
              "Total 1st Serve Points                 32          27  ...          39          36\n",
              "Total 2nd Serve Points                 15          17  ...          33          19\n",
              "Total Points Won Percentage            42          64  ...          53          58\n",
              "Unforced Errors                        24          10  ...          26          23\n",
              "Winners                                17          28  ...          25          26\n",
              "\n",
              "[17 rows x 7 columns]"
            ]
          },
          "metadata": {
            "tags": []
          },
          "execution_count": 24
        }
      ]
    },
    {
      "cell_type": "markdown",
      "metadata": {
        "id": "FN-OklaoSEk5",
        "colab_type": "text"
      },
      "source": [
        "All of Serena's stats were under the same named columns which would cause issues in future analysis so here I am renaning the columns for better reference."
      ]
    },
    {
      "cell_type": "code",
      "metadata": {
        "id": "_e45diStPYDd",
        "colab_type": "code",
        "outputId": "1d3bae83-d80f-4d9b-a15b-4793b1a25b74",
        "colab": {
          "base_uri": "https://localhost:8080/",
          "height": 670
        }
      },
      "source": [
        "SerenaWilliamsStats.columns = [\"Williams S.Final\", \"Williams S.SF\", \"Williams S.QF\", \"Williams S.R4\", \"Williams S.R3\", \"Williams S.R2\", \"Williams S.R1\"]\n",
        "SerenaWilliamsStats"
      ],
      "execution_count": 0,
      "outputs": [
        {
          "output_type": "execute_result",
          "data": {
            "text/html": [
              "<div>\n",
              "<style scoped>\n",
              "    .dataframe tbody tr th:only-of-type {\n",
              "        vertical-align: middle;\n",
              "    }\n",
              "\n",
              "    .dataframe tbody tr th {\n",
              "        vertical-align: top;\n",
              "    }\n",
              "\n",
              "    .dataframe thead th {\n",
              "        text-align: right;\n",
              "    }\n",
              "</style>\n",
              "<table border=\"1\" class=\"dataframe\">\n",
              "  <thead>\n",
              "    <tr style=\"text-align: right;\">\n",
              "      <th></th>\n",
              "      <th>Williams S.Final</th>\n",
              "      <th>Williams S.SF</th>\n",
              "      <th>Williams S.QF</th>\n",
              "      <th>Williams S.R4</th>\n",
              "      <th>Williams S.R3</th>\n",
              "      <th>Williams S.R2</th>\n",
              "      <th>Williams S.R1</th>\n",
              "    </tr>\n",
              "    <tr>\n",
              "      <th>Match Statistics</th>\n",
              "      <th></th>\n",
              "      <th></th>\n",
              "      <th></th>\n",
              "      <th></th>\n",
              "      <th></th>\n",
              "      <th></th>\n",
              "      <th></th>\n",
              "    </tr>\n",
              "  </thead>\n",
              "  <tbody>\n",
              "    <tr>\n",
              "      <th>1st Return Points Won</th>\n",
              "      <td>6</td>\n",
              "      <td>12</td>\n",
              "      <td>24</td>\n",
              "      <td>16</td>\n",
              "      <td>5</td>\n",
              "      <td>21</td>\n",
              "      <td>19</td>\n",
              "    </tr>\n",
              "    <tr>\n",
              "      <th>1st Serve Percentage</th>\n",
              "      <td>68</td>\n",
              "      <td>61</td>\n",
              "      <td>58</td>\n",
              "      <td>61</td>\n",
              "      <td>71</td>\n",
              "      <td>54</td>\n",
              "      <td>65</td>\n",
              "    </tr>\n",
              "    <tr>\n",
              "      <th>1st Serve Points Won</th>\n",
              "      <td>19</td>\n",
              "      <td>24</td>\n",
              "      <td>34</td>\n",
              "      <td>21</td>\n",
              "      <td>31</td>\n",
              "      <td>30</td>\n",
              "      <td>25</td>\n",
              "    </tr>\n",
              "    <tr>\n",
              "      <th>2nd Return Points Won</th>\n",
              "      <td>6</td>\n",
              "      <td>8</td>\n",
              "      <td>12</td>\n",
              "      <td>13</td>\n",
              "      <td>15</td>\n",
              "      <td>10</td>\n",
              "      <td>13</td>\n",
              "    </tr>\n",
              "    <tr>\n",
              "      <th>2nd Serve Points Won</th>\n",
              "      <td>5</td>\n",
              "      <td>9</td>\n",
              "      <td>20</td>\n",
              "      <td>8</td>\n",
              "      <td>12</td>\n",
              "      <td>17</td>\n",
              "      <td>11</td>\n",
              "    </tr>\n",
              "    <tr>\n",
              "      <th>Aces</th>\n",
              "      <td>2</td>\n",
              "      <td>4</td>\n",
              "      <td>19</td>\n",
              "      <td>2</td>\n",
              "      <td>7</td>\n",
              "      <td>6</td>\n",
              "      <td>7</td>\n",
              "    </tr>\n",
              "    <tr>\n",
              "      <th>Break Points Saved</th>\n",
              "      <td>1</td>\n",
              "      <td>3</td>\n",
              "      <td>0</td>\n",
              "      <td>2</td>\n",
              "      <td>0</td>\n",
              "      <td>0</td>\n",
              "      <td>2</td>\n",
              "    </tr>\n",
              "    <tr>\n",
              "      <th>Break Points Won</th>\n",
              "      <td>0</td>\n",
              "      <td>4</td>\n",
              "      <td>6</td>\n",
              "      <td>5</td>\n",
              "      <td>1</td>\n",
              "      <td>4</td>\n",
              "      <td>5</td>\n",
              "    </tr>\n",
              "    <tr>\n",
              "      <th>Double Faults</th>\n",
              "      <td>1</td>\n",
              "      <td>1</td>\n",
              "      <td>2</td>\n",
              "      <td>0</td>\n",
              "      <td>0</td>\n",
              "      <td>5</td>\n",
              "      <td>2</td>\n",
              "    </tr>\n",
              "    <tr>\n",
              "      <th>Return Points Won Percentage</th>\n",
              "      <td>26</td>\n",
              "      <td>51</td>\n",
              "      <td>45</td>\n",
              "      <td>53</td>\n",
              "      <td>37</td>\n",
              "      <td>41</td>\n",
              "      <td>52</td>\n",
              "    </tr>\n",
              "    <tr>\n",
              "      <th>Service Games</th>\n",
              "      <td>8</td>\n",
              "      <td>8</td>\n",
              "      <td>15</td>\n",
              "      <td>8</td>\n",
              "      <td>10</td>\n",
              "      <td>13</td>\n",
              "      <td>10</td>\n",
              "    </tr>\n",
              "    <tr>\n",
              "      <th>Service Points Won Percentage</th>\n",
              "      <td>55</td>\n",
              "      <td>75</td>\n",
              "      <td>59</td>\n",
              "      <td>66</td>\n",
              "      <td>74</td>\n",
              "      <td>65</td>\n",
              "      <td>65</td>\n",
              "    </tr>\n",
              "    <tr>\n",
              "      <th>Total 1st Serve Points</th>\n",
              "      <td>32</td>\n",
              "      <td>27</td>\n",
              "      <td>53</td>\n",
              "      <td>27</td>\n",
              "      <td>41</td>\n",
              "      <td>39</td>\n",
              "      <td>36</td>\n",
              "    </tr>\n",
              "    <tr>\n",
              "      <th>Total 2nd Serve Points</th>\n",
              "      <td>15</td>\n",
              "      <td>17</td>\n",
              "      <td>39</td>\n",
              "      <td>17</td>\n",
              "      <td>17</td>\n",
              "      <td>33</td>\n",
              "      <td>19</td>\n",
              "    </tr>\n",
              "    <tr>\n",
              "      <th>Total Points Won Percentage</th>\n",
              "      <td>42</td>\n",
              "      <td>64</td>\n",
              "      <td>52</td>\n",
              "      <td>58</td>\n",
              "      <td>56</td>\n",
              "      <td>53</td>\n",
              "      <td>58</td>\n",
              "    </tr>\n",
              "    <tr>\n",
              "      <th>Unforced Errors</th>\n",
              "      <td>24</td>\n",
              "      <td>10</td>\n",
              "      <td>27</td>\n",
              "      <td>19</td>\n",
              "      <td>15</td>\n",
              "      <td>26</td>\n",
              "      <td>23</td>\n",
              "    </tr>\n",
              "    <tr>\n",
              "      <th>Winners</th>\n",
              "      <td>17</td>\n",
              "      <td>28</td>\n",
              "      <td>48</td>\n",
              "      <td>21</td>\n",
              "      <td>19</td>\n",
              "      <td>25</td>\n",
              "      <td>26</td>\n",
              "    </tr>\n",
              "  </tbody>\n",
              "</table>\n",
              "</div>"
            ],
            "text/plain": [
              "                              Williams S.Final  ... Williams S.R1\n",
              "Match Statistics                                ...              \n",
              "1st Return Points Won                        6  ...            19\n",
              "1st Serve Percentage                        68  ...            65\n",
              "1st Serve Points Won                        19  ...            25\n",
              "2nd Return Points Won                        6  ...            13\n",
              "2nd Serve Points Won                         5  ...            11\n",
              "Aces                                         2  ...             7\n",
              "Break Points Saved                           1  ...             2\n",
              "Break Points Won                             0  ...             5\n",
              "Double Faults                                1  ...             2\n",
              "Return Points Won Percentage                26  ...            52\n",
              "Service Games                                8  ...            10\n",
              "Service Points Won Percentage               55  ...            65\n",
              "Total 1st Serve Points                      32  ...            36\n",
              "Total 2nd Serve Points                      15  ...            19\n",
              "Total Points Won Percentage                 42  ...            58\n",
              "Unforced Errors                             24  ...            23\n",
              "Winners                                     17  ...            26\n",
              "\n",
              "[17 rows x 7 columns]"
            ]
          },
          "metadata": {
            "tags": []
          },
          "execution_count": 25
        }
      ]
    },
    {
      "cell_type": "markdown",
      "metadata": {
        "id": "o01iIFGrP36j",
        "colab_type": "text"
      },
      "source": [
        "Here I am separating her winning matches from her loosing match because later on I will be calculating some averages in which I don't want her loosing match to be involved in."
      ]
    },
    {
      "cell_type": "code",
      "metadata": {
        "id": "qLBn_4EcSaZf",
        "colab_type": "code",
        "outputId": "dfac57d3-fba5-4b89-dae8-17a402166c28",
        "colab": {
          "base_uri": "https://localhost:8080/",
          "height": 601
        }
      },
      "source": [
        "serenaWins=SerenaWilliamsStats.iloc[:,1:7]\n",
        "serenaWins"
      ],
      "execution_count": 0,
      "outputs": [
        {
          "output_type": "execute_result",
          "data": {
            "text/html": [
              "<div>\n",
              "<style scoped>\n",
              "    .dataframe tbody tr th:only-of-type {\n",
              "        vertical-align: middle;\n",
              "    }\n",
              "\n",
              "    .dataframe tbody tr th {\n",
              "        vertical-align: top;\n",
              "    }\n",
              "\n",
              "    .dataframe thead th {\n",
              "        text-align: right;\n",
              "    }\n",
              "</style>\n",
              "<table border=\"1\" class=\"dataframe\">\n",
              "  <thead>\n",
              "    <tr style=\"text-align: right;\">\n",
              "      <th></th>\n",
              "      <th>Williams S.SF</th>\n",
              "      <th>Williams S.QF</th>\n",
              "      <th>Williams S.R4</th>\n",
              "      <th>Williams S.R3</th>\n",
              "      <th>Williams S.R2</th>\n",
              "      <th>Williams S.R1</th>\n",
              "    </tr>\n",
              "    <tr>\n",
              "      <th>Match Statistics</th>\n",
              "      <th></th>\n",
              "      <th></th>\n",
              "      <th></th>\n",
              "      <th></th>\n",
              "      <th></th>\n",
              "      <th></th>\n",
              "    </tr>\n",
              "  </thead>\n",
              "  <tbody>\n",
              "    <tr>\n",
              "      <th>1st Return Points Won</th>\n",
              "      <td>12</td>\n",
              "      <td>24</td>\n",
              "      <td>16</td>\n",
              "      <td>5</td>\n",
              "      <td>21</td>\n",
              "      <td>19</td>\n",
              "    </tr>\n",
              "    <tr>\n",
              "      <th>1st Serve Percentage</th>\n",
              "      <td>61</td>\n",
              "      <td>58</td>\n",
              "      <td>61</td>\n",
              "      <td>71</td>\n",
              "      <td>54</td>\n",
              "      <td>65</td>\n",
              "    </tr>\n",
              "    <tr>\n",
              "      <th>1st Serve Points Won</th>\n",
              "      <td>24</td>\n",
              "      <td>34</td>\n",
              "      <td>21</td>\n",
              "      <td>31</td>\n",
              "      <td>30</td>\n",
              "      <td>25</td>\n",
              "    </tr>\n",
              "    <tr>\n",
              "      <th>2nd Return Points Won</th>\n",
              "      <td>8</td>\n",
              "      <td>12</td>\n",
              "      <td>13</td>\n",
              "      <td>15</td>\n",
              "      <td>10</td>\n",
              "      <td>13</td>\n",
              "    </tr>\n",
              "    <tr>\n",
              "      <th>2nd Serve Points Won</th>\n",
              "      <td>9</td>\n",
              "      <td>20</td>\n",
              "      <td>8</td>\n",
              "      <td>12</td>\n",
              "      <td>17</td>\n",
              "      <td>11</td>\n",
              "    </tr>\n",
              "    <tr>\n",
              "      <th>Aces</th>\n",
              "      <td>4</td>\n",
              "      <td>19</td>\n",
              "      <td>2</td>\n",
              "      <td>7</td>\n",
              "      <td>6</td>\n",
              "      <td>7</td>\n",
              "    </tr>\n",
              "    <tr>\n",
              "      <th>Break Points Saved</th>\n",
              "      <td>3</td>\n",
              "      <td>0</td>\n",
              "      <td>2</td>\n",
              "      <td>0</td>\n",
              "      <td>0</td>\n",
              "      <td>2</td>\n",
              "    </tr>\n",
              "    <tr>\n",
              "      <th>Break Points Won</th>\n",
              "      <td>4</td>\n",
              "      <td>6</td>\n",
              "      <td>5</td>\n",
              "      <td>1</td>\n",
              "      <td>4</td>\n",
              "      <td>5</td>\n",
              "    </tr>\n",
              "    <tr>\n",
              "      <th>Double Faults</th>\n",
              "      <td>1</td>\n",
              "      <td>2</td>\n",
              "      <td>0</td>\n",
              "      <td>0</td>\n",
              "      <td>5</td>\n",
              "      <td>2</td>\n",
              "    </tr>\n",
              "    <tr>\n",
              "      <th>Return Points Won Percentage</th>\n",
              "      <td>51</td>\n",
              "      <td>45</td>\n",
              "      <td>53</td>\n",
              "      <td>37</td>\n",
              "      <td>41</td>\n",
              "      <td>52</td>\n",
              "    </tr>\n",
              "    <tr>\n",
              "      <th>Service Games</th>\n",
              "      <td>8</td>\n",
              "      <td>15</td>\n",
              "      <td>8</td>\n",
              "      <td>10</td>\n",
              "      <td>13</td>\n",
              "      <td>10</td>\n",
              "    </tr>\n",
              "    <tr>\n",
              "      <th>Service Points Won Percentage</th>\n",
              "      <td>75</td>\n",
              "      <td>59</td>\n",
              "      <td>66</td>\n",
              "      <td>74</td>\n",
              "      <td>65</td>\n",
              "      <td>65</td>\n",
              "    </tr>\n",
              "    <tr>\n",
              "      <th>Total 1st Serve Points</th>\n",
              "      <td>27</td>\n",
              "      <td>53</td>\n",
              "      <td>27</td>\n",
              "      <td>41</td>\n",
              "      <td>39</td>\n",
              "      <td>36</td>\n",
              "    </tr>\n",
              "    <tr>\n",
              "      <th>Total 2nd Serve Points</th>\n",
              "      <td>17</td>\n",
              "      <td>39</td>\n",
              "      <td>17</td>\n",
              "      <td>17</td>\n",
              "      <td>33</td>\n",
              "      <td>19</td>\n",
              "    </tr>\n",
              "    <tr>\n",
              "      <th>Total Points Won Percentage</th>\n",
              "      <td>64</td>\n",
              "      <td>52</td>\n",
              "      <td>58</td>\n",
              "      <td>56</td>\n",
              "      <td>53</td>\n",
              "      <td>58</td>\n",
              "    </tr>\n",
              "    <tr>\n",
              "      <th>Unforced Errors</th>\n",
              "      <td>10</td>\n",
              "      <td>27</td>\n",
              "      <td>19</td>\n",
              "      <td>15</td>\n",
              "      <td>26</td>\n",
              "      <td>23</td>\n",
              "    </tr>\n",
              "    <tr>\n",
              "      <th>Winners</th>\n",
              "      <td>28</td>\n",
              "      <td>48</td>\n",
              "      <td>21</td>\n",
              "      <td>19</td>\n",
              "      <td>25</td>\n",
              "      <td>26</td>\n",
              "    </tr>\n",
              "  </tbody>\n",
              "</table>\n",
              "</div>"
            ],
            "text/plain": [
              "                              Williams S.SF  ... Williams S.R1\n",
              "Match Statistics                             ...              \n",
              "1st Return Points Won                    12  ...            19\n",
              "1st Serve Percentage                     61  ...            65\n",
              "1st Serve Points Won                     24  ...            25\n",
              "2nd Return Points Won                     8  ...            13\n",
              "2nd Serve Points Won                      9  ...            11\n",
              "Aces                                      4  ...             7\n",
              "Break Points Saved                        3  ...             2\n",
              "Break Points Won                          4  ...             5\n",
              "Double Faults                             1  ...             2\n",
              "Return Points Won Percentage             51  ...            52\n",
              "Service Games                             8  ...            10\n",
              "Service Points Won Percentage            75  ...            65\n",
              "Total 1st Serve Points                   27  ...            36\n",
              "Total 2nd Serve Points                   17  ...            19\n",
              "Total Points Won Percentage              64  ...            58\n",
              "Unforced Errors                          10  ...            23\n",
              "Winners                                  28  ...            26\n",
              "\n",
              "[17 rows x 6 columns]"
            ]
          },
          "metadata": {
            "tags": []
          },
          "execution_count": 26
        }
      ]
    },
    {
      "cell_type": "code",
      "metadata": {
        "id": "9d5xleiWcbc9",
        "colab_type": "code",
        "colab": {}
      },
      "source": [
        "serenaloss=SerenaWilliamsStats['Williams S.Final']"
      ],
      "execution_count": 0,
      "outputs": []
    },
    {
      "cell_type": "markdown",
      "metadata": {
        "id": "LO0Sq6gWrKoC",
        "colab_type": "text"
      },
      "source": [
        "Putting her Final match into its own dataset to carry out percentage change analysis"
      ]
    },
    {
      "cell_type": "code",
      "metadata": {
        "id": "RU6dY3toz62Z",
        "colab_type": "code",
        "colab": {}
      },
      "source": [
        "Serenaopponents=SerenaWilliams.drop(\"Williams S.\", axis=1)\n"
      ],
      "execution_count": 0,
      "outputs": []
    },
    {
      "cell_type": "markdown",
      "metadata": {
        "id": "nhi4xvE-keb7",
        "colab_type": "text"
      },
      "source": [
        "Have to change all datasets to integers as Numpy does not work with floats"
      ]
    },
    {
      "cell_type": "code",
      "metadata": {
        "id": "O7rluQE39eI4",
        "colab_type": "code",
        "colab": {}
      },
      "source": [
        "serenaloss=serenaloss.astype('float16')"
      ],
      "execution_count": 0,
      "outputs": []
    },
    {
      "cell_type": "code",
      "metadata": {
        "id": "v0-wBezV9lKu",
        "colab_type": "code",
        "colab": {}
      },
      "source": [
        "Serenaopponents=Serenaopponents.astype('float16')"
      ],
      "execution_count": 0,
      "outputs": []
    },
    {
      "cell_type": "code",
      "metadata": {
        "id": "cFRwd_b0zahC",
        "colab_type": "code",
        "colab": {}
      },
      "source": [
        "SerenaWilliamsStats=SerenaWilliamsStats.astype('float16')"
      ],
      "execution_count": 0,
      "outputs": []
    },
    {
      "cell_type": "code",
      "metadata": {
        "id": "JA2bdrT7WEdW",
        "colab_type": "code",
        "colab": {}
      },
      "source": [
        "serenaWins=serenaWins.astype('float16')"
      ],
      "execution_count": 0,
      "outputs": []
    },
    {
      "cell_type": "markdown",
      "metadata": {
        "id": "aNARh1j99chs",
        "colab_type": "text"
      },
      "source": [
        "### Mean and Mean Comparison calculations"
      ]
    },
    {
      "cell_type": "markdown",
      "metadata": {
        "id": "jIIL22rYOzjo",
        "colab_type": "text"
      },
      "source": [
        "Here we are analysing each of the matrix by working out the mean which does not include her loosing match. This will allow me to compare her loosing match stats to her averages. We can then see a trend and hopefully figure out what drove her game down."
      ]
    },
    {
      "cell_type": "code",
      "metadata": {
        "id": "UlIAVu7zbBqU",
        "colab_type": "code",
        "outputId": "ed94e304-41b8-489c-efc8-5ec0eb8b67d3",
        "colab": {
          "base_uri": "https://localhost:8080/",
          "height": 347
        }
      },
      "source": [
        "serenaWins.mean(axis=1)"
      ],
      "execution_count": 0,
      "outputs": [
        {
          "output_type": "execute_result",
          "data": {
            "text/plain": [
              "Match Statistics\n",
              "1st Return Points Won            16.171875\n",
              "1st Serve Percentage             61.656250\n",
              "1st Serve Points Won             27.500000\n",
              "2nd Return Points Won            11.835938\n",
              "2nd Serve Points Won             12.835938\n",
              "Aces                              7.500000\n",
              "Break Points Saved                1.166992\n",
              "Break Points Won                  4.167969\n",
              "Double Faults                     1.666992\n",
              "Return Points Won Percentage     46.500000\n",
              "Service Games                    10.664062\n",
              "Service Points Won Percentage    67.312500\n",
              "Total 1st Serve Points           37.156250\n",
              "Total 2nd Serve Points           23.671875\n",
              "Total Points Won Percentage      56.843750\n",
              "Unforced Errors                  20.000000\n",
              "Winners                          27.828125\n",
              "dtype: float16"
            ]
          },
          "metadata": {
            "tags": []
          },
          "execution_count": 33
        }
      ]
    },
    {
      "cell_type": "markdown",
      "metadata": {
        "id": "3vFD_wlngXeO",
        "colab_type": "text"
      },
      "source": [
        "calculating the percentage difference between her last game and her average stats. This will help me figure out which stats are critical for a sucessfull game"
      ]
    },
    {
      "cell_type": "code",
      "metadata": {
        "id": "x5TeVu9Ffw9z",
        "colab_type": "code",
        "colab": {}
      },
      "source": [
        "SerenapercentageChange = []\n",
        "for i in range(len(serenaloss)):\n",
        "  SerenapercentageChange.extend(np.subtract(serenaloss.iloc[[i]],serenaWins.iloc[[i]].mean(axis=1)) / serenaWins.iloc[[i]].mean(axis=1) * 100)\n",
        " "
      ],
      "execution_count": 0,
      "outputs": []
    },
    {
      "cell_type": "code",
      "metadata": {
        "id": "Nrs_LlbuxDIx",
        "colab_type": "code",
        "outputId": "a22222e2-5e7d-4128-ae95-5d1244f52321",
        "colab": {
          "base_uri": "https://localhost:8080/",
          "height": 312
        }
      },
      "source": [
        "SerenapercentageChange"
      ],
      "execution_count": 0,
      "outputs": [
        {
          "output_type": "execute_result",
          "data": {
            "text/plain": [
              "[-62.875,\n",
              " 10.2890625,\n",
              " -30.90625,\n",
              " -49.3125,\n",
              " -61.03125,\n",
              " -73.3125,\n",
              " -14.3046875,\n",
              " -100.0,\n",
              " -40.0,\n",
              " -44.09375,\n",
              " -24.96875,\n",
              " -18.28125,\n",
              " -13.8828125,\n",
              " -36.65625,\n",
              " -26.125,\n",
              " 20.0,\n",
              " -38.90625]"
            ]
          },
          "metadata": {
            "tags": []
          },
          "execution_count": 35
        }
      ]
    },
    {
      "cell_type": "markdown",
      "metadata": {
        "id": "ZCl4xHBGNJ7m",
        "colab_type": "text"
      },
      "source": [
        "When we analyse her defense, we can see that she has worsen in 2 of the 3 main defense strategies. Her Return Point Won values for both 1st and 2nd serve have decreased, 62% and 49% respectively. This means that she was not able to keep up with many of the return balls from her opponent in her final. This is a driving force for an unsuccseful game because it is allowing for the opponent to increase the win margin and moreover, increasing the opportunities to win break points which are also crucial.\n",
        "\n",
        "Secondly her Break Points Won also took a massive hit (100% decrease). She was not able to win any break points which means that her opponent was able to win all of her games. This decreases massivly the chance to win sets which consequently decreases the chance of a victorious match. \n",
        "\n",
        "Other interesting observations include the a positive decrease in double faults. Double Faults occur when the server has failed both serves which results in a double fault to the server and a point to the receiver. A decrease in this means that Serena is not giving away points that could be potential serve points, break points or aces which are also good winners. \n",
        "\n",
        "Her Total Point Won percentage was also 26% below her average which basically tells us that this was definitely not a good match."
      ]
    },
    {
      "cell_type": "markdown",
      "metadata": {
        "id": "NS9gG9ZoWbf_",
        "colab_type": "text"
      },
      "source": [
        "### Return Points Won percentage calculation\n",
        "\n",
        "---\n",
        "\n",
        "Calculation : return points won / opponent's total serve points * 100"
      ]
    },
    {
      "cell_type": "code",
      "metadata": {
        "id": "vIiZ_VD84r9j",
        "colab_type": "code",
        "outputId": "c731b99a-9720-4230-cfdc-9ac9174cbb34",
        "colab": {
          "base_uri": "https://localhost:8080/",
          "height": 670
        }
      },
      "source": [
        "SerenaWilliamsStats"
      ],
      "execution_count": 0,
      "outputs": [
        {
          "output_type": "execute_result",
          "data": {
            "text/html": [
              "<div>\n",
              "<style scoped>\n",
              "    .dataframe tbody tr th:only-of-type {\n",
              "        vertical-align: middle;\n",
              "    }\n",
              "\n",
              "    .dataframe tbody tr th {\n",
              "        vertical-align: top;\n",
              "    }\n",
              "\n",
              "    .dataframe thead th {\n",
              "        text-align: right;\n",
              "    }\n",
              "</style>\n",
              "<table border=\"1\" class=\"dataframe\">\n",
              "  <thead>\n",
              "    <tr style=\"text-align: right;\">\n",
              "      <th></th>\n",
              "      <th>Williams S.Final</th>\n",
              "      <th>Williams S.SF</th>\n",
              "      <th>Williams S.QF</th>\n",
              "      <th>Williams S.R4</th>\n",
              "      <th>Williams S.R3</th>\n",
              "      <th>Williams S.R2</th>\n",
              "      <th>Williams S.R1</th>\n",
              "    </tr>\n",
              "    <tr>\n",
              "      <th>Match Statistics</th>\n",
              "      <th></th>\n",
              "      <th></th>\n",
              "      <th></th>\n",
              "      <th></th>\n",
              "      <th></th>\n",
              "      <th></th>\n",
              "      <th></th>\n",
              "    </tr>\n",
              "  </thead>\n",
              "  <tbody>\n",
              "    <tr>\n",
              "      <th>1st Return Points Won</th>\n",
              "      <td>6.0</td>\n",
              "      <td>12.0</td>\n",
              "      <td>24.0</td>\n",
              "      <td>16.0</td>\n",
              "      <td>5.0</td>\n",
              "      <td>21.0</td>\n",
              "      <td>19.0</td>\n",
              "    </tr>\n",
              "    <tr>\n",
              "      <th>1st Serve Percentage</th>\n",
              "      <td>68.0</td>\n",
              "      <td>61.0</td>\n",
              "      <td>58.0</td>\n",
              "      <td>61.0</td>\n",
              "      <td>71.0</td>\n",
              "      <td>54.0</td>\n",
              "      <td>65.0</td>\n",
              "    </tr>\n",
              "    <tr>\n",
              "      <th>1st Serve Points Won</th>\n",
              "      <td>19.0</td>\n",
              "      <td>24.0</td>\n",
              "      <td>34.0</td>\n",
              "      <td>21.0</td>\n",
              "      <td>31.0</td>\n",
              "      <td>30.0</td>\n",
              "      <td>25.0</td>\n",
              "    </tr>\n",
              "    <tr>\n",
              "      <th>2nd Return Points Won</th>\n",
              "      <td>6.0</td>\n",
              "      <td>8.0</td>\n",
              "      <td>12.0</td>\n",
              "      <td>13.0</td>\n",
              "      <td>15.0</td>\n",
              "      <td>10.0</td>\n",
              "      <td>13.0</td>\n",
              "    </tr>\n",
              "    <tr>\n",
              "      <th>2nd Serve Points Won</th>\n",
              "      <td>5.0</td>\n",
              "      <td>9.0</td>\n",
              "      <td>20.0</td>\n",
              "      <td>8.0</td>\n",
              "      <td>12.0</td>\n",
              "      <td>17.0</td>\n",
              "      <td>11.0</td>\n",
              "    </tr>\n",
              "    <tr>\n",
              "      <th>Aces</th>\n",
              "      <td>2.0</td>\n",
              "      <td>4.0</td>\n",
              "      <td>19.0</td>\n",
              "      <td>2.0</td>\n",
              "      <td>7.0</td>\n",
              "      <td>6.0</td>\n",
              "      <td>7.0</td>\n",
              "    </tr>\n",
              "    <tr>\n",
              "      <th>Break Points Saved</th>\n",
              "      <td>1.0</td>\n",
              "      <td>3.0</td>\n",
              "      <td>0.0</td>\n",
              "      <td>2.0</td>\n",
              "      <td>0.0</td>\n",
              "      <td>0.0</td>\n",
              "      <td>2.0</td>\n",
              "    </tr>\n",
              "    <tr>\n",
              "      <th>Break Points Won</th>\n",
              "      <td>0.0</td>\n",
              "      <td>4.0</td>\n",
              "      <td>6.0</td>\n",
              "      <td>5.0</td>\n",
              "      <td>1.0</td>\n",
              "      <td>4.0</td>\n",
              "      <td>5.0</td>\n",
              "    </tr>\n",
              "    <tr>\n",
              "      <th>Double Faults</th>\n",
              "      <td>1.0</td>\n",
              "      <td>1.0</td>\n",
              "      <td>2.0</td>\n",
              "      <td>0.0</td>\n",
              "      <td>0.0</td>\n",
              "      <td>5.0</td>\n",
              "      <td>2.0</td>\n",
              "    </tr>\n",
              "    <tr>\n",
              "      <th>Return Points Won Percentage</th>\n",
              "      <td>26.0</td>\n",
              "      <td>51.0</td>\n",
              "      <td>45.0</td>\n",
              "      <td>53.0</td>\n",
              "      <td>37.0</td>\n",
              "      <td>41.0</td>\n",
              "      <td>52.0</td>\n",
              "    </tr>\n",
              "    <tr>\n",
              "      <th>Service Games</th>\n",
              "      <td>8.0</td>\n",
              "      <td>8.0</td>\n",
              "      <td>15.0</td>\n",
              "      <td>8.0</td>\n",
              "      <td>10.0</td>\n",
              "      <td>13.0</td>\n",
              "      <td>10.0</td>\n",
              "    </tr>\n",
              "    <tr>\n",
              "      <th>Service Points Won Percentage</th>\n",
              "      <td>55.0</td>\n",
              "      <td>75.0</td>\n",
              "      <td>59.0</td>\n",
              "      <td>66.0</td>\n",
              "      <td>74.0</td>\n",
              "      <td>65.0</td>\n",
              "      <td>65.0</td>\n",
              "    </tr>\n",
              "    <tr>\n",
              "      <th>Total 1st Serve Points</th>\n",
              "      <td>32.0</td>\n",
              "      <td>27.0</td>\n",
              "      <td>53.0</td>\n",
              "      <td>27.0</td>\n",
              "      <td>41.0</td>\n",
              "      <td>39.0</td>\n",
              "      <td>36.0</td>\n",
              "    </tr>\n",
              "    <tr>\n",
              "      <th>Total 2nd Serve Points</th>\n",
              "      <td>15.0</td>\n",
              "      <td>17.0</td>\n",
              "      <td>39.0</td>\n",
              "      <td>17.0</td>\n",
              "      <td>17.0</td>\n",
              "      <td>33.0</td>\n",
              "      <td>19.0</td>\n",
              "    </tr>\n",
              "    <tr>\n",
              "      <th>Total Points Won Percentage</th>\n",
              "      <td>42.0</td>\n",
              "      <td>64.0</td>\n",
              "      <td>52.0</td>\n",
              "      <td>58.0</td>\n",
              "      <td>56.0</td>\n",
              "      <td>53.0</td>\n",
              "      <td>58.0</td>\n",
              "    </tr>\n",
              "    <tr>\n",
              "      <th>Unforced Errors</th>\n",
              "      <td>24.0</td>\n",
              "      <td>10.0</td>\n",
              "      <td>27.0</td>\n",
              "      <td>19.0</td>\n",
              "      <td>15.0</td>\n",
              "      <td>26.0</td>\n",
              "      <td>23.0</td>\n",
              "    </tr>\n",
              "    <tr>\n",
              "      <th>Winners</th>\n",
              "      <td>17.0</td>\n",
              "      <td>28.0</td>\n",
              "      <td>48.0</td>\n",
              "      <td>21.0</td>\n",
              "      <td>19.0</td>\n",
              "      <td>25.0</td>\n",
              "      <td>26.0</td>\n",
              "    </tr>\n",
              "  </tbody>\n",
              "</table>\n",
              "</div>"
            ],
            "text/plain": [
              "                               Williams S.Final  ...  Williams S.R1\n",
              "Match Statistics                                 ...               \n",
              "1st Return Points Won                       6.0  ...           19.0\n",
              "1st Serve Percentage                       68.0  ...           65.0\n",
              "1st Serve Points Won                       19.0  ...           25.0\n",
              "2nd Return Points Won                       6.0  ...           13.0\n",
              "2nd Serve Points Won                        5.0  ...           11.0\n",
              "Aces                                        2.0  ...            7.0\n",
              "Break Points Saved                          1.0  ...            2.0\n",
              "Break Points Won                            0.0  ...            5.0\n",
              "Double Faults                               1.0  ...            2.0\n",
              "Return Points Won Percentage               26.0  ...           52.0\n",
              "Service Games                               8.0  ...           10.0\n",
              "Service Points Won Percentage              55.0  ...           65.0\n",
              "Total 1st Serve Points                     32.0  ...           36.0\n",
              "Total 2nd Serve Points                     15.0  ...           19.0\n",
              "Total Points Won Percentage                42.0  ...           58.0\n",
              "Unforced Errors                            24.0  ...           23.0\n",
              "Winners                                    17.0  ...           26.0\n",
              "\n",
              "[17 rows x 7 columns]"
            ]
          },
          "metadata": {
            "tags": []
          },
          "execution_count": 36
        }
      ]
    },
    {
      "cell_type": "code",
      "metadata": {
        "id": "Y-vS7x9U7G2S",
        "colab_type": "code",
        "colab": {}
      },
      "source": [
        "Serenafirstreturnpointspercentage =np.divide(SerenaWilliamsStats.iloc[[0]],Serenaopponents.iloc[[12]]) * 100"
      ],
      "execution_count": 0,
      "outputs": []
    },
    {
      "cell_type": "code",
      "metadata": {
        "id": "KsYimn5vbzpZ",
        "colab_type": "code",
        "outputId": "2799b622-c5d4-4acc-bbbd-4f8970664062",
        "colab": {
          "base_uri": "https://localhost:8080/",
          "height": 145
        }
      },
      "source": [
        "Serenafirstreturnpointspercentage"
      ],
      "execution_count": 0,
      "outputs": [
        {
          "output_type": "execute_result",
          "data": {
            "text/html": [
              "<div>\n",
              "<style scoped>\n",
              "    .dataframe tbody tr th:only-of-type {\n",
              "        vertical-align: middle;\n",
              "    }\n",
              "\n",
              "    .dataframe tbody tr th {\n",
              "        vertical-align: top;\n",
              "    }\n",
              "\n",
              "    .dataframe thead th {\n",
              "        text-align: right;\n",
              "    }\n",
              "</style>\n",
              "<table border=\"1\" class=\"dataframe\">\n",
              "  <thead>\n",
              "    <tr style=\"text-align: right;\">\n",
              "      <th></th>\n",
              "      <th>Williams S.Final</th>\n",
              "      <th>Williams S.SF</th>\n",
              "      <th>Williams S.QF</th>\n",
              "      <th>Williams S.R4</th>\n",
              "      <th>Williams S.R3</th>\n",
              "      <th>Williams S.R2</th>\n",
              "      <th>Williams S.R1</th>\n",
              "    </tr>\n",
              "    <tr>\n",
              "      <th>Match Statistics</th>\n",
              "      <th></th>\n",
              "      <th></th>\n",
              "      <th></th>\n",
              "      <th></th>\n",
              "      <th></th>\n",
              "      <th></th>\n",
              "      <th></th>\n",
              "    </tr>\n",
              "  </thead>\n",
              "  <tbody>\n",
              "    <tr>\n",
              "      <th>1st Return Points Won</th>\n",
              "      <td>18.75</td>\n",
              "      <td>48.0</td>\n",
              "      <td>41.375</td>\n",
              "      <td>44.4375</td>\n",
              "      <td>17.234375</td>\n",
              "      <td>39.625</td>\n",
              "      <td>47.5</td>\n",
              "    </tr>\n",
              "  </tbody>\n",
              "</table>\n",
              "</div>"
            ],
            "text/plain": [
              "                       Williams S.Final  ...  Williams S.R1\n",
              "Match Statistics                         ...               \n",
              "1st Return Points Won             18.75  ...           47.5\n",
              "\n",
              "[1 rows x 7 columns]"
            ]
          },
          "metadata": {
            "tags": []
          },
          "execution_count": 38
        }
      ]
    },
    {
      "cell_type": "code",
      "metadata": {
        "id": "bnYHpKsl-eO8",
        "colab_type": "code",
        "colab": {}
      },
      "source": [
        "Serenasecondreturnpointspercentage = np.divide(SerenaWilliamsStats.iloc[[3]],Serenaopponents.iloc[[13]]) * 100"
      ],
      "execution_count": 0,
      "outputs": []
    },
    {
      "cell_type": "code",
      "metadata": {
        "id": "tkAeVTXnb2DH",
        "colab_type": "code",
        "outputId": "1927fefa-528d-4f12-c20a-0fbdf53ad020",
        "colab": {
          "base_uri": "https://localhost:8080/",
          "height": 145
        }
      },
      "source": [
        "Serenasecondreturnpointspercentage"
      ],
      "execution_count": 0,
      "outputs": [
        {
          "output_type": "execute_result",
          "data": {
            "text/html": [
              "<div>\n",
              "<style scoped>\n",
              "    .dataframe tbody tr th:only-of-type {\n",
              "        vertical-align: middle;\n",
              "    }\n",
              "\n",
              "    .dataframe tbody tr th {\n",
              "        vertical-align: top;\n",
              "    }\n",
              "\n",
              "    .dataframe thead th {\n",
              "        text-align: right;\n",
              "    }\n",
              "</style>\n",
              "<table border=\"1\" class=\"dataframe\">\n",
              "  <thead>\n",
              "    <tr style=\"text-align: right;\">\n",
              "      <th></th>\n",
              "      <th>Williams S.Final</th>\n",
              "      <th>Williams S.SF</th>\n",
              "      <th>Williams S.QF</th>\n",
              "      <th>Williams S.R4</th>\n",
              "      <th>Williams S.R3</th>\n",
              "      <th>Williams S.R2</th>\n",
              "      <th>Williams S.R1</th>\n",
              "    </tr>\n",
              "    <tr>\n",
              "      <th>Match Statistics</th>\n",
              "      <th></th>\n",
              "      <th></th>\n",
              "      <th></th>\n",
              "      <th></th>\n",
              "      <th></th>\n",
              "      <th></th>\n",
              "      <th></th>\n",
              "    </tr>\n",
              "  </thead>\n",
              "  <tbody>\n",
              "    <tr>\n",
              "      <th>2nd Return Points Won</th>\n",
              "      <td>54.53125</td>\n",
              "      <td>50.0</td>\n",
              "      <td>34.28125</td>\n",
              "      <td>56.53125</td>\n",
              "      <td>53.5625</td>\n",
              "      <td>34.46875</td>\n",
              "      <td>44.8125</td>\n",
              "    </tr>\n",
              "  </tbody>\n",
              "</table>\n",
              "</div>"
            ],
            "text/plain": [
              "                       Williams S.Final  ...  Williams S.R1\n",
              "Match Statistics                         ...               \n",
              "2nd Return Points Won          54.53125  ...        44.8125\n",
              "\n",
              "[1 rows x 7 columns]"
            ]
          },
          "metadata": {
            "tags": []
          },
          "execution_count": 40
        }
      ]
    },
    {
      "cell_type": "markdown",
      "metadata": {
        "id": "nokQRTRLdt2a",
        "colab_type": "text"
      },
      "source": [
        "There is a massive difference between Serena's final match return point stats compared to her winning matches, her Round 3 being an anomaly in this trend. Being able to keep the percentage near or above the 50% mark is a great way to estable control over the game. "
      ]
    },
    {
      "cell_type": "markdown",
      "metadata": {
        "id": "-Z0f58q3-FW6",
        "colab_type": "text"
      },
      "source": [
        "### Break Point Conversion Calculation"
      ]
    },
    {
      "cell_type": "code",
      "metadata": {
        "id": "MPn-hX5gQS5K",
        "colab_type": "code",
        "outputId": "363d849e-f9ce-470d-ee72-51915f915155",
        "colab": {
          "base_uri": "https://localhost:8080/",
          "height": 670
        }
      },
      "source": [
        "SerenaWilliamsStats"
      ],
      "execution_count": 0,
      "outputs": [
        {
          "output_type": "execute_result",
          "data": {
            "text/html": [
              "<div>\n",
              "<style scoped>\n",
              "    .dataframe tbody tr th:only-of-type {\n",
              "        vertical-align: middle;\n",
              "    }\n",
              "\n",
              "    .dataframe tbody tr th {\n",
              "        vertical-align: top;\n",
              "    }\n",
              "\n",
              "    .dataframe thead th {\n",
              "        text-align: right;\n",
              "    }\n",
              "</style>\n",
              "<table border=\"1\" class=\"dataframe\">\n",
              "  <thead>\n",
              "    <tr style=\"text-align: right;\">\n",
              "      <th></th>\n",
              "      <th>Williams S.Final</th>\n",
              "      <th>Williams S.SF</th>\n",
              "      <th>Williams S.QF</th>\n",
              "      <th>Williams S.R4</th>\n",
              "      <th>Williams S.R3</th>\n",
              "      <th>Williams S.R2</th>\n",
              "      <th>Williams S.R1</th>\n",
              "    </tr>\n",
              "    <tr>\n",
              "      <th>Match Statistics</th>\n",
              "      <th></th>\n",
              "      <th></th>\n",
              "      <th></th>\n",
              "      <th></th>\n",
              "      <th></th>\n",
              "      <th></th>\n",
              "      <th></th>\n",
              "    </tr>\n",
              "  </thead>\n",
              "  <tbody>\n",
              "    <tr>\n",
              "      <th>1st Return Points Won</th>\n",
              "      <td>6.0</td>\n",
              "      <td>12.0</td>\n",
              "      <td>24.0</td>\n",
              "      <td>16.0</td>\n",
              "      <td>5.0</td>\n",
              "      <td>21.0</td>\n",
              "      <td>19.0</td>\n",
              "    </tr>\n",
              "    <tr>\n",
              "      <th>1st Serve Percentage</th>\n",
              "      <td>68.0</td>\n",
              "      <td>61.0</td>\n",
              "      <td>58.0</td>\n",
              "      <td>61.0</td>\n",
              "      <td>71.0</td>\n",
              "      <td>54.0</td>\n",
              "      <td>65.0</td>\n",
              "    </tr>\n",
              "    <tr>\n",
              "      <th>1st Serve Points Won</th>\n",
              "      <td>19.0</td>\n",
              "      <td>24.0</td>\n",
              "      <td>34.0</td>\n",
              "      <td>21.0</td>\n",
              "      <td>31.0</td>\n",
              "      <td>30.0</td>\n",
              "      <td>25.0</td>\n",
              "    </tr>\n",
              "    <tr>\n",
              "      <th>2nd Return Points Won</th>\n",
              "      <td>6.0</td>\n",
              "      <td>8.0</td>\n",
              "      <td>12.0</td>\n",
              "      <td>13.0</td>\n",
              "      <td>15.0</td>\n",
              "      <td>10.0</td>\n",
              "      <td>13.0</td>\n",
              "    </tr>\n",
              "    <tr>\n",
              "      <th>2nd Serve Points Won</th>\n",
              "      <td>5.0</td>\n",
              "      <td>9.0</td>\n",
              "      <td>20.0</td>\n",
              "      <td>8.0</td>\n",
              "      <td>12.0</td>\n",
              "      <td>17.0</td>\n",
              "      <td>11.0</td>\n",
              "    </tr>\n",
              "    <tr>\n",
              "      <th>Aces</th>\n",
              "      <td>2.0</td>\n",
              "      <td>4.0</td>\n",
              "      <td>19.0</td>\n",
              "      <td>2.0</td>\n",
              "      <td>7.0</td>\n",
              "      <td>6.0</td>\n",
              "      <td>7.0</td>\n",
              "    </tr>\n",
              "    <tr>\n",
              "      <th>Break Points Saved</th>\n",
              "      <td>1.0</td>\n",
              "      <td>3.0</td>\n",
              "      <td>0.0</td>\n",
              "      <td>2.0</td>\n",
              "      <td>0.0</td>\n",
              "      <td>0.0</td>\n",
              "      <td>2.0</td>\n",
              "    </tr>\n",
              "    <tr>\n",
              "      <th>Break Points Won</th>\n",
              "      <td>0.0</td>\n",
              "      <td>4.0</td>\n",
              "      <td>6.0</td>\n",
              "      <td>5.0</td>\n",
              "      <td>1.0</td>\n",
              "      <td>4.0</td>\n",
              "      <td>5.0</td>\n",
              "    </tr>\n",
              "    <tr>\n",
              "      <th>Double Faults</th>\n",
              "      <td>1.0</td>\n",
              "      <td>1.0</td>\n",
              "      <td>2.0</td>\n",
              "      <td>0.0</td>\n",
              "      <td>0.0</td>\n",
              "      <td>5.0</td>\n",
              "      <td>2.0</td>\n",
              "    </tr>\n",
              "    <tr>\n",
              "      <th>Return Points Won Percentage</th>\n",
              "      <td>26.0</td>\n",
              "      <td>51.0</td>\n",
              "      <td>45.0</td>\n",
              "      <td>53.0</td>\n",
              "      <td>37.0</td>\n",
              "      <td>41.0</td>\n",
              "      <td>52.0</td>\n",
              "    </tr>\n",
              "    <tr>\n",
              "      <th>Service Games</th>\n",
              "      <td>8.0</td>\n",
              "      <td>8.0</td>\n",
              "      <td>15.0</td>\n",
              "      <td>8.0</td>\n",
              "      <td>10.0</td>\n",
              "      <td>13.0</td>\n",
              "      <td>10.0</td>\n",
              "    </tr>\n",
              "    <tr>\n",
              "      <th>Service Points Won Percentage</th>\n",
              "      <td>55.0</td>\n",
              "      <td>75.0</td>\n",
              "      <td>59.0</td>\n",
              "      <td>66.0</td>\n",
              "      <td>74.0</td>\n",
              "      <td>65.0</td>\n",
              "      <td>65.0</td>\n",
              "    </tr>\n",
              "    <tr>\n",
              "      <th>Total 1st Serve Points</th>\n",
              "      <td>32.0</td>\n",
              "      <td>27.0</td>\n",
              "      <td>53.0</td>\n",
              "      <td>27.0</td>\n",
              "      <td>41.0</td>\n",
              "      <td>39.0</td>\n",
              "      <td>36.0</td>\n",
              "    </tr>\n",
              "    <tr>\n",
              "      <th>Total 2nd Serve Points</th>\n",
              "      <td>15.0</td>\n",
              "      <td>17.0</td>\n",
              "      <td>39.0</td>\n",
              "      <td>17.0</td>\n",
              "      <td>17.0</td>\n",
              "      <td>33.0</td>\n",
              "      <td>19.0</td>\n",
              "    </tr>\n",
              "    <tr>\n",
              "      <th>Total Points Won Percentage</th>\n",
              "      <td>42.0</td>\n",
              "      <td>64.0</td>\n",
              "      <td>52.0</td>\n",
              "      <td>58.0</td>\n",
              "      <td>56.0</td>\n",
              "      <td>53.0</td>\n",
              "      <td>58.0</td>\n",
              "    </tr>\n",
              "    <tr>\n",
              "      <th>Unforced Errors</th>\n",
              "      <td>24.0</td>\n",
              "      <td>10.0</td>\n",
              "      <td>27.0</td>\n",
              "      <td>19.0</td>\n",
              "      <td>15.0</td>\n",
              "      <td>26.0</td>\n",
              "      <td>23.0</td>\n",
              "    </tr>\n",
              "    <tr>\n",
              "      <th>Winners</th>\n",
              "      <td>17.0</td>\n",
              "      <td>28.0</td>\n",
              "      <td>48.0</td>\n",
              "      <td>21.0</td>\n",
              "      <td>19.0</td>\n",
              "      <td>25.0</td>\n",
              "      <td>26.0</td>\n",
              "    </tr>\n",
              "  </tbody>\n",
              "</table>\n",
              "</div>"
            ],
            "text/plain": [
              "                               Williams S.Final  ...  Williams S.R1\n",
              "Match Statistics                                 ...               \n",
              "1st Return Points Won                       6.0  ...           19.0\n",
              "1st Serve Percentage                       68.0  ...           65.0\n",
              "1st Serve Points Won                       19.0  ...           25.0\n",
              "2nd Return Points Won                       6.0  ...           13.0\n",
              "2nd Serve Points Won                        5.0  ...           11.0\n",
              "Aces                                        2.0  ...            7.0\n",
              "Break Points Saved                          1.0  ...            2.0\n",
              "Break Points Won                            0.0  ...            5.0\n",
              "Double Faults                               1.0  ...            2.0\n",
              "Return Points Won Percentage               26.0  ...           52.0\n",
              "Service Games                               8.0  ...           10.0\n",
              "Service Points Won Percentage              55.0  ...           65.0\n",
              "Total 1st Serve Points                     32.0  ...           36.0\n",
              "Total 2nd Serve Points                     15.0  ...           19.0\n",
              "Total Points Won Percentage                42.0  ...           58.0\n",
              "Unforced Errors                            24.0  ...           23.0\n",
              "Winners                                    17.0  ...           26.0\n",
              "\n",
              "[17 rows x 7 columns]"
            ]
          },
          "metadata": {
            "tags": []
          },
          "execution_count": 41
        }
      ]
    },
    {
      "cell_type": "code",
      "metadata": {
        "id": "d9KLyYheIG3C",
        "colab_type": "code",
        "outputId": "ddfb2ab8-8534-4270-f893-d2d8aba5ec1e",
        "colab": {
          "base_uri": "https://localhost:8080/",
          "height": 145
        }
      },
      "source": [
        "SerenaWilliamsStats.iloc[[7]]"
      ],
      "execution_count": 0,
      "outputs": [
        {
          "output_type": "execute_result",
          "data": {
            "text/html": [
              "<div>\n",
              "<style scoped>\n",
              "    .dataframe tbody tr th:only-of-type {\n",
              "        vertical-align: middle;\n",
              "    }\n",
              "\n",
              "    .dataframe tbody tr th {\n",
              "        vertical-align: top;\n",
              "    }\n",
              "\n",
              "    .dataframe thead th {\n",
              "        text-align: right;\n",
              "    }\n",
              "</style>\n",
              "<table border=\"1\" class=\"dataframe\">\n",
              "  <thead>\n",
              "    <tr style=\"text-align: right;\">\n",
              "      <th></th>\n",
              "      <th>Williams S.Final</th>\n",
              "      <th>Williams S.SF</th>\n",
              "      <th>Williams S.QF</th>\n",
              "      <th>Williams S.R4</th>\n",
              "      <th>Williams S.R3</th>\n",
              "      <th>Williams S.R2</th>\n",
              "      <th>Williams S.R1</th>\n",
              "    </tr>\n",
              "    <tr>\n",
              "      <th>Match Statistics</th>\n",
              "      <th></th>\n",
              "      <th></th>\n",
              "      <th></th>\n",
              "      <th></th>\n",
              "      <th></th>\n",
              "      <th></th>\n",
              "      <th></th>\n",
              "    </tr>\n",
              "  </thead>\n",
              "  <tbody>\n",
              "    <tr>\n",
              "      <th>Break Points Won</th>\n",
              "      <td>0.0</td>\n",
              "      <td>4.0</td>\n",
              "      <td>6.0</td>\n",
              "      <td>5.0</td>\n",
              "      <td>1.0</td>\n",
              "      <td>4.0</td>\n",
              "      <td>5.0</td>\n",
              "    </tr>\n",
              "  </tbody>\n",
              "</table>\n",
              "</div>"
            ],
            "text/plain": [
              "                  Williams S.Final  Williams S.SF  ...  Williams S.R2  Williams S.R1\n",
              "Match Statistics                                   ...                              \n",
              "Break Points Won               0.0            4.0  ...            4.0            5.0\n",
              "\n",
              "[1 rows x 7 columns]"
            ]
          },
          "metadata": {
            "tags": []
          },
          "execution_count": 42
        }
      ]
    },
    {
      "cell_type": "code",
      "metadata": {
        "id": "46MHwgimReUI",
        "colab_type": "code",
        "colab": {}
      },
      "source": [
        "SerenaBP=np.add(SerenaWilliamsStats.iloc[[7]],Serenaopponents.iloc[[6]])"
      ],
      "execution_count": 0,
      "outputs": []
    },
    {
      "cell_type": "code",
      "metadata": {
        "id": "3BUbFYxY90RD",
        "colab_type": "code",
        "outputId": "34dd6a48-49d0-48e8-a9fe-e312238f5239",
        "colab": {
          "base_uri": "https://localhost:8080/",
          "height": 145
        }
      },
      "source": [
        "SerenaBP"
      ],
      "execution_count": 0,
      "outputs": [
        {
          "output_type": "execute_result",
          "data": {
            "text/html": [
              "<div>\n",
              "<style scoped>\n",
              "    .dataframe tbody tr th:only-of-type {\n",
              "        vertical-align: middle;\n",
              "    }\n",
              "\n",
              "    .dataframe tbody tr th {\n",
              "        vertical-align: top;\n",
              "    }\n",
              "\n",
              "    .dataframe thead th {\n",
              "        text-align: right;\n",
              "    }\n",
              "</style>\n",
              "<table border=\"1\" class=\"dataframe\">\n",
              "  <thead>\n",
              "    <tr style=\"text-align: right;\">\n",
              "      <th></th>\n",
              "      <th>Williams S.Final</th>\n",
              "      <th>Williams S.SF</th>\n",
              "      <th>Williams S.QF</th>\n",
              "      <th>Williams S.R4</th>\n",
              "      <th>Williams S.R3</th>\n",
              "      <th>Williams S.R2</th>\n",
              "      <th>Williams S.R1</th>\n",
              "    </tr>\n",
              "    <tr>\n",
              "      <th>Match Statistics</th>\n",
              "      <th></th>\n",
              "      <th></th>\n",
              "      <th></th>\n",
              "      <th></th>\n",
              "      <th></th>\n",
              "      <th></th>\n",
              "      <th></th>\n",
              "    </tr>\n",
              "  </thead>\n",
              "  <tbody>\n",
              "    <tr>\n",
              "      <th>Break Points Won</th>\n",
              "      <td>1.0</td>\n",
              "      <td>5.0</td>\n",
              "      <td>16.0</td>\n",
              "      <td>11.0</td>\n",
              "      <td>6.0</td>\n",
              "      <td>10.0</td>\n",
              "      <td>10.0</td>\n",
              "    </tr>\n",
              "  </tbody>\n",
              "</table>\n",
              "</div>"
            ],
            "text/plain": [
              "                  Williams S.Final  Williams S.SF  ...  Williams S.R2  Williams S.R1\n",
              "Match Statistics                                   ...                              \n",
              "Break Points Won               1.0            5.0  ...           10.0           10.0\n",
              "\n",
              "[1 rows x 7 columns]"
            ]
          },
          "metadata": {
            "tags": []
          },
          "execution_count": 44
        }
      ]
    },
    {
      "cell_type": "code",
      "metadata": {
        "id": "uCkUznWXZGq6",
        "colab_type": "code",
        "colab": {}
      },
      "source": [
        "SerenaopponentBP=np.add(Serenaopponents.iloc[[7]],SerenaWilliamsStats.iloc[[6]])"
      ],
      "execution_count": 0,
      "outputs": []
    },
    {
      "cell_type": "code",
      "metadata": {
        "id": "TJx-jwz59yra",
        "colab_type": "code",
        "outputId": "e0e0468d-a76b-488e-a21a-a0e138a1bb8e",
        "colab": {
          "base_uri": "https://localhost:8080/",
          "height": 110
        }
      },
      "source": [
        "SerenaopponentBP"
      ],
      "execution_count": 0,
      "outputs": [
        {
          "output_type": "execute_result",
          "data": {
            "text/html": [
              "<div>\n",
              "<style scoped>\n",
              "    .dataframe tbody tr th:only-of-type {\n",
              "        vertical-align: middle;\n",
              "    }\n",
              "\n",
              "    .dataframe tbody tr th {\n",
              "        vertical-align: top;\n",
              "    }\n",
              "\n",
              "    .dataframe thead th {\n",
              "        text-align: right;\n",
              "    }\n",
              "</style>\n",
              "<table border=\"1\" class=\"dataframe\">\n",
              "  <thead>\n",
              "    <tr style=\"text-align: right;\">\n",
              "      <th></th>\n",
              "      <th>Halep S.</th>\n",
              "      <th>Strycova B.</th>\n",
              "      <th>Riske A.</th>\n",
              "      <th>Suarez N. C.</th>\n",
              "      <th>Goerges J.</th>\n",
              "      <th>Kaja Juvan</th>\n",
              "      <th>Giulia Gatto-Monticone</th>\n",
              "    </tr>\n",
              "    <tr>\n",
              "      <th>Match Statistics</th>\n",
              "      <th></th>\n",
              "      <th></th>\n",
              "      <th></th>\n",
              "      <th></th>\n",
              "      <th></th>\n",
              "      <th></th>\n",
              "      <th></th>\n",
              "    </tr>\n",
              "  </thead>\n",
              "  <tbody>\n",
              "    <tr>\n",
              "      <th>Break Points Won</th>\n",
              "      <td>5.0</td>\n",
              "      <td>3.0</td>\n",
              "      <td>5.0</td>\n",
              "      <td>3.0</td>\n",
              "      <td>0.0</td>\n",
              "      <td>3.0</td>\n",
              "      <td>4.0</td>\n",
              "    </tr>\n",
              "  </tbody>\n",
              "</table>\n",
              "</div>"
            ],
            "text/plain": [
              "0                 Halep S.  Strycova B.  ...  Kaja Juvan  Giulia Gatto-Monticone\n",
              "Match Statistics                         ...                                    \n",
              "Break Points Won       5.0          3.0  ...         3.0                     4.0\n",
              "\n",
              "[1 rows x 7 columns]"
            ]
          },
          "metadata": {
            "tags": []
          },
          "execution_count": 46
        }
      ]
    },
    {
      "cell_type": "markdown",
      "metadata": {
        "id": "ETz4REb6kgcZ",
        "colab_type": "text"
      },
      "source": [
        "This is the Break Point Conversion which shows how many break points opportunities they were able to turn into points. Keeping this at a high level pressures the opponent's serves which radically shapes the match."
      ]
    },
    {
      "cell_type": "code",
      "metadata": {
        "id": "nFXpZwz_bpU2",
        "colab_type": "code",
        "colab": {}
      },
      "source": [
        "SerenaBPConversion=np.divide(SerenaWilliamsStats.iloc[[7]],SerenaBP)*100"
      ],
      "execution_count": 0,
      "outputs": []
    },
    {
      "cell_type": "code",
      "metadata": {
        "id": "WjG1NepV92zz",
        "colab_type": "code",
        "outputId": "9ce510ac-3ba2-4682-f1c6-66e80147e0f7",
        "colab": {
          "base_uri": "https://localhost:8080/",
          "height": 145
        }
      },
      "source": [
        "SerenaBPConversion"
      ],
      "execution_count": 0,
      "outputs": [
        {
          "output_type": "execute_result",
          "data": {
            "text/html": [
              "<div>\n",
              "<style scoped>\n",
              "    .dataframe tbody tr th:only-of-type {\n",
              "        vertical-align: middle;\n",
              "    }\n",
              "\n",
              "    .dataframe tbody tr th {\n",
              "        vertical-align: top;\n",
              "    }\n",
              "\n",
              "    .dataframe thead th {\n",
              "        text-align: right;\n",
              "    }\n",
              "</style>\n",
              "<table border=\"1\" class=\"dataframe\">\n",
              "  <thead>\n",
              "    <tr style=\"text-align: right;\">\n",
              "      <th></th>\n",
              "      <th>Williams S.Final</th>\n",
              "      <th>Williams S.SF</th>\n",
              "      <th>Williams S.QF</th>\n",
              "      <th>Williams S.R4</th>\n",
              "      <th>Williams S.R3</th>\n",
              "      <th>Williams S.R2</th>\n",
              "      <th>Williams S.R1</th>\n",
              "    </tr>\n",
              "    <tr>\n",
              "      <th>Match Statistics</th>\n",
              "      <th></th>\n",
              "      <th></th>\n",
              "      <th></th>\n",
              "      <th></th>\n",
              "      <th></th>\n",
              "      <th></th>\n",
              "      <th></th>\n",
              "    </tr>\n",
              "  </thead>\n",
              "  <tbody>\n",
              "    <tr>\n",
              "      <th>Break Points Won</th>\n",
              "      <td>0.0</td>\n",
              "      <td>80.0</td>\n",
              "      <td>37.5</td>\n",
              "      <td>45.46875</td>\n",
              "      <td>16.65625</td>\n",
              "      <td>40.0</td>\n",
              "      <td>50.0</td>\n",
              "    </tr>\n",
              "  </tbody>\n",
              "</table>\n",
              "</div>"
            ],
            "text/plain": [
              "                  Williams S.Final  Williams S.SF  ...  Williams S.R2  Williams S.R1\n",
              "Match Statistics                                   ...                              \n",
              "Break Points Won               0.0           80.0  ...           40.0           50.0\n",
              "\n",
              "[1 rows x 7 columns]"
            ]
          },
          "metadata": {
            "tags": []
          },
          "execution_count": 48
        }
      ]
    },
    {
      "cell_type": "code",
      "metadata": {
        "id": "hJWn7UKfcFjy",
        "colab_type": "code",
        "outputId": "c5ce9bd6-f5d7-4b3a-e9e8-de5b4f011269",
        "colab": {
          "base_uri": "https://localhost:8080/",
          "height": 52
        }
      },
      "source": [
        "SerenaopponentBPConversion=np.divide(Serenaopponents.iloc[[7]],SerenaopponentBP)*100"
      ],
      "execution_count": 0,
      "outputs": [
        {
          "output_type": "stream",
          "text": [
            "/usr/local/lib/python3.6/dist-packages/ipykernel_launcher.py:1: RuntimeWarning: invalid value encountered in true_divide\n",
            "  \"\"\"Entry point for launching an IPython kernel.\n"
          ],
          "name": "stderr"
        }
      ]
    },
    {
      "cell_type": "code",
      "metadata": {
        "id": "6cCGShf_9435",
        "colab_type": "code",
        "outputId": "d1fb34e7-61ce-49de-865f-6417e73a57ed",
        "colab": {
          "base_uri": "https://localhost:8080/",
          "height": 110
        }
      },
      "source": [
        "SerenaopponentBPConversion"
      ],
      "execution_count": 0,
      "outputs": [
        {
          "output_type": "execute_result",
          "data": {
            "text/html": [
              "<div>\n",
              "<style scoped>\n",
              "    .dataframe tbody tr th:only-of-type {\n",
              "        vertical-align: middle;\n",
              "    }\n",
              "\n",
              "    .dataframe tbody tr th {\n",
              "        vertical-align: top;\n",
              "    }\n",
              "\n",
              "    .dataframe thead th {\n",
              "        text-align: right;\n",
              "    }\n",
              "</style>\n",
              "<table border=\"1\" class=\"dataframe\">\n",
              "  <thead>\n",
              "    <tr style=\"text-align: right;\">\n",
              "      <th></th>\n",
              "      <th>Halep S.</th>\n",
              "      <th>Strycova B.</th>\n",
              "      <th>Riske A.</th>\n",
              "      <th>Suarez N. C.</th>\n",
              "      <th>Goerges J.</th>\n",
              "      <th>Kaja Juvan</th>\n",
              "      <th>Giulia Gatto-Monticone</th>\n",
              "    </tr>\n",
              "    <tr>\n",
              "      <th>Match Statistics</th>\n",
              "      <th></th>\n",
              "      <th></th>\n",
              "      <th></th>\n",
              "      <th></th>\n",
              "      <th></th>\n",
              "      <th></th>\n",
              "      <th></th>\n",
              "    </tr>\n",
              "  </thead>\n",
              "  <tbody>\n",
              "    <tr>\n",
              "      <th>Break Points Won</th>\n",
              "      <td>80.0</td>\n",
              "      <td>0.0</td>\n",
              "      <td>100.0</td>\n",
              "      <td>33.3125</td>\n",
              "      <td>NaN</td>\n",
              "      <td>100.0</td>\n",
              "      <td>50.0</td>\n",
              "    </tr>\n",
              "  </tbody>\n",
              "</table>\n",
              "</div>"
            ],
            "text/plain": [
              "0                 Halep S.  Strycova B.  ...  Kaja Juvan  Giulia Gatto-Monticone\n",
              "Match Statistics                         ...                                    \n",
              "Break Points Won      80.0          0.0  ...       100.0                    50.0\n",
              "\n",
              "[1 rows x 7 columns]"
            ]
          },
          "metadata": {
            "tags": []
          },
          "execution_count": 50
        }
      ]
    },
    {
      "cell_type": "markdown",
      "metadata": {
        "id": "7W-gJ7BnnF0F",
        "colab_type": "text"
      },
      "source": [
        "We can see that in this tournament, Serena had very fuctluated results. We can see that the matches in which she was not able to achieve 50% conversion are the same matches in which she has lost 1 game, with the game against Georges being an anomaly. This one shows that having a low conversion doesnt necessarily mean that you will not win the match. She had 6 break points compared to her opponent ( 0 ) which shows that Serena was able to drive her opponent to the breaking point however her opponent was able to save a lot. \n",
        "\n",
        "From this I can conclude that keeping conversion high (45%+) and BP opportunities for the opponent low can help in the chances of having a sucessful match."
      ]
    },
    {
      "cell_type": "markdown",
      "metadata": {
        "id": "fpAnQRKLjLWn",
        "colab_type": "text"
      },
      "source": [
        "# Coco Analysis"
      ]
    },
    {
      "cell_type": "markdown",
      "metadata": {
        "id": "hC81d15Y9-HD",
        "colab_type": "text"
      },
      "source": [
        "### Data Cleaning and Formating"
      ]
    },
    {
      "cell_type": "code",
      "metadata": {
        "id": "mouG2Ox_jlZd",
        "colab_type": "code",
        "colab": {}
      },
      "source": [
        "CocoGauff = pd.concat([gauffHalep, gauffHercog, gauffRybarikova,gauffWilliams], axis=1)\n",
        "CocoGauffStats=CocoGauff['Gauff C.']\n"
      ],
      "execution_count": 0,
      "outputs": []
    },
    {
      "cell_type": "code",
      "metadata": {
        "id": "LtFG__Hvqliv",
        "colab_type": "code",
        "colab": {}
      },
      "source": [
        "CocoGauffStats.columns = [\"Gauff C. R4\", \"Gauff C. R3\", \"Gauff C. R2\", \"Gauff C. R1\"]\n"
      ],
      "execution_count": 0,
      "outputs": []
    },
    {
      "cell_type": "code",
      "metadata": {
        "id": "XMPsFY0Z4qoa",
        "colab_type": "code",
        "colab": {}
      },
      "source": [
        "Cocoloss=CocoGauffStats['Gauff C. R4']\n"
      ],
      "execution_count": 0,
      "outputs": []
    },
    {
      "cell_type": "code",
      "metadata": {
        "id": "77L5a5UD51ix",
        "colab_type": "code",
        "colab": {}
      },
      "source": [
        "CocoOpponents=CocoGauff.drop(\"Gauff C.\", axis=1)"
      ],
      "execution_count": 0,
      "outputs": []
    },
    {
      "cell_type": "code",
      "metadata": {
        "id": "6qhjUg9U3tkm",
        "colab_type": "code",
        "colab": {}
      },
      "source": [
        "cocoWins=CocoGauffStats.iloc[:,1:5]\n"
      ],
      "execution_count": 0,
      "outputs": []
    },
    {
      "cell_type": "code",
      "metadata": {
        "id": "FcNs2nYZ5l-I",
        "colab_type": "code",
        "colab": {}
      },
      "source": [
        "CocoGauffStats=CocoGauffStats.astype('float16')\n",
        "Cocoloss=Cocoloss.astype('float16')\n",
        "cocoWins=cocoWins.astype('float16')\n",
        "CocoOpponents=CocoOpponents.astype('float16')"
      ],
      "execution_count": 0,
      "outputs": []
    },
    {
      "cell_type": "markdown",
      "metadata": {
        "id": "okrQtak496cP",
        "colab_type": "text"
      },
      "source": [
        "### Mean and Mean Comparison calculations"
      ]
    },
    {
      "cell_type": "code",
      "metadata": {
        "id": "jvpcbWON4Myx",
        "colab_type": "code",
        "outputId": "43072ec0-2e28-4d6c-c569-411ed5a6eea9",
        "colab": {
          "base_uri": "https://localhost:8080/",
          "height": 347
        }
      },
      "source": [
        "cocoWins.mean(axis=1)"
      ],
      "execution_count": 0,
      "outputs": [
        {
          "output_type": "execute_result",
          "data": {
            "text/plain": [
              "Match Statistics\n",
              "1st Return Points Won            11.335938\n",
              "1st Serve Percentage             68.687500\n",
              "1st Serve Points Won             36.656250\n",
              "2nd Return Points Won            12.000000\n",
              "2nd Serve Points Won             12.000000\n",
              "Aces                              2.666016\n",
              "Break Points Saved                2.000000\n",
              "Break Points Won                  3.000000\n",
              "Double Faults                     4.667969\n",
              "Return Points Won Percentage     39.000000\n",
              "Service Games                    12.000000\n",
              "Service Points Won Percentage    68.687500\n",
              "Total 1st Serve Points           49.656250\n",
              "Total 2nd Serve Points           22.328125\n",
              "Total Points Won Percentage      54.656250\n",
              "Unforced Errors                  20.328125\n",
              "Winners                          20.000000\n",
              "dtype: float16"
            ]
          },
          "metadata": {
            "tags": []
          },
          "execution_count": 57
        }
      ]
    },
    {
      "cell_type": "code",
      "metadata": {
        "id": "QJOuxkOK5C1l",
        "colab_type": "code",
        "colab": {}
      },
      "source": [
        "CocopercentageChange = []\n",
        "for i in range(len(Cocoloss)):\n",
        "  CocopercentageChange.extend(np.subtract(Cocoloss.iloc[[i]],cocoWins.iloc[[i]].mean(axis=1)) / cocoWins.iloc[[i]].mean(axis=1) * 100)\n"
      ],
      "execution_count": 0,
      "outputs": []
    },
    {
      "cell_type": "code",
      "metadata": {
        "id": "_9Y8B1-jjUxo",
        "colab_type": "code",
        "outputId": "5ca69362-0dae-4df6-8305-18e7df3a0e0d",
        "colab": {
          "base_uri": "https://localhost:8080/",
          "height": 312
        }
      },
      "source": [
        "CocopercentageChange"
      ],
      "execution_count": 0,
      "outputs": [
        {
          "output_type": "execute_result",
          "data": {
            "text/plain": [
              "[-29.421875,\n",
              " -3.912109375,\n",
              " -42.6875,\n",
              " -25.0,\n",
              " -33.3125,\n",
              " -100.0,\n",
              " 250.0,\n",
              " -33.3125,\n",
              " -78.5625,\n",
              " -2.5625,\n",
              " -25.0,\n",
              " -30.125,\n",
              " -19.453125,\n",
              " -5.94921875,\n",
              " -21.328125,\n",
              " 42.65625,\n",
              " -25.0]"
            ]
          },
          "metadata": {
            "tags": []
          },
          "execution_count": 59
        }
      ]
    },
    {
      "cell_type": "markdown",
      "metadata": {
        "colab_type": "text",
        "id": "EZelzfxqW2nA"
      },
      "source": [
        "### Return Points Won percentage calculation\n",
        "\n",
        "---\n",
        "\n",
        "Calculation : return points won / opponent's total serve points * 100"
      ]
    },
    {
      "cell_type": "code",
      "metadata": {
        "id": "MjO20IP1cnAf",
        "colab_type": "code",
        "colab": {}
      },
      "source": [
        "Cocofirstreturnpointspercentage=np.divide(CocoGauffStats.iloc[[0]],CocoOpponents.iloc[[12]]) * 100"
      ],
      "execution_count": 0,
      "outputs": []
    },
    {
      "cell_type": "code",
      "metadata": {
        "id": "8fpyCCXIpxo9",
        "colab_type": "code",
        "outputId": "d69636d6-b450-44d5-f12e-14c2db84a08f",
        "colab": {
          "base_uri": "https://localhost:8080/",
          "height": 110
        }
      },
      "source": [
        "Cocofirstreturnpointspercentage"
      ],
      "execution_count": 0,
      "outputs": [
        {
          "output_type": "execute_result",
          "data": {
            "text/html": [
              "<div>\n",
              "<style scoped>\n",
              "    .dataframe tbody tr th:only-of-type {\n",
              "        vertical-align: middle;\n",
              "    }\n",
              "\n",
              "    .dataframe tbody tr th {\n",
              "        vertical-align: top;\n",
              "    }\n",
              "\n",
              "    .dataframe thead th {\n",
              "        text-align: right;\n",
              "    }\n",
              "</style>\n",
              "<table border=\"1\" class=\"dataframe\">\n",
              "  <thead>\n",
              "    <tr style=\"text-align: right;\">\n",
              "      <th></th>\n",
              "      <th>Gauff C. R4</th>\n",
              "      <th>Gauff C. R3</th>\n",
              "      <th>Gauff C. R2</th>\n",
              "      <th>Gauff C. R1</th>\n",
              "    </tr>\n",
              "    <tr>\n",
              "      <th>Match Statistics</th>\n",
              "      <th></th>\n",
              "      <th></th>\n",
              "      <th></th>\n",
              "      <th></th>\n",
              "    </tr>\n",
              "  </thead>\n",
              "  <tbody>\n",
              "    <tr>\n",
              "      <th>1st Return Points Won</th>\n",
              "      <td>24.25</td>\n",
              "      <td>28.5625</td>\n",
              "      <td>29.03125</td>\n",
              "      <td>30.5625</td>\n",
              "    </tr>\n",
              "  </tbody>\n",
              "</table>\n",
              "</div>"
            ],
            "text/plain": [
              "                       Gauff C. R4  Gauff C. R3  Gauff C. R2  Gauff C. R1\n",
              "Match Statistics                                                         \n",
              "1st Return Points Won        24.25      28.5625     29.03125      30.5625"
            ]
          },
          "metadata": {
            "tags": []
          },
          "execution_count": 61
        }
      ]
    },
    {
      "cell_type": "code",
      "metadata": {
        "id": "i5P8LIpapYQc",
        "colab_type": "code",
        "outputId": "3abe88d7-190c-4768-a2c3-f545137b2617",
        "colab": {
          "base_uri": "https://localhost:8080/",
          "height": 110
        }
      },
      "source": [
        "Cocosecondreturnpointspercentage=np.divide(CocoGauffStats.iloc[[3]],CocoOpponents.iloc[[13]]) * 100"
      ],
      "execution_count": 0,
      "outputs": [
        {
          "output_type": "execute_result",
          "data": {
            "text/html": [
              "<div>\n",
              "<style scoped>\n",
              "    .dataframe tbody tr th:only-of-type {\n",
              "        vertical-align: middle;\n",
              "    }\n",
              "\n",
              "    .dataframe tbody tr th {\n",
              "        vertical-align: top;\n",
              "    }\n",
              "\n",
              "    .dataframe thead th {\n",
              "        text-align: right;\n",
              "    }\n",
              "</style>\n",
              "<table border=\"1\" class=\"dataframe\">\n",
              "  <thead>\n",
              "    <tr style=\"text-align: right;\">\n",
              "      <th></th>\n",
              "      <th>Gauff C. R4</th>\n",
              "      <th>Gauff C. R3</th>\n",
              "      <th>Gauff C. R2</th>\n",
              "      <th>Gauff C. R1</th>\n",
              "    </tr>\n",
              "    <tr>\n",
              "      <th>Match Statistics</th>\n",
              "      <th></th>\n",
              "      <th></th>\n",
              "      <th></th>\n",
              "      <th></th>\n",
              "    </tr>\n",
              "  </thead>\n",
              "  <tbody>\n",
              "    <tr>\n",
              "      <th>2nd Return Points Won</th>\n",
              "      <td>9.0</td>\n",
              "      <td>18.0</td>\n",
              "      <td>12.0</td>\n",
              "      <td>6.0</td>\n",
              "    </tr>\n",
              "  </tbody>\n",
              "</table>\n",
              "</div>"
            ],
            "text/plain": [
              "                       Gauff C. R4  Gauff C. R3  Gauff C. R2  Gauff C. R1\n",
              "Match Statistics                                                         \n",
              "2nd Return Points Won          9.0         18.0         12.0          6.0"
            ]
          },
          "metadata": {
            "tags": []
          },
          "execution_count": 210
        }
      ]
    },
    {
      "cell_type": "code",
      "metadata": {
        "id": "no8drYmmpe5q",
        "colab_type": "code",
        "outputId": "80fd3b4a-7aea-40e1-997c-4ef8cbfeea08",
        "colab": {
          "base_uri": "https://localhost:8080/",
          "height": 110
        }
      },
      "source": [
        "Cocosecondreturnpointspercentage"
      ],
      "execution_count": 0,
      "outputs": [
        {
          "output_type": "execute_result",
          "data": {
            "text/html": [
              "<div>\n",
              "<style scoped>\n",
              "    .dataframe tbody tr th:only-of-type {\n",
              "        vertical-align: middle;\n",
              "    }\n",
              "\n",
              "    .dataframe tbody tr th {\n",
              "        vertical-align: top;\n",
              "    }\n",
              "\n",
              "    .dataframe thead th {\n",
              "        text-align: right;\n",
              "    }\n",
              "</style>\n",
              "<table border=\"1\" class=\"dataframe\">\n",
              "  <thead>\n",
              "    <tr style=\"text-align: right;\">\n",
              "      <th></th>\n",
              "      <th>Gauff C. R4</th>\n",
              "      <th>Gauff C. R3</th>\n",
              "      <th>Gauff C. R2</th>\n",
              "      <th>Gauff C. R1</th>\n",
              "    </tr>\n",
              "    <tr>\n",
              "      <th>Match Statistics</th>\n",
              "      <th></th>\n",
              "      <th></th>\n",
              "      <th></th>\n",
              "      <th></th>\n",
              "    </tr>\n",
              "  </thead>\n",
              "  <tbody>\n",
              "    <tr>\n",
              "      <th>2nd Return Points Won</th>\n",
              "      <td>36.0</td>\n",
              "      <td>32.75</td>\n",
              "      <td>54.53125</td>\n",
              "      <td>31.5625</td>\n",
              "    </tr>\n",
              "  </tbody>\n",
              "</table>\n",
              "</div>"
            ],
            "text/plain": [
              "                       Gauff C. R4  Gauff C. R3  Gauff C. R2  Gauff C. R1\n",
              "Match Statistics                                                         \n",
              "2nd Return Points Won         36.0        32.75     54.53125      31.5625"
            ]
          },
          "metadata": {
            "tags": []
          },
          "execution_count": 63
        }
      ]
    },
    {
      "cell_type": "markdown",
      "metadata": {
        "colab_type": "text",
        "id": "dPhVxhMf-XgN"
      },
      "source": [
        "### Break Point Conversion Calculation"
      ]
    },
    {
      "cell_type": "code",
      "metadata": {
        "colab_type": "code",
        "id": "CyPH2SHj-XgP",
        "colab": {}
      },
      "source": [
        "CocoGauffStats"
      ],
      "execution_count": 0,
      "outputs": []
    },
    {
      "cell_type": "code",
      "metadata": {
        "colab_type": "code",
        "outputId": "a98421ae-210a-458b-afa6-6374603f0fad",
        "id": "xQPaqBrU-XgS",
        "colab": {
          "base_uri": "https://localhost:8080/",
          "height": 110
        }
      },
      "source": [
        "CocoGauffStats.iloc[[6]]"
      ],
      "execution_count": 0,
      "outputs": [
        {
          "output_type": "execute_result",
          "data": {
            "text/html": [
              "<div>\n",
              "<style scoped>\n",
              "    .dataframe tbody tr th:only-of-type {\n",
              "        vertical-align: middle;\n",
              "    }\n",
              "\n",
              "    .dataframe tbody tr th {\n",
              "        vertical-align: top;\n",
              "    }\n",
              "\n",
              "    .dataframe thead th {\n",
              "        text-align: right;\n",
              "    }\n",
              "</style>\n",
              "<table border=\"1\" class=\"dataframe\">\n",
              "  <thead>\n",
              "    <tr style=\"text-align: right;\">\n",
              "      <th></th>\n",
              "      <th>Gauff C. R4</th>\n",
              "      <th>Gauff C. R3</th>\n",
              "      <th>Gauff C. R2</th>\n",
              "      <th>Gauff C. R1</th>\n",
              "    </tr>\n",
              "    <tr>\n",
              "      <th>Match Statistics</th>\n",
              "      <th></th>\n",
              "      <th></th>\n",
              "      <th></th>\n",
              "      <th></th>\n",
              "    </tr>\n",
              "  </thead>\n",
              "  <tbody>\n",
              "    <tr>\n",
              "      <th>Break Points Saved</th>\n",
              "      <td>7.0</td>\n",
              "      <td>4.0</td>\n",
              "      <td>0.0</td>\n",
              "      <td>2.0</td>\n",
              "    </tr>\n",
              "  </tbody>\n",
              "</table>\n",
              "</div>"
            ],
            "text/plain": [
              "                    Gauff C. R4  Gauff C. R3  Gauff C. R2  Gauff C. R1\n",
              "Match Statistics                                                      \n",
              "Break Points Saved          7.0          4.0          0.0          2.0"
            ]
          },
          "metadata": {
            "tags": []
          },
          "execution_count": 194
        }
      ]
    },
    {
      "cell_type": "code",
      "metadata": {
        "colab_type": "code",
        "outputId": "094f2d64-5d8e-434e-d3ac-304bda5164e6",
        "id": "uPCAKwMX-XgV",
        "colab": {
          "base_uri": "https://localhost:8080/",
          "height": 110
        }
      },
      "source": [
        "CocoBP=np.add(CocoGauffStats.iloc[[7]],CocoOpponents.iloc[[6]])\n",
        "CocoBP"
      ],
      "execution_count": 0,
      "outputs": [
        {
          "output_type": "execute_result",
          "data": {
            "text/html": [
              "<div>\n",
              "<style scoped>\n",
              "    .dataframe tbody tr th:only-of-type {\n",
              "        vertical-align: middle;\n",
              "    }\n",
              "\n",
              "    .dataframe tbody tr th {\n",
              "        vertical-align: top;\n",
              "    }\n",
              "\n",
              "    .dataframe thead th {\n",
              "        text-align: right;\n",
              "    }\n",
              "</style>\n",
              "<table border=\"1\" class=\"dataframe\">\n",
              "  <thead>\n",
              "    <tr style=\"text-align: right;\">\n",
              "      <th></th>\n",
              "      <th>Gauff C. R4</th>\n",
              "      <th>Gauff C. R3</th>\n",
              "      <th>Gauff C. R2</th>\n",
              "      <th>Gauff C. R1</th>\n",
              "    </tr>\n",
              "    <tr>\n",
              "      <th>Match Statistics</th>\n",
              "      <th></th>\n",
              "      <th></th>\n",
              "      <th></th>\n",
              "      <th></th>\n",
              "    </tr>\n",
              "  </thead>\n",
              "  <tbody>\n",
              "    <tr>\n",
              "      <th>Break Points Won</th>\n",
              "      <td>6.0</td>\n",
              "      <td>3.0</td>\n",
              "      <td>5.0</td>\n",
              "      <td>3.0</td>\n",
              "    </tr>\n",
              "  </tbody>\n",
              "</table>\n",
              "</div>"
            ],
            "text/plain": [
              "                  Gauff C. R4  Gauff C. R3  Gauff C. R2  Gauff C. R1\n",
              "Match Statistics                                                    \n",
              "Break Points Won          6.0          3.0          5.0          3.0"
            ]
          },
          "metadata": {
            "tags": []
          },
          "execution_count": 195
        }
      ]
    },
    {
      "cell_type": "code",
      "metadata": {
        "colab_type": "code",
        "id": "i1ofgvJq-XgX",
        "outputId": "77f32773-8ba7-497c-b060-7c5ba7b09c90",
        "colab": {
          "base_uri": "https://localhost:8080/",
          "height": 110
        }
      },
      "source": [
        "CocoopponentBP=np.add(CocoOpponents.iloc[[7]],CocoGauffStats.iloc[[6]])\n",
        "CocoopponentBP"
      ],
      "execution_count": 0,
      "outputs": [
        {
          "output_type": "execute_result",
          "data": {
            "text/html": [
              "<div>\n",
              "<style scoped>\n",
              "    .dataframe tbody tr th:only-of-type {\n",
              "        vertical-align: middle;\n",
              "    }\n",
              "\n",
              "    .dataframe tbody tr th {\n",
              "        vertical-align: top;\n",
              "    }\n",
              "\n",
              "    .dataframe thead th {\n",
              "        text-align: right;\n",
              "    }\n",
              "</style>\n",
              "<table border=\"1\" class=\"dataframe\">\n",
              "  <thead>\n",
              "    <tr style=\"text-align: right;\">\n",
              "      <th></th>\n",
              "      <th>Halep S.</th>\n",
              "      <th>Hercog P.</th>\n",
              "      <th>Rybarikova M</th>\n",
              "      <th>Williams V.</th>\n",
              "    </tr>\n",
              "    <tr>\n",
              "      <th>Match Statistics</th>\n",
              "      <th></th>\n",
              "      <th></th>\n",
              "      <th></th>\n",
              "      <th></th>\n",
              "    </tr>\n",
              "  </thead>\n",
              "  <tbody>\n",
              "    <tr>\n",
              "      <th>Break Points Won</th>\n",
              "      <td>12.0</td>\n",
              "      <td>8.0</td>\n",
              "      <td>0.0</td>\n",
              "      <td>3.0</td>\n",
              "    </tr>\n",
              "  </tbody>\n",
              "</table>\n",
              "</div>"
            ],
            "text/plain": [
              "0                 Halep S.  Hercog P.  Rybarikova M  Williams V.\n",
              "Match Statistics                                                \n",
              "Break Points Won      12.0        8.0           0.0          3.0"
            ]
          },
          "metadata": {
            "tags": []
          },
          "execution_count": 196
        }
      ]
    },
    {
      "cell_type": "markdown",
      "metadata": {
        "colab_type": "text",
        "id": "SDGTJqk7-Xga"
      },
      "source": [
        "This is the Break Point Conversion which shows how many break points opportunities they were able to turn into points. Keeping this at a high level pressures the opponent's serves which radically shapes the match."
      ]
    },
    {
      "cell_type": "code",
      "metadata": {
        "colab_type": "code",
        "outputId": "5731a1f6-3ab7-4676-854a-e40f5cca0cb5",
        "id": "xwnQxS6E-Xga",
        "colab": {
          "base_uri": "https://localhost:8080/",
          "height": 110
        }
      },
      "source": [
        "CocoBPConversion=np.divide(CocoGauffStats.iloc[[7]],CocoBP)*100\n",
        "CocoBPConversion"
      ],
      "execution_count": 0,
      "outputs": [
        {
          "output_type": "execute_result",
          "data": {
            "text/html": [
              "<div>\n",
              "<style scoped>\n",
              "    .dataframe tbody tr th:only-of-type {\n",
              "        vertical-align: middle;\n",
              "    }\n",
              "\n",
              "    .dataframe tbody tr th {\n",
              "        vertical-align: top;\n",
              "    }\n",
              "\n",
              "    .dataframe thead th {\n",
              "        text-align: right;\n",
              "    }\n",
              "</style>\n",
              "<table border=\"1\" class=\"dataframe\">\n",
              "  <thead>\n",
              "    <tr style=\"text-align: right;\">\n",
              "      <th></th>\n",
              "      <th>Gauff C. R4</th>\n",
              "      <th>Gauff C. R3</th>\n",
              "      <th>Gauff C. R2</th>\n",
              "      <th>Gauff C. R1</th>\n",
              "    </tr>\n",
              "    <tr>\n",
              "      <th>Match Statistics</th>\n",
              "      <th></th>\n",
              "      <th></th>\n",
              "      <th></th>\n",
              "      <th></th>\n",
              "    </tr>\n",
              "  </thead>\n",
              "  <tbody>\n",
              "    <tr>\n",
              "      <th>Break Points Won</th>\n",
              "      <td>33.3125</td>\n",
              "      <td>100.0</td>\n",
              "      <td>60.0</td>\n",
              "      <td>100.0</td>\n",
              "    </tr>\n",
              "  </tbody>\n",
              "</table>\n",
              "</div>"
            ],
            "text/plain": [
              "                  Gauff C. R4  Gauff C. R3  Gauff C. R2  Gauff C. R1\n",
              "Match Statistics                                                    \n",
              "Break Points Won      33.3125        100.0         60.0        100.0"
            ]
          },
          "metadata": {
            "tags": []
          },
          "execution_count": 197
        }
      ]
    },
    {
      "cell_type": "code",
      "metadata": {
        "colab_type": "code",
        "id": "TFkoG4ik-Xgd",
        "colab": {}
      },
      "source": [
        "opponentBPConversion=np.divide(CocoOpponents.iloc[[7]],CocoopponentBP)*100\n",
        "opponentBPConversion\n",
        "\n"
      ],
      "execution_count": 0,
      "outputs": []
    },
    {
      "cell_type": "markdown",
      "metadata": {
        "id": "DzPvvfRQ-9wQ",
        "colab_type": "text"
      },
      "source": [
        "### Evaluation and Results of Analysis/Adjustment *(10 Marks)*\n",
        "Please evaluate your work with analysing and evaluating the data. You should discuss the state of the data originally imported, and discuss any preparation or adjustment performed on the data. You may also choose to display the results of any numerical analysis of the data."
      ]
    },
    {
      "cell_type": "code",
      "metadata": {
        "id": "ne7a8zStp6QQ",
        "colab_type": "code",
        "colab": {}
      },
      "source": [
        "serenaWins.mean(axis=1)\n",
        "serenaWinsDBMean=pd.DataFrame(serenaWins.mean(axis=1))"
      ],
      "execution_count": 0,
      "outputs": []
    },
    {
      "cell_type": "code",
      "metadata": {
        "id": "YboqGabQreQW",
        "colab_type": "code",
        "colab": {}
      },
      "source": [
        "serenaWinsDBMean.columns=[\"Serena Mean\"]"
      ],
      "execution_count": 0,
      "outputs": []
    },
    {
      "cell_type": "code",
      "metadata": {
        "id": "ZHhbqnzLqSj5",
        "colab_type": "code",
        "colab": {}
      },
      "source": [
        "serenalossDB=pd.DataFrame(serenaloss)\n",
        "serenalossDB.columns=[\"Serena Loss\"]"
      ],
      "execution_count": 0,
      "outputs": []
    },
    {
      "cell_type": "code",
      "metadata": {
        "id": "Mf4ERu1jp0A9",
        "colab_type": "code",
        "colab": {}
      },
      "source": [
        "SerenapercentageChangeDB=pd.DataFrame(SerenapercentageChange)"
      ],
      "execution_count": 0,
      "outputs": []
    },
    {
      "cell_type": "code",
      "metadata": {
        "id": "C8CP6Svbq8H0",
        "colab_type": "code",
        "colab": {}
      },
      "source": [
        "SerenapercentageChangeDB.columns=[\"Percentage Change\"]"
      ],
      "execution_count": 0,
      "outputs": []
    },
    {
      "cell_type": "code",
      "metadata": {
        "id": "bw6b3f8usCGD",
        "colab_type": "code",
        "colab": {}
      },
      "source": [
        "SerenapercentageChangeDB"
      ],
      "execution_count": 0,
      "outputs": []
    },
    {
      "cell_type": "code",
      "metadata": {
        "id": "ZYJdviWXrHPn",
        "colab_type": "code",
        "colab": {}
      },
      "source": [
        "SerenapercentageChangeDBCompare= pd.concat([serenalossDB, serenaWinsDBMean], axis=1)"
      ],
      "execution_count": 0,
      "outputs": []
    },
    {
      "cell_type": "code",
      "metadata": {
        "id": "nxmUsTUpr1Fu",
        "colab_type": "code",
        "colab": {}
      },
      "source": [
        "SerenapercentageChangeDBCompare"
      ],
      "execution_count": 0,
      "outputs": []
    },
    {
      "cell_type": "markdown",
      "metadata": {
        "id": "qvz2Pztn-_MC",
        "colab_type": "text"
      },
      "source": [
        "# Visualisation\n",
        "*35 Marks*"
      ]
    },
    {
      "cell_type": "markdown",
      "metadata": {
        "id": "0cLXvuCkBLVK",
        "colab_type": "text"
      },
      "source": [
        "### Data Analysis and Adjustment Tools *(5 marks)*\n",
        "​\n",
        "Please provide an introduction to MatPlotLib (modules, libraries, frameworks) used to visualise data. Please also suggest resources that you have used to obtain information about the tools (this can include documentation, tutorials, websites, question threads). You should format links using Markdown and sensible titles.\n",
        "​\n",
        "*You should use Matplotlib for this section.*\n"
      ]
    },
    {
      "cell_type": "markdown",
      "metadata": {
        "id": "NXt8_9qYPtYt",
        "colab_type": "text"
      },
      "source": [
        "http://benalexkeen.com/bar-charts-in-matplotlib/"
      ]
    },
    {
      "cell_type": "markdown",
      "metadata": {
        "id": "6Y-Zo7fEBv3G",
        "colab_type": "text"
      },
      "source": [
        "### Data Visualisations Code *(10 marks)*\n",
        "Please use MatPlotLib to produce charts including (but not limited to) scatter graphs with trendline and histogram for the adjusted data. In the exceptional circumstances that the first or second stage of your project does not produce acceptable results, you may visualise a related dataset."
      ]
    },
    {
      "cell_type": "code",
      "metadata": {
        "id": "WbO7x__mHwrN",
        "colab_type": "code",
        "colab": {}
      },
      "source": [
        "SerenaBPConversiontable=pd.DataFrame.from_records(SerenaBPConversion)"
      ],
      "execution_count": 0,
      "outputs": []
    },
    {
      "cell_type": "code",
      "metadata": {
        "id": "Ex98lJ0rCSG9",
        "colab_type": "code",
        "colab": {}
      },
      "source": [
        "SerenaBPConversiontable=SerenaBPConversiontable.T"
      ],
      "execution_count": 0,
      "outputs": []
    },
    {
      "cell_type": "code",
      "metadata": {
        "id": "aBHdn0PXnng1",
        "colab_type": "code",
        "colab": {}
      },
      "source": [
        "SerenaBPConversiontable.columns=['Serena']\n",
        "SerenaBPConversiontable = SerenaBPConversiontable.reset_index() \n",
        "SerenaBPConversiontable"
      ],
      "execution_count": 0,
      "outputs": []
    },
    {
      "cell_type": "code",
      "metadata": {
        "id": "kv_X2mloo_ib",
        "colab_type": "code",
        "outputId": "4745bb67-a8a1-46a4-9785-d9e2fc28c4d4",
        "colab": {
          "base_uri": "https://localhost:8080/",
          "height": 365
        }
      },
      "source": [
        "SerenaBPConversiontable.plot(kind='bar', x='index', y='Serena')"
      ],
      "execution_count": 0,
      "outputs": [
        {
          "output_type": "execute_result",
          "data": {
            "text/plain": [
              "<matplotlib.axes._subplots.AxesSubplot at 0x7f258ab03240>"
            ]
          },
          "metadata": {
            "tags": []
          },
          "execution_count": 192
        },
        {
          "output_type": "display_data",
          "data": {
            "image/png": "[encoded data removed]",
            "text/plain": [
              "<Figure size 432x288 with 1 Axes>"
            ]
          },
          "metadata": {
            "tags": []
          }
        }
      ]
    },
    {
      "cell_type": "code",
      "metadata": {
        "id": "hounOfaRsSIF",
        "colab_type": "code",
        "colab": {}
      },
      "source": [
        "SerenafirstreturnpointspercentageTABLE=pd.DataFrame.from_records(Serenafirstreturnpointspercentage)\n",
        "SerenafirstreturnpointspercentageTABLE=SerenafirstreturnpointspercentageTABLE.T\n",
        "SerenasecondreturnpointspercentageTABLE=pd.DataFrame.from_records(Serenasecondreturnpointspercentage)\n",
        "Serenasecondreturnpointspercentage=Serenasecondreturnpointspercentage.T"
      ],
      "execution_count": 0,
      "outputs": []
    },
    {
      "cell_type": "code",
      "metadata": {
        "id": "TX2Cpb2lsdv8",
        "colab_type": "code",
        "colab": {}
      },
      "source": [
        "SerenafirstreturnpointspercentageTABLE.columns=['Serena']\n",
        "SerenasecondreturnpointspercentageTABLE.columns=['Serena']"
      ],
      "execution_count": 0,
      "outputs": []
    },
    {
      "cell_type": "code",
      "metadata": {
        "id": "TvZ5fXFwszT5",
        "colab_type": "code",
        "outputId": "88138adb-5f1d-45b9-fccf-513c0c2173d8",
        "colab": {
          "base_uri": "https://localhost:8080/",
          "height": 263
        }
      },
      "source": [
        "SerenafirstreturnpointspercentageTABLE = SerenafirstreturnpointspercentageTABLE.reset_index() \n",
        "SerenasecondreturnpointspercentageTABLE = SerenasecondreturnpointspercentageTABLE.reset_index() "
      ],
      "execution_count": 0,
      "outputs": [
        {
          "output_type": "execute_result",
          "data": {
            "text/html": [
              "<div>\n",
              "<style scoped>\n",
              "    .dataframe tbody tr th:only-of-type {\n",
              "        vertical-align: middle;\n",
              "    }\n",
              "\n",
              "    .dataframe tbody tr th {\n",
              "        vertical-align: top;\n",
              "    }\n",
              "\n",
              "    .dataframe thead th {\n",
              "        text-align: right;\n",
              "    }\n",
              "</style>\n",
              "<table border=\"1\" class=\"dataframe\">\n",
              "  <thead>\n",
              "    <tr style=\"text-align: right;\">\n",
              "      <th></th>\n",
              "      <th>index</th>\n",
              "      <th>Serena</th>\n",
              "    </tr>\n",
              "  </thead>\n",
              "  <tbody>\n",
              "    <tr>\n",
              "      <th>0</th>\n",
              "      <td>Williams S.Final</td>\n",
              "      <td>18.750000</td>\n",
              "    </tr>\n",
              "    <tr>\n",
              "      <th>1</th>\n",
              "      <td>Williams S.SF</td>\n",
              "      <td>48.000000</td>\n",
              "    </tr>\n",
              "    <tr>\n",
              "      <th>2</th>\n",
              "      <td>Williams S.QF</td>\n",
              "      <td>41.375000</td>\n",
              "    </tr>\n",
              "    <tr>\n",
              "      <th>3</th>\n",
              "      <td>Williams S.R4</td>\n",
              "      <td>44.437500</td>\n",
              "    </tr>\n",
              "    <tr>\n",
              "      <th>4</th>\n",
              "      <td>Williams S.R3</td>\n",
              "      <td>17.234375</td>\n",
              "    </tr>\n",
              "    <tr>\n",
              "      <th>5</th>\n",
              "      <td>Williams S.R2</td>\n",
              "      <td>39.625000</td>\n",
              "    </tr>\n",
              "    <tr>\n",
              "      <th>6</th>\n",
              "      <td>Williams S.R1</td>\n",
              "      <td>47.500000</td>\n",
              "    </tr>\n",
              "  </tbody>\n",
              "</table>\n",
              "</div>"
            ],
            "text/plain": [
              "              index     Serena\n",
              "0  Williams S.Final  18.750000\n",
              "1     Williams S.SF  48.000000\n",
              "2     Williams S.QF  41.375000\n",
              "3     Williams S.R4  44.437500\n",
              "4     Williams S.R3  17.234375\n",
              "5     Williams S.R2  39.625000\n",
              "6     Williams S.R1  47.500000"
            ]
          },
          "metadata": {
            "tags": []
          },
          "execution_count": 190
        }
      ]
    },
    {
      "cell_type": "code",
      "metadata": {
        "id": "IjchoLV3s3hL",
        "colab_type": "code",
        "outputId": "da1cca4a-4c03-4f66-ad76-47399f36b7c7",
        "colab": {
          "base_uri": "https://localhost:8080/",
          "height": 762
        }
      },
      "source": [
        "SerenafirstreturnpointspercentageTABLE.plot(kind='bar', x='index', y='Serena')\n",
        "plt.ylabel('Points')\n",
        "plt.xlabel('Games')\n",
        "plt.title('First Return Points Percentage')\n",
        "plt.xticks(ind + width / 2, ('Final', 'S.Final', 'Q.Final', 'R4', 'R3', 'R2', 'R1'))\n",
        "SerenasecondreturnpointspercentageTABLE.plot(kind='bar', x='index', y='Serena')\n",
        "plt.ylabel('Points')\n",
        "plt.xlabel('Games')\n",
        "plt.title('Second Return Points Percentage')\n",
        "plt.xticks(ind + width / 2, ('Final', 'S.Final', 'Q.Final', 'R4', 'R3', 'R2', 'R1'))"
      ],
      "execution_count": 0,
      "outputs": [
        {
          "output_type": "execute_result",
          "data": {
            "text/plain": [
              "([<matplotlib.axis.XTick at 0x7f258aa09390>,\n",
              "  <matplotlib.axis.XTick at 0x7f258ac88c88>,\n",
              "  <matplotlib.axis.XTick at 0x7f258aa07cf8>,\n",
              "  <matplotlib.axis.XTick at 0x7f258a9af2b0>,\n",
              "  <matplotlib.axis.XTick at 0x7f258a9af780>,\n",
              "  <matplotlib.axis.XTick at 0x7f258a9afc50>,\n",
              "  <matplotlib.axis.XTick at 0x7f258a9ac1d0>],\n",
              " <a list of 7 Text xticklabel objects>)"
            ]
          },
          "metadata": {
            "tags": []
          },
          "execution_count": 168
        },
        {
          "output_type": "display_data",
          "data": {
            "image/png": "[encoded data removed]",
            "text/plain": [
              "<Figure size 432x288 with 1 Axes>"
            ]
          },
          "metadata": {
            "tags": []
          }
        },
        {
          "output_type": "display_data",
          "data": {
            "image/png": "[encoded data removed]",
            "text/plain": [
              "<Figure size 432x288 with 1 Axes>"
            ]
          },
          "metadata": {
            "tags": []
          }
        }
      ]
    },
    {
      "cell_type": "code",
      "metadata": {
        "id": "zv9QD8RDMQCo",
        "colab_type": "code",
        "colab": {}
      },
      "source": [
        "SerenaBPTABLE=pd.DataFrame.from_records(SerenaBP)\n",
        "SerenaBPTABLE=SerenaBPTABLE.T\n",
        "SerenaopponentBPTABLE=pd.DataFrame.from_records(SerenaopponentBP)\n",
        "SerenaopponentBPTABLE=SerenaopponentBPTABLE.T"
      ],
      "execution_count": 0,
      "outputs": []
    },
    {
      "cell_type": "code",
      "metadata": {
        "id": "3BgW-eAeMizf",
        "colab_type": "code",
        "colab": {}
      },
      "source": [
        "SerenaBPTABLE.columns=['Serena Break Points Won']\n",
        "SerenaopponentBPTABLE.columns=['Opp Break Points Won']"
      ],
      "execution_count": 0,
      "outputs": []
    },
    {
      "cell_type": "code",
      "metadata": {
        "id": "6F-EVhl8L0Cx",
        "colab_type": "code",
        "colab": {}
      },
      "source": [
        "import matplotlib.pyplot as plt\n",
        "\n",
        "\n",
        "N = 7\n",
        "\n",
        "serena_bp = list(SerenaBPTABLE['Serena Break Points Won'])\n",
        "opp_bp = list(SerenaopponentBPTABLE['Opp Break Points Won'])\n",
        "\n",
        "ind = np.arange(N) \n",
        "width = 0.35       \n",
        "plt.bar(ind, serena_bp, width, label='Serena')\n",
        "plt.bar(ind + width, opp_bp, width,\n",
        "    label='Opp')\n",
        "\n",
        "plt.ylabel('Points')\n",
        "plt.title('Break Points Won by Round')\n",
        "\n",
        "plt.xticks(ind + width / 2, ('Final', 'S.Final', 'Q.Final', 'R4', 'R3', 'R2', 'R1'))\n",
        "plt.legend(loc='best')\n",
        "plt.show()"
      ],
      "execution_count": 0,
      "outputs": []
    },
    {
      "cell_type": "code",
      "metadata": {
        "id": "wBvOMyoc3gel",
        "colab_type": "code",
        "outputId": "a53b46ba-82a5-476c-a3d0-887a91eb6541",
        "colab": {
          "base_uri": "https://localhost:8080/",
          "height": 171
        }
      },
      "source": [
        "CocofirstreturnpointspercentageTABLE=pd.DataFrame.from_records(Cocofirstreturnpointspercentage)\n",
        "CocofirstreturnpointspercentageTABLE=CocofirstreturnpointspercentageTABLE.T\n",
        "CocofirstreturnpointspercentageTABLE.columns=['Coco First Return Point %']\n",
        "CocosecondreturnpointspercentageTABLE=pd.DataFrame.from_records(Cocosecondreturnpointspercentage)\n",
        "CocosecondreturnpointspercentageTABLE=CocosecondreturnpointspercentageTABLE.T\n",
        "CocosecondreturnpointspercentageTABLE.columns=['Coco Second Return Point %']\n"
      ],
      "execution_count": 0,
      "outputs": [
        {
          "output_type": "execute_result",
          "data": {
            "text/html": [
              "<div>\n",
              "<style scoped>\n",
              "    .dataframe tbody tr th:only-of-type {\n",
              "        vertical-align: middle;\n",
              "    }\n",
              "\n",
              "    .dataframe tbody tr th {\n",
              "        vertical-align: top;\n",
              "    }\n",
              "\n",
              "    .dataframe thead th {\n",
              "        text-align: right;\n",
              "    }\n",
              "</style>\n",
              "<table border=\"1\" class=\"dataframe\">\n",
              "  <thead>\n",
              "    <tr style=\"text-align: right;\">\n",
              "      <th></th>\n",
              "      <th>Coco First Return Point %</th>\n",
              "    </tr>\n",
              "  </thead>\n",
              "  <tbody>\n",
              "    <tr>\n",
              "      <th>Gauff C. R4</th>\n",
              "      <td>24.25000</td>\n",
              "    </tr>\n",
              "    <tr>\n",
              "      <th>Gauff C. R3</th>\n",
              "      <td>28.56250</td>\n",
              "    </tr>\n",
              "    <tr>\n",
              "      <th>Gauff C. R2</th>\n",
              "      <td>29.03125</td>\n",
              "    </tr>\n",
              "    <tr>\n",
              "      <th>Gauff C. R1</th>\n",
              "      <td>30.56250</td>\n",
              "    </tr>\n",
              "  </tbody>\n",
              "</table>\n",
              "</div>"
            ],
            "text/plain": [
              "             Coco First Return Point %\n",
              "Gauff C. R4                   24.25000\n",
              "Gauff C. R3                   28.56250\n",
              "Gauff C. R2                   29.03125\n",
              "Gauff C. R1                   30.56250"
            ]
          },
          "metadata": {
            "tags": []
          },
          "execution_count": 188
        }
      ]
    },
    {
      "cell_type": "code",
      "metadata": {
        "id": "AGPzqijS5IHi",
        "colab_type": "code",
        "outputId": "7b9a9c41-f382-490e-c200-4df8215522aa",
        "colab": {
          "base_uri": "https://localhost:8080/",
          "height": 281
        }
      },
      "source": [
        "N = 4\n",
        "\n",
        "serena_1RT = list(SerenafirstreturnpointspercentageTABLE['Serena'])[3:7]\n",
        "coco_1RT = list(CocofirstreturnpointspercentageTABLE['Coco First Return Point %'])\n",
        "\n",
        "ind = np.arange(N) \n",
        "width = 0.35       \n",
        "plt.bar(ind, serena_1RT, width, label='Serena')\n",
        "plt.bar(ind + width, coco_1RT, width,\n",
        "    label='Coco')\n",
        "\n",
        "plt.ylabel('Percentage')\n",
        "plt.title('First Return Point %')\n",
        "\n",
        "plt.xticks(ind + width / 2, ('R4', 'R3', 'R2', 'R1'))\n",
        "plt.legend(loc='best')\n",
        "plt.show()"
      ],
      "execution_count": 0,
      "outputs": [
        {
          "output_type": "display_data",
          "data": {
            "image/png": "[encoded data removed]",
            "text/plain": [
              "<Figure size 432x288 with 1 Axes>"
            ]
          },
          "metadata": {
            "tags": []
          }
        }
      ]
    },
    {
      "cell_type": "code",
      "metadata": {
        "id": "lIFCha1i9NMf",
        "colab_type": "code",
        "outputId": "148367b9-d12d-4cb5-903c-bf5cddc04dcc",
        "colab": {
          "base_uri": "https://localhost:8080/",
          "height": 281
        }
      },
      "source": [
        "N = 4\n",
        "\n",
        "serena_2RT = list(SerenasecondreturnpointspercentageTABLE['Serena'])[3:7]\n",
        "coco_2RT = list(CocosecondreturnpointspercentageTABLE['Coco Second Return Point %'])\n",
        "\n",
        "ind = np.arange(N) \n",
        "width = 0.35       \n",
        "plt.bar(ind, serena_2RT, width, label='Serena')\n",
        "plt.bar(ind + width, coco_2RT, width,\n",
        "    label='Coco')\n",
        "\n",
        "plt.ylabel('Percentage')\n",
        "plt.title('Second Return Point %')\n",
        "\n",
        "plt.xticks(ind + width / 2, ('R4', 'R3', 'R2', 'R1'))\n",
        "plt.legend(loc='best')\n",
        "plt.show()"
      ],
      "execution_count": 0,
      "outputs": [
        {
          "output_type": "display_data",
          "data": {
            "image/png": "[encoded data removed]",
            "text/plain": [
              "<Figure size 432x288 with 1 Axes>"
            ]
          },
          "metadata": {
            "tags": []
          }
        }
      ]
    },
    {
      "cell_type": "code",
      "metadata": {
        "id": "n3t6stCcGIiv",
        "colab_type": "code",
        "outputId": "583fb6d3-7a3b-4aca-daa4-0365bc435baa",
        "colab": {
          "base_uri": "https://localhost:8080/",
          "height": 457
        }
      },
      "source": [
        "#SerenaWilliamsStats\n",
        "#CocoGauffStats\n",
        "SerenaWilliamsStatsTABLE=pd.DataFrame.from_records(SerenaWilliamsStats)\n",
        "SerenaWilliamsStatsTABLE=SerenaWilliamsStatsTABLE.T\n",
        "SerenaWilliamsStatsTABLE.columns=['1st Return Points Won','1st Serve Percentage','1st Serve Points Won','2nd Return Points Won','2nd Serve Points Won','Aces','Break Points Saved','Break Points Won','Double Faults','Return Points Won Percentage','Service Games','Service Points Won Percentage','Total 1st Serve Points','Total 2nd Serve Points','Total Points Won Percentage','Unforced Errors','Winners']\n",
        "\n",
        "CocoGauffStatsTABLE=pd.DataFrame.from_records(CocoGauffStats)\n",
        "CocoGauffStatsTABLE=CocoGauffStatsTABLE.T\n",
        "CocoGauffStatsTABLE.columns=['1st Return Points Won','1st Serve Percentage','1st Serve Points Won','2nd Return Points Won','2nd Serve Points Won','Aces','Break Points Saved','Break Points Won','Double Faults','Return Points Won Percentage','Service Games','Service Points Won Percentage','Total 1st Serve Points','Total 2nd Serve Points','Total Points Won Percentage','Unforced Errors','Winners']"
      ],
      "execution_count": 0,
      "outputs": [
        {
          "output_type": "execute_result",
          "data": {
            "text/html": [
              "<div>\n",
              "<style scoped>\n",
              "    .dataframe tbody tr th:only-of-type {\n",
              "        vertical-align: middle;\n",
              "    }\n",
              "\n",
              "    .dataframe tbody tr th {\n",
              "        vertical-align: top;\n",
              "    }\n",
              "\n",
              "    .dataframe thead th {\n",
              "        text-align: right;\n",
              "    }\n",
              "</style>\n",
              "<table border=\"1\" class=\"dataframe\">\n",
              "  <thead>\n",
              "    <tr style=\"text-align: right;\">\n",
              "      <th></th>\n",
              "      <th>1st Return Points Won</th>\n",
              "      <th>1st Serve Percentage</th>\n",
              "      <th>1st Serve Points Won</th>\n",
              "      <th>2nd Return Points Won</th>\n",
              "      <th>2nd Serve Points Won</th>\n",
              "      <th>Aces</th>\n",
              "      <th>Break Points Saved</th>\n",
              "      <th>Break Points Won</th>\n",
              "      <th>Double Faults</th>\n",
              "      <th>Return Points Won Percentage</th>\n",
              "      <th>Service Games</th>\n",
              "      <th>Service Points Won Percentage</th>\n",
              "      <th>Total 1st Serve Points</th>\n",
              "      <th>Total 2nd Serve Points</th>\n",
              "      <th>Total Points Won Percentage</th>\n",
              "      <th>Unforced Errors</th>\n",
              "      <th>Winners</th>\n",
              "    </tr>\n",
              "  </thead>\n",
              "  <tbody>\n",
              "    <tr>\n",
              "      <th>Williams S.Final</th>\n",
              "      <td>6.0</td>\n",
              "      <td>68.0</td>\n",
              "      <td>19.0</td>\n",
              "      <td>6.0</td>\n",
              "      <td>5.0</td>\n",
              "      <td>2.0</td>\n",
              "      <td>1.0</td>\n",
              "      <td>0.0</td>\n",
              "      <td>1.0</td>\n",
              "      <td>26.0</td>\n",
              "      <td>8.0</td>\n",
              "      <td>55.0</td>\n",
              "      <td>32.0</td>\n",
              "      <td>15.0</td>\n",
              "      <td>42.0</td>\n",
              "      <td>24.0</td>\n",
              "      <td>17.0</td>\n",
              "    </tr>\n",
              "    <tr>\n",
              "      <th>Williams S.SF</th>\n",
              "      <td>12.0</td>\n",
              "      <td>61.0</td>\n",
              "      <td>24.0</td>\n",
              "      <td>8.0</td>\n",
              "      <td>9.0</td>\n",
              "      <td>4.0</td>\n",
              "      <td>3.0</td>\n",
              "      <td>4.0</td>\n",
              "      <td>1.0</td>\n",
              "      <td>51.0</td>\n",
              "      <td>8.0</td>\n",
              "      <td>75.0</td>\n",
              "      <td>27.0</td>\n",
              "      <td>17.0</td>\n",
              "      <td>64.0</td>\n",
              "      <td>10.0</td>\n",
              "      <td>28.0</td>\n",
              "    </tr>\n",
              "    <tr>\n",
              "      <th>Williams S.QF</th>\n",
              "      <td>24.0</td>\n",
              "      <td>58.0</td>\n",
              "      <td>34.0</td>\n",
              "      <td>12.0</td>\n",
              "      <td>20.0</td>\n",
              "      <td>19.0</td>\n",
              "      <td>0.0</td>\n",
              "      <td>6.0</td>\n",
              "      <td>2.0</td>\n",
              "      <td>45.0</td>\n",
              "      <td>15.0</td>\n",
              "      <td>59.0</td>\n",
              "      <td>53.0</td>\n",
              "      <td>39.0</td>\n",
              "      <td>52.0</td>\n",
              "      <td>27.0</td>\n",
              "      <td>48.0</td>\n",
              "    </tr>\n",
              "    <tr>\n",
              "      <th>Williams S.R4</th>\n",
              "      <td>16.0</td>\n",
              "      <td>61.0</td>\n",
              "      <td>21.0</td>\n",
              "      <td>13.0</td>\n",
              "      <td>8.0</td>\n",
              "      <td>2.0</td>\n",
              "      <td>2.0</td>\n",
              "      <td>5.0</td>\n",
              "      <td>0.0</td>\n",
              "      <td>53.0</td>\n",
              "      <td>8.0</td>\n",
              "      <td>66.0</td>\n",
              "      <td>27.0</td>\n",
              "      <td>17.0</td>\n",
              "      <td>58.0</td>\n",
              "      <td>19.0</td>\n",
              "      <td>21.0</td>\n",
              "    </tr>\n",
              "    <tr>\n",
              "      <th>Williams S.R3</th>\n",
              "      <td>5.0</td>\n",
              "      <td>71.0</td>\n",
              "      <td>31.0</td>\n",
              "      <td>15.0</td>\n",
              "      <td>12.0</td>\n",
              "      <td>7.0</td>\n",
              "      <td>0.0</td>\n",
              "      <td>1.0</td>\n",
              "      <td>0.0</td>\n",
              "      <td>37.0</td>\n",
              "      <td>10.0</td>\n",
              "      <td>74.0</td>\n",
              "      <td>41.0</td>\n",
              "      <td>17.0</td>\n",
              "      <td>56.0</td>\n",
              "      <td>15.0</td>\n",
              "      <td>19.0</td>\n",
              "    </tr>\n",
              "    <tr>\n",
              "      <th>Williams S.R2</th>\n",
              "      <td>21.0</td>\n",
              "      <td>54.0</td>\n",
              "      <td>30.0</td>\n",
              "      <td>10.0</td>\n",
              "      <td>17.0</td>\n",
              "      <td>6.0</td>\n",
              "      <td>0.0</td>\n",
              "      <td>4.0</td>\n",
              "      <td>5.0</td>\n",
              "      <td>41.0</td>\n",
              "      <td>13.0</td>\n",
              "      <td>65.0</td>\n",
              "      <td>39.0</td>\n",
              "      <td>33.0</td>\n",
              "      <td>53.0</td>\n",
              "      <td>26.0</td>\n",
              "      <td>25.0</td>\n",
              "    </tr>\n",
              "    <tr>\n",
              "      <th>Williams S.R1</th>\n",
              "      <td>19.0</td>\n",
              "      <td>65.0</td>\n",
              "      <td>25.0</td>\n",
              "      <td>13.0</td>\n",
              "      <td>11.0</td>\n",
              "      <td>7.0</td>\n",
              "      <td>2.0</td>\n",
              "      <td>5.0</td>\n",
              "      <td>2.0</td>\n",
              "      <td>52.0</td>\n",
              "      <td>10.0</td>\n",
              "      <td>65.0</td>\n",
              "      <td>36.0</td>\n",
              "      <td>19.0</td>\n",
              "      <td>58.0</td>\n",
              "      <td>23.0</td>\n",
              "      <td>26.0</td>\n",
              "    </tr>\n",
              "  </tbody>\n",
              "</table>\n",
              "</div>"
            ],
            "text/plain": [
              "                  1st Return Points Won  ...  Winners\n",
              "Williams S.Final                    6.0  ...     17.0\n",
              "Williams S.SF                      12.0  ...     28.0\n",
              "Williams S.QF                      24.0  ...     48.0\n",
              "Williams S.R4                      16.0  ...     21.0\n",
              "Williams S.R3                       5.0  ...     19.0\n",
              "Williams S.R2                      21.0  ...     25.0\n",
              "Williams S.R1                      19.0  ...     26.0\n",
              "\n",
              "[7 rows x 17 columns]"
            ]
          },
          "metadata": {
            "tags": []
          },
          "execution_count": 207
        }
      ]
    },
    {
      "cell_type": "code",
      "metadata": {
        "id": "VcXkeXgqSlIm",
        "colab_type": "code",
        "colab": {}
      },
      "source": [
        "serena_hist=SerenaWilliamsStatsTABLE['Double Faults']\n",
        "coco_hist=CocoGauffStatsTABLE['Double Faults']"
      ],
      "execution_count": 0,
      "outputs": []
    },
    {
      "cell_type": "code",
      "metadata": {
        "id": "qtLOGCvma8Fh",
        "colab_type": "code",
        "colab": {}
      },
      "source": [
        "x = list(serena_hist)\n",
        "plt.hist(x, bins='auto',color='#0504aa')\n",
        "plt.grid(axis='y', alpha=0.75)\n",
        "plt.xlabel('Value',fontsize=15)\n",
        "plt.ylabel('Frequency',fontsize=15)\n",
        "plt.xticks(fontsize=15)\n",
        "plt.yticks(fontsize=15)\n",
        "plt.ylabel('Frequency',fontsize=15)\n",
        "plt.title('Serena Double Faults Histogram',fontsize=15)\n",
        "plt.show()"
      ],
      "execution_count": 0,
      "outputs": []
    },
    {
      "cell_type": "code",
      "metadata": {
        "id": "lKanw5NMghOc",
        "colab_type": "code",
        "outputId": "4217fd43-f86a-4473-a15e-85176a53cdbe",
        "colab": {
          "base_uri": "https://localhost:8080/",
          "height": 525
        }
      },
      "source": [
        "plt.figure(figsize=[10,8])\n",
        "x = list(serena_hist)\n",
        "y = list(coco_hist)\n",
        "plt.grid(axis='y', alpha=0.75)\n",
        "plt.xlabel('Value',fontsize=15)\n",
        "plt.ylabel('Frequency',fontsize=15)\n",
        "plt.xticks(fontsize=15)\n",
        "plt.yticks(fontsize=15)\n",
        "plt.ylabel('Frequency',fontsize=15)\n",
        "plt.title('Serena Double Faults Histogram',fontsize=15)\n",
        "n, bins, patches = plt.hist([x, y],bins='auto')"
      ],
      "execution_count": 0,
      "outputs": [
        {
          "output_type": "display_data",
          "data": {
            "image/png": "[encoded data removed]",
            "text/plain": [
              "<Figure size 720x576 with 1 Axes>"
            ]
          },
          "metadata": {
            "tags": []
          }
        }
      ]
    },
    {
      "cell_type": "markdown",
      "metadata": {
        "id": "EScqT0R-CPw1",
        "colab_type": "text"
      },
      "source": [
        "\n",
        "### Data Visualisations Appearance & Evaluation *(15 marks)*\n",
        "\n",
        "Please evaluate the visualisations used, discussing your visualisation strategy and the means used to create them. Marks in this section will be awarded for the suitability and appearance of visualisations above, though you may choose to repeat them if you would like to comment upon them.\n"
      ]
    },
    {
      "cell_type": "markdown",
      "metadata": {
        "id": "c9jZK1jMCS7G",
        "colab_type": "text"
      },
      "source": [
        ""
      ]
    }
  ]
}