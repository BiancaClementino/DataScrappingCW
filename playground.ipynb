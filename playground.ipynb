{
  "nbformat": 4,
  "nbformat_minor": 0,
  "metadata": {
    "colab": {
      "name": "Untitled3.ipynb",
      "version": "0.3.2",
      "provenance": [],
      "include_colab_link": true
    },
    "kernelspec": {
      "name": "python2",
      "display_name": "Python 2"
    }
  },
  "cells": [
    {
      "cell_type": "markdown",
      "metadata": {
        "id": "view-in-github",
        "colab_type": "text"
      },
      "source": [
        "<a href=\"https://colab.research.google.com/github/BiancaClementino/DataScrappingCW/blob/master/playground.ipynb\" target=\"_parent\"><img src=\"https://colab.research.google.com/assets/colab-badge.svg\" alt=\"Open In Colab\"/></a>"
      ]
    },
    {
      "cell_type": "code",
      "metadata": {
        "id": "NbmPJGW_jpC0",
        "colab_type": "code",
        "colab": {}
      },
      "source": [
        "import requests\n",
        "import json\n",
        "from bs4 import BeautifulSoup\n",
        "\n",
        "page = requests.get(\"https://www.wtatennis.com/gs-scores/2019/4\")\n",
        "soup = BeautifulSoup(json.loads(page.content)[u'html'], 'html.parser')\n",
        "soup"
      ],
      "execution_count": 0,
      "outputs": []
    },
    {
      "cell_type": "code",
      "metadata": {
        "id": "hNRlp9efj_I6",
        "colab_type": "code",
        "colab": {}
      },
      "source": [
        "print(soup.prettify())"
      ],
      "execution_count": 0,
      "outputs": []
    },
    {
      "cell_type": "code",
      "metadata": {
        "id": "hUfuYP5lkcP4",
        "colab_type": "code",
        "colab": {}
      },
      "source": [
        "soup.find(\"div\",class_=\"singles-items\" ).get_text()"
      ],
      "execution_count": 0,
      "outputs": []
    },
    {
      "cell_type": "code",
      "metadata": {
        "id": "gvRbJwgynB0f",
        "colab_type": "code",
        "colab": {}
      },
      "source": [
        "print(soup.find(\"tr\",class_=\"white\" ))"
      ],
      "execution_count": 0,
      "outputs": []
    },
    {
      "cell_type": "code",
      "metadata": {
        "id": "fr3WGVg1okJW",
        "colab_type": "code",
        "colab": {}
      },
      "source": [
        "content=soup.find(\"div\",class_=\"singles-items\")\n",
        "content"
      ],
      "execution_count": 0,
      "outputs": []
    },
    {
      "cell_type": "code",
      "metadata": {
        "id": "R7WDT5Ewo5Hc",
        "colab_type": "code",
        "colab": {}
      },
      "source": [
        "rows=content.find_all(\"tr\")"
      ],
      "execution_count": 0,
      "outputs": []
    },
    {
      "cell_type": "code",
      "metadata": {
        "id": "4ReXTdvtp423",
        "colab_type": "code",
        "colab": {}
      },
      "source": [
        "#filtering\n",
        "\"Serena\" in rows[0].get_text()"
      ],
      "execution_count": 0,
      "outputs": []
    },
    {
      "cell_type": "code",
      "metadata": {
        "id": "LfUvpOUfrEX5",
        "colab_type": "code",
        "colab": {}
      },
      "source": [
        "serena = [line for line in rows if \"Serena\" in line.get_text()]\n",
        "serena"
      ],
      "execution_count": 0,
      "outputs": []
    },
    {
      "cell_type": "code",
      "metadata": {
        "id": "OvkmSGdbrchh",
        "colab_type": "code",
        "colab": {}
      },
      "source": [
        "def filterByName (name):\n",
        "  return [line for line in rows if name in line.get_text()]"
      ],
      "execution_count": 0,
      "outputs": []
    },
    {
      "cell_type": "code",
      "metadata": {
        "id": "Pek4ozKhrom-",
        "colab_type": "code",
        "colab": {}
      },
      "source": [
        "Naomi=filterByName(\"Naomi\")"
      ],
      "execution_count": 0,
      "outputs": []
    },
    {
      "cell_type": "code",
      "metadata": {
        "id": "hsKNgbEXsa2w",
        "colab_type": "code",
        "colab": {}
      },
      "source": [
        "Gauff=filterByName(\"Gauff\")\n",
        "Gauff"
      ],
      "execution_count": 0,
      "outputs": []
    },
    {
      "cell_type": "code",
      "metadata": {
        "id": "EuCgfHv-w-zW",
        "colab_type": "code",
        "colab": {}
      },
      "source": [
        "https://www.scorespro.com/tennis/livescore/williams-s-vs-halep-s/13-07-2019/"
      ],
      "execution_count": 0,
      "outputs": []
    },
    {
      "cell_type": "code",
      "metadata": {
        "id": "futocmQ3xAbV",
        "colab_type": "code",
        "colab": {
          "base_uri": "https://localhost:8080/",
          "height": 260
        },
        "outputId": "307dba88-c6d5-4eb9-c375-d3513f17608b"
      },
      "source": [
        "for match in serena:\n",
        "  for i in range(2):\n",
        "    shortnamehtml=match.find_all(\"div\", class_=\"mobile-name\")[i]\n",
        "    print('-'.join(reversed(shortnamehtml.find_all(\"a\")[1].string.strip().split(\".\"))).lower())\n",
        "  \n",
        "  "
      ],
      "execution_count": 68,
      "outputs": [
        {
          "output_type": "stream",
          "text": [
            "halep-s\n",
            "williams-s\n",
            "williams-s\n",
            "strycova-b\n",
            "williams-s\n",
            "riske-a\n",
            "williams-s\n",
            "suarez-c\n",
            "williams-s\n",
            "goerges-j\n",
            "williams-s\n",
            "juvan-k\n",
            "williams-s\n",
            "gatto-monticone-g\n"
          ],
          "name": "stdout"
        }
      ]
    },
    {
      "cell_type": "code",
      "metadata": {
        "id": "WRu3eb2Rzdr0",
        "colab_type": "code",
        "colab": {}
      },
      "source": [
        ""
      ],
      "execution_count": 0,
      "outputs": []
    }
  ]
}